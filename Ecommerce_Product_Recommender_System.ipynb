{
  "nbformat": 4,
  "nbformat_minor": 0,
  "metadata": {
    "colab": {
      "provenance": [],
      "toc_visible": true,
      "collapsed_sections": [
        "XEgVgktm2nIT"
      ],
      "gpuType": "T4",
      "mount_file_id": "1hf_PwUUn4Bb1iNovpY2TrDnBCZUd6teB",
      "authorship_tag": "ABX9TyN9Ou89/bVlK49KNU6Qe1yC",
      "include_colab_link": true
    },
    "kernelspec": {
      "name": "python3",
      "display_name": "Python 3"
    },
    "language_info": {
      "name": "python"
    },
    "accelerator": "GPU",
    "gpuClass": "standard"
  },
  "cells": [
    {
      "cell_type": "markdown",
      "metadata": {
        "id": "view-in-github",
        "colab_type": "text"
      },
      "source": [
        "<a href=\"https://colab.research.google.com/github/muhafidz-ahmad/ecommerce-product-recommender-system/blob/main/Ecommerce_Product_Recommender_System.ipynb\" target=\"_parent\"><img src=\"https://colab.research.google.com/assets/colab-badge.svg\" alt=\"Open In Colab\"/></a>"
      ]
    },
    {
      "cell_type": "markdown",
      "source": [
        "# Sistem Rekomendasi Produk E-commerce"
      ],
      "metadata": {
        "id": "ZVKrT5EZt1lb"
      }
    },
    {
      "cell_type": "markdown",
      "source": [
        "# Packages Preparation"
      ],
      "metadata": {
        "id": "q6rMb_vuXGn_"
      }
    },
    {
      "cell_type": "code",
      "execution_count": null,
      "metadata": {
        "id": "XSlwlpUxW-DN"
      },
      "outputs": [],
      "source": [
        "import pandas as pd\n",
        "import numpy as np\n",
        "\n",
        "import matplotlib.pyplot as plt\n",
        "\n",
        "from sklearn.model_selection import train_test_split\n",
        "\n",
        "import tensorflow as tf\n",
        "from tensorflow import keras\n",
        "from tensorflow.keras import layers"
      ]
    },
    {
      "cell_type": "markdown",
      "source": [
        "# Data Collecting"
      ],
      "metadata": {
        "id": "V4CFOyx-XcJr"
      }
    },
    {
      "cell_type": "markdown",
      "source": [
        "## Import dari Kaggle"
      ],
      "metadata": {
        "id": "S4-_FZiuYFJY"
      }
    },
    {
      "cell_type": "markdown",
      "source": [
        "Dataset yang digunakan adalah dataset dari [kaggle](https://www.kaggle.com/datasets/olistbr/brazilian-ecommerce) tentang riwayat transaksi, pelanggan, dan item marketplace di Brazil.\n",
        "\n",
        "Referensi: https://medium.com/codex/tensorflow-deep-learning-recommenders-on-retail-dataset-ce0c50aff5f"
      ],
      "metadata": {
        "id": "3DFANy8sXliV"
      }
    },
    {
      "cell_type": "code",
      "source": [
        "# siapkan API Kaggle\n",
        "!rm -r ~/.kaggle\n",
        "!mkdir ~/.kaggle\n",
        "!cp '/content/drive/MyDrive/Colab Notebooks/kaggle.json' ~/.kaggle/\n",
        "!chmod 600 ~/.kaggle/kaggle.json\n",
        "\n",
        "# download dataset dari kaggle\n",
        "!kaggle datasets download -d olistbr/brazilian-ecommerce\n",
        "\n",
        "# ekstrak hasil download dataset dari kaggle\n",
        "!unzip /content/brazilian-ecommerce.zip -d /content/"
      ],
      "metadata": {
        "colab": {
          "base_uri": "https://localhost:8080/"
        },
        "id": "uAn1Aa8QXdgF",
        "outputId": "91d6191c-b665-4349-e97a-ce68677866af"
      },
      "execution_count": null,
      "outputs": [
        {
          "output_type": "stream",
          "name": "stdout",
          "text": [
            "rm: cannot remove '/root/.kaggle': No such file or directory\n",
            "Downloading brazilian-ecommerce.zip to /content\n",
            " 73% 31.0M/42.6M [00:00<00:00, 129MB/s]\n",
            "100% 42.6M/42.6M [00:00<00:00, 145MB/s]\n",
            "Archive:  /content/brazilian-ecommerce.zip\n",
            "  inflating: /content/olist_customers_dataset.csv  \n",
            "  inflating: /content/olist_geolocation_dataset.csv  \n",
            "  inflating: /content/olist_order_items_dataset.csv  \n",
            "  inflating: /content/olist_order_payments_dataset.csv  \n",
            "  inflating: /content/olist_order_reviews_dataset.csv  \n",
            "  inflating: /content/olist_orders_dataset.csv  \n",
            "  inflating: /content/olist_products_dataset.csv  \n",
            "  inflating: /content/olist_sellers_dataset.csv  \n",
            "  inflating: /content/product_category_name_translation.csv  \n"
          ]
        }
      ]
    },
    {
      "cell_type": "markdown",
      "source": [
        "## Dataframe"
      ],
      "metadata": {
        "id": "Y23P-E9UYHqg"
      }
    },
    {
      "cell_type": "markdown",
      "source": [
        "![dataset](https://i.imgur.com/HRhd2Y0.png)"
      ],
      "metadata": {
        "id": "t8xVwEkwZQz-"
      }
    },
    {
      "cell_type": "markdown",
      "source": [
        "Terdapat 9 skema dataset yang tersedia. Namun pada project ini hanya akan digunakan 6 skema dataset, yaitu:\n",
        "1. olist_order_customers_dataset.csv\n",
        "2. olist_order_items_dataset.csv\n",
        "3. olist_order_reviews_dataset.csv\n",
        "4. olist_orders_dataset.csv\n",
        "5. olist_seller_dataset.csv\n",
        "6. olist_products_dataset.csv\n",
        "7. product_category_name_translation.csv"
      ],
      "metadata": {
        "id": "YLBdw5PEQeoh"
      }
    },
    {
      "cell_type": "code",
      "source": [
        "raw_cust = pd.read_csv('/content/olist_customers_dataset.csv')\n",
        "# raw_geoloc = pd.read_csv('/content/olist_geolocation_dataset.csv')\n",
        "raw_order_items = pd.read_csv('/content/olist_order_items_dataset.csv')\n",
        "# raw_order_payments = pd.read_csv('/content/olist_order_payments_dataset.csv')\n",
        "raw_order_reviews = pd.read_csv('/content/olist_order_reviews_dataset.csv')\n",
        "raw_orders = pd.read_csv('/content/olist_orders_dataset.csv')\n",
        "raw_products = pd.read_csv('/content/olist_products_dataset.csv')\n",
        "raw_sellers = pd.read_csv('/content/olist_sellers_dataset.csv')\n",
        "product_cats_translation = pd.read_csv('/content/product_category_name_translation.csv')\n",
        "\n",
        "print('Dimensi data raw_cust:', raw_cust.shape,\n",
        "      '\\n\\t', list(raw_cust.columns))\n",
        "# print('\\nDimensi data raw_geoloc:', raw_geoloc.shape, '\\n\\t', list(raw_geoloc.columns))\n",
        "print('\\nDimensi data raw_order_items:', raw_order_items.shape,\n",
        "      '\\n\\t', list(raw_order_items.columns))\n",
        "# print('\\nDimensi data raw_order_payments:', raw_order_payments.shape, '\\n\\t', list(raw_order_payments.columns))\n",
        "print('\\nDimensi data raw_order_reviews:', raw_order_reviews.shape,\n",
        "      '\\n\\t', list(raw_order_reviews.columns))\n",
        "print('\\nDimensi data raw_orders:', raw_orders.shape, '\\n\\t', list(raw_orders.columns))\n",
        "print('\\nDimensi data raw_products:', raw_products.shape,\n",
        "      '\\n\\t', list(raw_products.columns))\n",
        "print('\\nDimensi data raw_sellers:', raw_sellers.shape, '\\n\\t', list(raw_sellers.columns))\n",
        "print('\\nDimensi data product_cats_translation:', product_cats_translation.shape,\n",
        "      '\\n\\t', list(product_cats_translation.columns))"
      ],
      "metadata": {
        "colab": {
          "base_uri": "https://localhost:8080/"
        },
        "id": "BzRPVjduYI7E",
        "outputId": "d1ae129f-5354-4759-e9ea-fb3f213ae6f4"
      },
      "execution_count": null,
      "outputs": [
        {
          "output_type": "stream",
          "name": "stdout",
          "text": [
            "Dimensi data raw_cust: (99441, 5) \n",
            "\t ['customer_id', 'customer_unique_id', 'customer_zip_code_prefix', 'customer_city', 'customer_state']\n",
            "\n",
            "Dimensi data raw_order_items: (112650, 7) \n",
            "\t ['order_id', 'order_item_id', 'product_id', 'seller_id', 'shipping_limit_date', 'price', 'freight_value']\n",
            "\n",
            "Dimensi data raw_order_reviews: (99224, 7) \n",
            "\t ['review_id', 'order_id', 'review_score', 'review_comment_title', 'review_comment_message', 'review_creation_date', 'review_answer_timestamp']\n",
            "\n",
            "Dimensi data raw_orders: (99441, 8) \n",
            "\t ['order_id', 'customer_id', 'order_status', 'order_purchase_timestamp', 'order_approved_at', 'order_delivered_carrier_date', 'order_delivered_customer_date', 'order_estimated_delivery_date']\n",
            "\n",
            "Dimensi data raw_products: (32951, 9) \n",
            "\t ['product_id', 'product_category_name', 'product_name_lenght', 'product_description_lenght', 'product_photos_qty', 'product_weight_g', 'product_length_cm', 'product_height_cm', 'product_width_cm']\n",
            "\n",
            "Dimensi data raw_sellers: (3095, 4) \n",
            "\t ['seller_id', 'seller_zip_code_prefix', 'seller_city', 'seller_state']\n",
            "\n",
            "Dimensi data product_cats_translation: (71, 2) \n",
            "\t ['product_category_name', 'product_category_name_english']\n"
          ]
        }
      ]
    },
    {
      "cell_type": "markdown",
      "source": [
        "# Univariate EDA"
      ],
      "metadata": {
        "id": "qN7iYo3hbt1T"
      }
    },
    {
      "cell_type": "markdown",
      "source": [
        "## Order customers dataset"
      ],
      "metadata": {
        "id": "d-x9fBhyToRU"
      }
    },
    {
      "cell_type": "markdown",
      "source": [
        "Pertama akan dieksplorasi data customers dengan mengecek apakah ada missing value dan duplicated data."
      ],
      "metadata": {
        "id": "TamI67ghTMPO"
      }
    },
    {
      "cell_type": "code",
      "source": [
        "raw_cust.isna().sum()"
      ],
      "metadata": {
        "colab": {
          "base_uri": "https://localhost:8080/"
        },
        "id": "RTWswS86bvJD",
        "outputId": "6c06afed-0748-449e-f1cf-e994dfd07c3b"
      },
      "execution_count": null,
      "outputs": [
        {
          "output_type": "execute_result",
          "data": {
            "text/plain": [
              "customer_id                 0\n",
              "customer_unique_id          0\n",
              "customer_zip_code_prefix    0\n",
              "customer_city               0\n",
              "customer_state              0\n",
              "dtype: int64"
            ]
          },
          "metadata": {},
          "execution_count": 4
        }
      ]
    },
    {
      "cell_type": "code",
      "source": [
        "raw_cust.duplicated().sum()"
      ],
      "metadata": {
        "colab": {
          "base_uri": "https://localhost:8080/"
        },
        "id": "71fjdB0NTa6H",
        "outputId": "7adf6080-4c5c-4fd0-b8d1-6b7c43dd4852"
      },
      "execution_count": null,
      "outputs": [
        {
          "output_type": "execute_result",
          "data": {
            "text/plain": [
              "0"
            ]
          },
          "metadata": {},
          "execution_count": 5
        }
      ]
    },
    {
      "cell_type": "markdown",
      "source": [
        "Data customers tidak ada data yang kosong dan tidak ada data duplikat."
      ],
      "metadata": {
        "id": "Doc7yHVmTigD"
      }
    },
    {
      "cell_type": "markdown",
      "source": [
        "Untuk menyederhanakan data, informasi lokasi yang digunakan hanyalah kota customers (_customer_city_)"
      ],
      "metadata": {
        "id": "fiAqE2x2U8Fs"
      }
    },
    {
      "cell_type": "code",
      "source": [
        "raw_cust.drop(['customer_zip_code_prefix', 'customer_state'], axis=1,\n",
        "              inplace=True)\n",
        "raw_cust.info()"
      ],
      "metadata": {
        "colab": {
          "base_uri": "https://localhost:8080/"
        },
        "id": "04aulRX0VrLz",
        "outputId": "2c2614c5-27e8-4be9-9e36-c3df92cde911"
      },
      "execution_count": null,
      "outputs": [
        {
          "output_type": "stream",
          "name": "stdout",
          "text": [
            "<class 'pandas.core.frame.DataFrame'>\n",
            "RangeIndex: 99441 entries, 0 to 99440\n",
            "Data columns (total 3 columns):\n",
            " #   Column              Non-Null Count  Dtype \n",
            "---  ------              --------------  ----- \n",
            " 0   customer_id         99441 non-null  object\n",
            " 1   customer_unique_id  99441 non-null  object\n",
            " 2   customer_city       99441 non-null  object\n",
            "dtypes: object(3)\n",
            "memory usage: 2.3+ MB\n"
          ]
        }
      ]
    },
    {
      "cell_type": "markdown",
      "source": [
        "Selanjutnya akan dilihat nilai unik tiap kolom."
      ],
      "metadata": {
        "id": "RKgmVSOJXRoh"
      }
    },
    {
      "cell_type": "code",
      "source": [
        "print('Jumlah customers: ', len(raw_cust.customer_id.unique()))\n",
        "print('Jumlah customers unik: ', len(raw_cust.customer_unique_id.unique()))\n",
        "print('Jumlah kota unik:', len(raw_cust.customer_city.unique()))"
      ],
      "metadata": {
        "colab": {
          "base_uri": "https://localhost:8080/"
        },
        "id": "u9Xg_QxdThJG",
        "outputId": "14e182f8-d9d8-4311-a8f2-e3989ad50dbd"
      },
      "execution_count": null,
      "outputs": [
        {
          "output_type": "stream",
          "name": "stdout",
          "text": [
            "Jumlah customers:  99441\n",
            "Jumlah customers unik:  96096\n",
            "Jumlah kota unik: 4119\n"
          ]
        }
      ]
    },
    {
      "cell_type": "code",
      "source": [
        "raw_cust.customer_city.value_counts()[:10].sort_values(ascending=True).plot(kind='barh',\n",
        "                                                                            title='Jumlah pembeli tiap kota')"
      ],
      "metadata": {
        "colab": {
          "base_uri": "https://localhost:8080/",
          "height": 469
        },
        "id": "-AApaHQhe6_k",
        "outputId": "3f333160-7565-4449-9015-36159462d655"
      },
      "execution_count": null,
      "outputs": [
        {
          "output_type": "execute_result",
          "data": {
            "text/plain": [
              "<Axes: title={'center': 'Jumlah pembeli tiap kota'}>"
            ]
          },
          "metadata": {},
          "execution_count": 8
        },
        {
          "output_type": "display_data",
          "data": {
            "text/plain": [
              "<Figure size 640x480 with 1 Axes>"
            ],
            "image/png": "[encoded data removed]"
          },
          "metadata": {}
        }
      ]
    },
    {
      "cell_type": "markdown",
      "source": [
        "## Order items dataset"
      ],
      "metadata": {
        "id": "mOa0nxOhWFAR"
      }
    },
    {
      "cell_type": "markdown",
      "source": [
        "Seperti biasa, cek dulu kondisi data"
      ],
      "metadata": {
        "id": "UG_u-LYjWzva"
      }
    },
    {
      "cell_type": "code",
      "source": [
        "raw_order_items.isna().sum()"
      ],
      "metadata": {
        "colab": {
          "base_uri": "https://localhost:8080/"
        },
        "id": "nB4Ddmu4WvQa",
        "outputId": "7eb3a743-4246-457d-ea64-26ee35d85ac5"
      },
      "execution_count": null,
      "outputs": [
        {
          "output_type": "execute_result",
          "data": {
            "text/plain": [
              "order_id               0\n",
              "order_item_id          0\n",
              "product_id             0\n",
              "seller_id              0\n",
              "shipping_limit_date    0\n",
              "price                  0\n",
              "freight_value          0\n",
              "dtype: int64"
            ]
          },
          "metadata": {},
          "execution_count": 9
        }
      ]
    },
    {
      "cell_type": "code",
      "source": [
        "raw_order_items.duplicated().sum()"
      ],
      "metadata": {
        "colab": {
          "base_uri": "https://localhost:8080/"
        },
        "id": "za35jPzpW4c1",
        "outputId": "ec076aab-0be4-4ece-986c-98667ff714f2"
      },
      "execution_count": null,
      "outputs": [
        {
          "output_type": "execute_result",
          "data": {
            "text/plain": [
              "0"
            ]
          },
          "metadata": {},
          "execution_count": 10
        }
      ]
    },
    {
      "cell_type": "markdown",
      "source": [
        "Kolom *shipping_limit_date* akan dihapus karena tidak akan digunakan."
      ],
      "metadata": {
        "id": "VRz_OmOUW8YD"
      }
    },
    {
      "cell_type": "code",
      "source": [
        "raw_order_items.drop(['shipping_limit_date'], axis=1,\n",
        "                     inplace=True)\n",
        "raw_order_items.info()"
      ],
      "metadata": {
        "colab": {
          "base_uri": "https://localhost:8080/"
        },
        "id": "KyEZ3hKcXwaV",
        "outputId": "46afe175-f6d9-41e4-a8c5-26ce21c2b982"
      },
      "execution_count": null,
      "outputs": [
        {
          "output_type": "stream",
          "name": "stdout",
          "text": [
            "<class 'pandas.core.frame.DataFrame'>\n",
            "RangeIndex: 112650 entries, 0 to 112649\n",
            "Data columns (total 6 columns):\n",
            " #   Column         Non-Null Count   Dtype  \n",
            "---  ------         --------------   -----  \n",
            " 0   order_id       112650 non-null  object \n",
            " 1   order_item_id  112650 non-null  int64  \n",
            " 2   product_id     112650 non-null  object \n",
            " 3   seller_id      112650 non-null  object \n",
            " 4   price          112650 non-null  float64\n",
            " 5   freight_value  112650 non-null  float64\n",
            "dtypes: float64(2), int64(1), object(3)\n",
            "memory usage: 5.2+ MB\n"
          ]
        }
      ]
    },
    {
      "cell_type": "markdown",
      "source": [
        "Selanjutnya akan dilihat nilai unik tiap kolom."
      ],
      "metadata": {
        "id": "Ow8pzQZjZ7Ef"
      }
    },
    {
      "cell_type": "code",
      "source": [
        "print('Jumlah order_id: ', len(raw_order_items.order_id.unique()))\n",
        "print('Jumlah order_item_id: ', len(raw_order_items.order_item_id.unique()))\n",
        "print('Jumlah product_id: ', len(raw_order_items.product_id.unique()))\n",
        "print('Jumlah seller_id: ', len(raw_order_items.seller_id.unique()))\n",
        "print('Jumlah price: ', len(raw_order_items.price.unique()))\n",
        "print('Jumlah freight_value: ', len(raw_order_items.freight_value.unique()))"
      ],
      "metadata": {
        "colab": {
          "base_uri": "https://localhost:8080/"
        },
        "id": "le-CTQRgZWIW",
        "outputId": "c8d2b8c7-e4ac-4569-82a3-792e3cad97c6"
      },
      "execution_count": null,
      "outputs": [
        {
          "output_type": "stream",
          "name": "stdout",
          "text": [
            "Jumlah order_id:  98666\n",
            "Jumlah order_item_id:  21\n",
            "Jumlah product_id:  32951\n",
            "Jumlah seller_id:  3095\n",
            "Jumlah price:  5968\n",
            "Jumlah freight_value:  6999\n"
          ]
        }
      ]
    },
    {
      "cell_type": "markdown",
      "source": [
        "Selanjutnya akan dilihat statistik deskriptif dari kolom dengan tipe data numerik, yaitu total harga"
      ],
      "metadata": {
        "id": "rNwf56bYZWiV"
      }
    },
    {
      "cell_type": "code",
      "source": [
        "raw_order_items.describe()"
      ],
      "metadata": {
        "colab": {
          "base_uri": "https://localhost:8080/",
          "height": 300
        },
        "id": "1VgEdIeAa1W-",
        "outputId": "4e487c60-1e44-4feb-93ff-cc786580dd4d"
      },
      "execution_count": null,
      "outputs": [
        {
          "output_type": "execute_result",
          "data": {
            "text/plain": [
              "       order_item_id          price  freight_value\n",
              "count  112650.000000  112650.000000  112650.000000\n",
              "mean        1.197834     120.653739      19.990320\n",
              "std         0.705124     183.633928      15.806405\n",
              "min         1.000000       0.850000       0.000000\n",
              "25%         1.000000      39.900000      13.080000\n",
              "50%         1.000000      74.990000      16.260000\n",
              "75%         1.000000     134.900000      21.150000\n",
              "max        21.000000    6735.000000     409.680000"
            ],
            "text/html": [
              "\n",
              "  <div id=\"df-eccbb8d2-a3ef-434e-9a5f-006867c26e83\">\n",
              "    <div class=\"colab-df-container\">\n",
              "      <div>\n",
              "<style scoped>\n",
              "    .dataframe tbody tr th:only-of-type {\n",
              "        vertical-align: middle;\n",
              "    }\n",
              "\n",
              "    .dataframe tbody tr th {\n",
              "        vertical-align: top;\n",
              "    }\n",
              "\n",
              "    .dataframe thead th {\n",
              "        text-align: right;\n",
              "    }\n",
              "</style>\n",
              "<table border=\"1\" class=\"dataframe\">\n",
              "  <thead>\n",
              "    <tr style=\"text-align: right;\">\n",
              "      <th></th>\n",
              "      <th>order_item_id</th>\n",
              "      <th>price</th>\n",
              "      <th>freight_value</th>\n",
              "    </tr>\n",
              "  </thead>\n",
              "  <tbody>\n",
              "    <tr>\n",
              "      <th>count</th>\n",
              "      <td>112650.000000</td>\n",
              "      <td>112650.000000</td>\n",
              "      <td>112650.000000</td>\n",
              "    </tr>\n",
              "    <tr>\n",
              "      <th>mean</th>\n",
              "      <td>1.197834</td>\n",
              "      <td>120.653739</td>\n",
              "      <td>19.990320</td>\n",
              "    </tr>\n",
              "    <tr>\n",
              "      <th>std</th>\n",
              "      <td>0.705124</td>\n",
              "      <td>183.633928</td>\n",
              "      <td>15.806405</td>\n",
              "    </tr>\n",
              "    <tr>\n",
              "      <th>min</th>\n",
              "      <td>1.000000</td>\n",
              "      <td>0.850000</td>\n",
              "      <td>0.000000</td>\n",
              "    </tr>\n",
              "    <tr>\n",
              "      <th>25%</th>\n",
              "      <td>1.000000</td>\n",
              "      <td>39.900000</td>\n",
              "      <td>13.080000</td>\n",
              "    </tr>\n",
              "    <tr>\n",
              "      <th>50%</th>\n",
              "      <td>1.000000</td>\n",
              "      <td>74.990000</td>\n",
              "      <td>16.260000</td>\n",
              "    </tr>\n",
              "    <tr>\n",
              "      <th>75%</th>\n",
              "      <td>1.000000</td>\n",
              "      <td>134.900000</td>\n",
              "      <td>21.150000</td>\n",
              "    </tr>\n",
              "    <tr>\n",
              "      <th>max</th>\n",
              "      <td>21.000000</td>\n",
              "      <td>6735.000000</td>\n",
              "      <td>409.680000</td>\n",
              "    </tr>\n",
              "  </tbody>\n",
              "</table>\n",
              "</div>\n",
              "      <button class=\"colab-df-convert\" onclick=\"convertToInteractive('df-eccbb8d2-a3ef-434e-9a5f-006867c26e83')\"\n",
              "              title=\"Convert this dataframe to an interactive table.\"\n",
              "              style=\"display:none;\">\n",
              "        \n",
              "  <svg xmlns=\"http://www.w3.org/2000/svg\" height=\"24px\"viewBox=\"0 0 24 24\"\n",
              "       width=\"24px\">\n",
              "    <path d=\"M0 0h24v24H0V0z\" fill=\"none\"/>\n",
              "    <path d=\"M18.56 5.44l.94 2.06.94-2.06 2.06-.94-2.06-.94-.94-2.06-.94 2.06-2.06.94zm-11 1L8.5 8.5l.94-2.06 2.06-.94-2.06-.94L8.5 2.5l-.94 2.06-2.06.94zm10 10l.94 2.06.94-2.06 2.06-.94-2.06-.94-.94-2.06-.94 2.06-2.06.94z\"/><path d=\"M17.41 7.96l-1.37-1.37c-.4-.4-.92-.59-1.43-.59-.52 0-1.04.2-1.43.59L10.3 9.45l-7.72 7.72c-.78.78-.78 2.05 0 2.83L4 21.41c.39.39.9.59 1.41.59.51 0 1.02-.2 1.41-.59l7.78-7.78 2.81-2.81c.8-.78.8-2.07 0-2.86zM5.41 20L4 18.59l7.72-7.72 1.47 1.35L5.41 20z\"/>\n",
              "  </svg>\n",
              "      </button>\n",
              "      \n",
              "  <style>\n",
              "    .colab-df-container {\n",
              "      display:flex;\n",
              "      flex-wrap:wrap;\n",
              "      gap: 12px;\n",
              "    }\n",
              "\n",
              "    .colab-df-convert {\n",
              "      background-color: #E8F0FE;\n",
              "      border: none;\n",
              "      border-radius: 50%;\n",
              "      cursor: pointer;\n",
              "      display: none;\n",
              "      fill: #1967D2;\n",
              "      height: 32px;\n",
              "      padding: 0 0 0 0;\n",
              "      width: 32px;\n",
              "    }\n",
              "\n",
              "    .colab-df-convert:hover {\n",
              "      background-color: #E2EBFA;\n",
              "      box-shadow: 0px 1px 2px rgba(60, 64, 67, 0.3), 0px 1px 3px 1px rgba(60, 64, 67, 0.15);\n",
              "      fill: #174EA6;\n",
              "    }\n",
              "\n",
              "    [theme=dark] .colab-df-convert {\n",
              "      background-color: #3B4455;\n",
              "      fill: #D2E3FC;\n",
              "    }\n",
              "\n",
              "    [theme=dark] .colab-df-convert:hover {\n",
              "      background-color: #434B5C;\n",
              "      box-shadow: 0px 1px 3px 1px rgba(0, 0, 0, 0.15);\n",
              "      filter: drop-shadow(0px 1px 2px rgba(0, 0, 0, 0.3));\n",
              "      fill: #FFFFFF;\n",
              "    }\n",
              "  </style>\n",
              "\n",
              "      <script>\n",
              "        const buttonEl =\n",
              "          document.querySelector('#df-eccbb8d2-a3ef-434e-9a5f-006867c26e83 button.colab-df-convert');\n",
              "        buttonEl.style.display =\n",
              "          google.colab.kernel.accessAllowed ? 'block' : 'none';\n",
              "\n",
              "        async function convertToInteractive(key) {\n",
              "          const element = document.querySelector('#df-eccbb8d2-a3ef-434e-9a5f-006867c26e83');\n",
              "          const dataTable =\n",
              "            await google.colab.kernel.invokeFunction('convertToInteractive',\n",
              "                                                     [key], {});\n",
              "          if (!dataTable) return;\n",
              "\n",
              "          const docLinkHtml = 'Like what you see? Visit the ' +\n",
              "            '<a target=\"_blank\" href=https://colab.research.google.com/notebooks/data_table.ipynb>data table notebook</a>'\n",
              "            + ' to learn more about interactive tables.';\n",
              "          element.innerHTML = '';\n",
              "          dataTable['output_type'] = 'display_data';\n",
              "          await google.colab.output.renderOutput(dataTable, element);\n",
              "          const docLink = document.createElement('div');\n",
              "          docLink.innerHTML = docLinkHtml;\n",
              "          element.appendChild(docLink);\n",
              "        }\n",
              "      </script>\n",
              "    </div>\n",
              "  </div>\n",
              "  "
            ]
          },
          "metadata": {},
          "execution_count": 13
        }
      ]
    },
    {
      "cell_type": "markdown",
      "source": [
        "Eksplor sedikit lebih dalam variabel *order_item_id*"
      ],
      "metadata": {
        "id": "lib-6DAAa_Ly"
      }
    },
    {
      "cell_type": "code",
      "source": [
        "raw_order_items.order_item_id.unique()"
      ],
      "metadata": {
        "colab": {
          "base_uri": "https://localhost:8080/"
        },
        "id": "66gJndXVbECt",
        "outputId": "eddce460-1625-43aa-e034-5f5fc7e9d77e"
      },
      "execution_count": null,
      "outputs": [
        {
          "output_type": "execute_result",
          "data": {
            "text/plain": [
              "array([ 1,  2,  3,  4,  5,  6,  7,  8,  9, 10, 11, 12, 13, 14, 15, 16, 17,\n",
              "       18, 19, 20, 21])"
            ]
          },
          "metadata": {},
          "execution_count": 14
        }
      ]
    },
    {
      "cell_type": "code",
      "source": [
        "raw_order_items[raw_order_items.order_item_id == 5]"
      ],
      "metadata": {
        "colab": {
          "base_uri": "https://localhost:8080/",
          "height": 488
        },
        "id": "mzuboon2bL0e",
        "outputId": "798b5e0d-8aa0-41b2-b0f3-cea3aa7ff868"
      },
      "execution_count": null,
      "outputs": [
        {
          "output_type": "execute_result",
          "data": {
            "text/plain": [
              "                                order_id  order_item_id  \\\n",
              "562     0148d3df00cebda592d4e5f966e300cc              5   \n",
              "1136    02a065131a2d2b72b45e2c63135606ad              5   \n",
              "1241    02e0c2efb6d9bb2a95ca90b7e78bec1f              5   \n",
              "1502    03705afa0a4aabe1a734ddb11c1df3f0              5   \n",
              "1597    03aba68b07658f28f29612641f08d4ba              5   \n",
              "...                                  ...            ...   \n",
              "110570  fb3cf8c9eb2412b0edc0a00a8f43a869              5   \n",
              "110677  fb7d6ea70e823cfb1afca3524282cbf9              5   \n",
              "110720  fb8e4428d340ab5bfa482ef6fc97efbc              5   \n",
              "110895  fbf6a5df377654baa14f40156140e563              5   \n",
              "111254  fcbe557f2bb4cd2409d67dec35a1e6f3              5   \n",
              "\n",
              "                              product_id                         seller_id  \\\n",
              "562     ed08ea04c92f5f434c2362f7310fb328  0adac9fbd9a2b63cccaac4f8756c1ca8   \n",
              "1136    993245facdeea0014e73a3e18750c123  1025f0e2d44d7041d6cf58b6550e0bfa   \n",
              "1241    f4041d76285c2a34ad5013e8d287a400  1835b56ce799e6a4dc4eddc053f04066   \n",
              "1502    b40ec43bdfc6d6fdd65e882066a5c895  897060da8b9a21f655304d50fd935913   \n",
              "1597    e7cc48a9daff5436f63d3aad9426f28b  53243585a1d6dc2643021fd1853d8905   \n",
              "...                                  ...                               ...   \n",
              "110570  4cceacaeb21aa22aa51b4c724de3758d  157c3e4b42f81ac4a44e8b1ca2fe9876   \n",
              "110677  53759a2ecddad2bb87a079a1f1519f73  1f50f920176fa81dab994f9023523100   \n",
              "110720  53b36df67ebb7c41585e8d54d6772e08  4869f7a5dfa277a7dca6462dcf3b52b2   \n",
              "110895  98a4301b1aacd45984603af55b7a1de4  1900267e848ceeba8fa32d80c1a5f5a8   \n",
              "111254  0a9c1531aa7c17c8c64157b634fa9ba9  86ccac0b835037332a596a33b6949ee1   \n",
              "\n",
              "         price  freight_value  \n",
              "562       5.53          11.85  \n",
              "1136    125.00          26.95  \n",
              "1241     39.99          12.79  \n",
              "1502    177.00          27.78  \n",
              "1597    170.00          30.44  \n",
              "...        ...            ...  \n",
              "110570   90.00           8.22  \n",
              "110677   53.90          21.35  \n",
              "110720  169.90          12.69  \n",
              "110895   53.00          13.73  \n",
              "111254   29.99          15.10  \n",
              "\n",
              "[460 rows x 6 columns]"
            ],
            "text/html": [
              "\n",
              "  <div id=\"df-435a981d-b08c-4940-bb98-fcd6c0e094e1\">\n",
              "    <div class=\"colab-df-container\">\n",
              "      <div>\n",
              "<style scoped>\n",
              "    .dataframe tbody tr th:only-of-type {\n",
              "        vertical-align: middle;\n",
              "    }\n",
              "\n",
              "    .dataframe tbody tr th {\n",
              "        vertical-align: top;\n",
              "    }\n",
              "\n",
              "    .dataframe thead th {\n",
              "        text-align: right;\n",
              "    }\n",
              "</style>\n",
              "<table border=\"1\" class=\"dataframe\">\n",
              "  <thead>\n",
              "    <tr style=\"text-align: right;\">\n",
              "      <th></th>\n",
              "      <th>order_id</th>\n",
              "      <th>order_item_id</th>\n",
              "      <th>product_id</th>\n",
              "      <th>seller_id</th>\n",
              "      <th>price</th>\n",
              "      <th>freight_value</th>\n",
              "    </tr>\n",
              "  </thead>\n",
              "  <tbody>\n",
              "    <tr>\n",
              "      <th>562</th>\n",
              "      <td>0148d3df00cebda592d4e5f966e300cc</td>\n",
              "      <td>5</td>\n",
              "      <td>ed08ea04c92f5f434c2362f7310fb328</td>\n",
              "      <td>0adac9fbd9a2b63cccaac4f8756c1ca8</td>\n",
              "      <td>5.53</td>\n",
              "      <td>11.85</td>\n",
              "    </tr>\n",
              "    <tr>\n",
              "      <th>1136</th>\n",
              "      <td>02a065131a2d2b72b45e2c63135606ad</td>\n",
              "      <td>5</td>\n",
              "      <td>993245facdeea0014e73a3e18750c123</td>\n",
              "      <td>1025f0e2d44d7041d6cf58b6550e0bfa</td>\n",
              "      <td>125.00</td>\n",
              "      <td>26.95</td>\n",
              "    </tr>\n",
              "    <tr>\n",
              "      <th>1241</th>\n",
              "      <td>02e0c2efb6d9bb2a95ca90b7e78bec1f</td>\n",
              "      <td>5</td>\n",
              "      <td>f4041d76285c2a34ad5013e8d287a400</td>\n",
              "      <td>1835b56ce799e6a4dc4eddc053f04066</td>\n",
              "      <td>39.99</td>\n",
              "      <td>12.79</td>\n",
              "    </tr>\n",
              "    <tr>\n",
              "      <th>1502</th>\n",
              "      <td>03705afa0a4aabe1a734ddb11c1df3f0</td>\n",
              "      <td>5</td>\n",
              "      <td>b40ec43bdfc6d6fdd65e882066a5c895</td>\n",
              "      <td>897060da8b9a21f655304d50fd935913</td>\n",
              "      <td>177.00</td>\n",
              "      <td>27.78</td>\n",
              "    </tr>\n",
              "    <tr>\n",
              "      <th>1597</th>\n",
              "      <td>03aba68b07658f28f29612641f08d4ba</td>\n",
              "      <td>5</td>\n",
              "      <td>e7cc48a9daff5436f63d3aad9426f28b</td>\n",
              "      <td>53243585a1d6dc2643021fd1853d8905</td>\n",
              "      <td>170.00</td>\n",
              "      <td>30.44</td>\n",
              "    </tr>\n",
              "    <tr>\n",
              "      <th>...</th>\n",
              "      <td>...</td>\n",
              "      <td>...</td>\n",
              "      <td>...</td>\n",
              "      <td>...</td>\n",
              "      <td>...</td>\n",
              "      <td>...</td>\n",
              "    </tr>\n",
              "    <tr>\n",
              "      <th>110570</th>\n",
              "      <td>fb3cf8c9eb2412b0edc0a00a8f43a869</td>\n",
              "      <td>5</td>\n",
              "      <td>4cceacaeb21aa22aa51b4c724de3758d</td>\n",
              "      <td>157c3e4b42f81ac4a44e8b1ca2fe9876</td>\n",
              "      <td>90.00</td>\n",
              "      <td>8.22</td>\n",
              "    </tr>\n",
              "    <tr>\n",
              "      <th>110677</th>\n",
              "      <td>fb7d6ea70e823cfb1afca3524282cbf9</td>\n",
              "      <td>5</td>\n",
              "      <td>53759a2ecddad2bb87a079a1f1519f73</td>\n",
              "      <td>1f50f920176fa81dab994f9023523100</td>\n",
              "      <td>53.90</td>\n",
              "      <td>21.35</td>\n",
              "    </tr>\n",
              "    <tr>\n",
              "      <th>110720</th>\n",
              "      <td>fb8e4428d340ab5bfa482ef6fc97efbc</td>\n",
              "      <td>5</td>\n",
              "      <td>53b36df67ebb7c41585e8d54d6772e08</td>\n",
              "      <td>4869f7a5dfa277a7dca6462dcf3b52b2</td>\n",
              "      <td>169.90</td>\n",
              "      <td>12.69</td>\n",
              "    </tr>\n",
              "    <tr>\n",
              "      <th>110895</th>\n",
              "      <td>fbf6a5df377654baa14f40156140e563</td>\n",
              "      <td>5</td>\n",
              "      <td>98a4301b1aacd45984603af55b7a1de4</td>\n",
              "      <td>1900267e848ceeba8fa32d80c1a5f5a8</td>\n",
              "      <td>53.00</td>\n",
              "      <td>13.73</td>\n",
              "    </tr>\n",
              "    <tr>\n",
              "      <th>111254</th>\n",
              "      <td>fcbe557f2bb4cd2409d67dec35a1e6f3</td>\n",
              "      <td>5</td>\n",
              "      <td>0a9c1531aa7c17c8c64157b634fa9ba9</td>\n",
              "      <td>86ccac0b835037332a596a33b6949ee1</td>\n",
              "      <td>29.99</td>\n",
              "      <td>15.10</td>\n",
              "    </tr>\n",
              "  </tbody>\n",
              "</table>\n",
              "<p>460 rows × 6 columns</p>\n",
              "</div>\n",
              "      <button class=\"colab-df-convert\" onclick=\"convertToInteractive('df-435a981d-b08c-4940-bb98-fcd6c0e094e1')\"\n",
              "              title=\"Convert this dataframe to an interactive table.\"\n",
              "              style=\"display:none;\">\n",
              "        \n",
              "  <svg xmlns=\"http://www.w3.org/2000/svg\" height=\"24px\"viewBox=\"0 0 24 24\"\n",
              "       width=\"24px\">\n",
              "    <path d=\"M0 0h24v24H0V0z\" fill=\"none\"/>\n",
              "    <path d=\"M18.56 5.44l.94 2.06.94-2.06 2.06-.94-2.06-.94-.94-2.06-.94 2.06-2.06.94zm-11 1L8.5 8.5l.94-2.06 2.06-.94-2.06-.94L8.5 2.5l-.94 2.06-2.06.94zm10 10l.94 2.06.94-2.06 2.06-.94-2.06-.94-.94-2.06-.94 2.06-2.06.94z\"/><path d=\"M17.41 7.96l-1.37-1.37c-.4-.4-.92-.59-1.43-.59-.52 0-1.04.2-1.43.59L10.3 9.45l-7.72 7.72c-.78.78-.78 2.05 0 2.83L4 21.41c.39.39.9.59 1.41.59.51 0 1.02-.2 1.41-.59l7.78-7.78 2.81-2.81c.8-.78.8-2.07 0-2.86zM5.41 20L4 18.59l7.72-7.72 1.47 1.35L5.41 20z\"/>\n",
              "  </svg>\n",
              "      </button>\n",
              "      \n",
              "  <style>\n",
              "    .colab-df-container {\n",
              "      display:flex;\n",
              "      flex-wrap:wrap;\n",
              "      gap: 12px;\n",
              "    }\n",
              "\n",
              "    .colab-df-convert {\n",
              "      background-color: #E8F0FE;\n",
              "      border: none;\n",
              "      border-radius: 50%;\n",
              "      cursor: pointer;\n",
              "      display: none;\n",
              "      fill: #1967D2;\n",
              "      height: 32px;\n",
              "      padding: 0 0 0 0;\n",
              "      width: 32px;\n",
              "    }\n",
              "\n",
              "    .colab-df-convert:hover {\n",
              "      background-color: #E2EBFA;\n",
              "      box-shadow: 0px 1px 2px rgba(60, 64, 67, 0.3), 0px 1px 3px 1px rgba(60, 64, 67, 0.15);\n",
              "      fill: #174EA6;\n",
              "    }\n",
              "\n",
              "    [theme=dark] .colab-df-convert {\n",
              "      background-color: #3B4455;\n",
              "      fill: #D2E3FC;\n",
              "    }\n",
              "\n",
              "    [theme=dark] .colab-df-convert:hover {\n",
              "      background-color: #434B5C;\n",
              "      box-shadow: 0px 1px 3px 1px rgba(0, 0, 0, 0.15);\n",
              "      filter: drop-shadow(0px 1px 2px rgba(0, 0, 0, 0.3));\n",
              "      fill: #FFFFFF;\n",
              "    }\n",
              "  </style>\n",
              "\n",
              "      <script>\n",
              "        const buttonEl =\n",
              "          document.querySelector('#df-435a981d-b08c-4940-bb98-fcd6c0e094e1 button.colab-df-convert');\n",
              "        buttonEl.style.display =\n",
              "          google.colab.kernel.accessAllowed ? 'block' : 'none';\n",
              "\n",
              "        async function convertToInteractive(key) {\n",
              "          const element = document.querySelector('#df-435a981d-b08c-4940-bb98-fcd6c0e094e1');\n",
              "          const dataTable =\n",
              "            await google.colab.kernel.invokeFunction('convertToInteractive',\n",
              "                                                     [key], {});\n",
              "          if (!dataTable) return;\n",
              "\n",
              "          const docLinkHtml = 'Like what you see? Visit the ' +\n",
              "            '<a target=\"_blank\" href=https://colab.research.google.com/notebooks/data_table.ipynb>data table notebook</a>'\n",
              "            + ' to learn more about interactive tables.';\n",
              "          element.innerHTML = '';\n",
              "          dataTable['output_type'] = 'display_data';\n",
              "          await google.colab.output.renderOutput(dataTable, element);\n",
              "          const docLink = document.createElement('div');\n",
              "          docLink.innerHTML = docLinkHtml;\n",
              "          element.appendChild(docLink);\n",
              "        }\n",
              "      </script>\n",
              "    </div>\n",
              "  </div>\n",
              "  "
            ]
          },
          "metadata": {},
          "execution_count": 15
        }
      ]
    },
    {
      "cell_type": "code",
      "source": [
        "raw_order_items[raw_order_items.order_id == '02a065131a2d2b72b45e2c63135606ad']"
      ],
      "metadata": {
        "colab": {
          "base_uri": "https://localhost:8080/",
          "height": 270
        },
        "id": "S2EXkn42b1FR",
        "outputId": "fdc5cc57-8c00-4e44-cf7a-396e8dd78e6b"
      },
      "execution_count": null,
      "outputs": [
        {
          "output_type": "execute_result",
          "data": {
            "text/plain": [
              "                              order_id  order_item_id  \\\n",
              "1132  02a065131a2d2b72b45e2c63135606ad              1   \n",
              "1133  02a065131a2d2b72b45e2c63135606ad              2   \n",
              "1134  02a065131a2d2b72b45e2c63135606ad              3   \n",
              "1135  02a065131a2d2b72b45e2c63135606ad              4   \n",
              "1136  02a065131a2d2b72b45e2c63135606ad              5   \n",
              "\n",
              "                            product_id                         seller_id  \\\n",
              "1132  993245facdeea0014e73a3e18750c123  1025f0e2d44d7041d6cf58b6550e0bfa   \n",
              "1133  993245facdeea0014e73a3e18750c123  1025f0e2d44d7041d6cf58b6550e0bfa   \n",
              "1134  993245facdeea0014e73a3e18750c123  1025f0e2d44d7041d6cf58b6550e0bfa   \n",
              "1135  993245facdeea0014e73a3e18750c123  1025f0e2d44d7041d6cf58b6550e0bfa   \n",
              "1136  993245facdeea0014e73a3e18750c123  1025f0e2d44d7041d6cf58b6550e0bfa   \n",
              "\n",
              "      price  freight_value  \n",
              "1132  125.0          26.95  \n",
              "1133  125.0          26.95  \n",
              "1134  125.0          26.95  \n",
              "1135  125.0          26.95  \n",
              "1136  125.0          26.95  "
            ],
            "text/html": [
              "\n",
              "  <div id=\"df-f0bf0b88-7ce8-41f7-b6dc-3171156e34e2\">\n",
              "    <div class=\"colab-df-container\">\n",
              "      <div>\n",
              "<style scoped>\n",
              "    .dataframe tbody tr th:only-of-type {\n",
              "        vertical-align: middle;\n",
              "    }\n",
              "\n",
              "    .dataframe tbody tr th {\n",
              "        vertical-align: top;\n",
              "    }\n",
              "\n",
              "    .dataframe thead th {\n",
              "        text-align: right;\n",
              "    }\n",
              "</style>\n",
              "<table border=\"1\" class=\"dataframe\">\n",
              "  <thead>\n",
              "    <tr style=\"text-align: right;\">\n",
              "      <th></th>\n",
              "      <th>order_id</th>\n",
              "      <th>order_item_id</th>\n",
              "      <th>product_id</th>\n",
              "      <th>seller_id</th>\n",
              "      <th>price</th>\n",
              "      <th>freight_value</th>\n",
              "    </tr>\n",
              "  </thead>\n",
              "  <tbody>\n",
              "    <tr>\n",
              "      <th>1132</th>\n",
              "      <td>02a065131a2d2b72b45e2c63135606ad</td>\n",
              "      <td>1</td>\n",
              "      <td>993245facdeea0014e73a3e18750c123</td>\n",
              "      <td>1025f0e2d44d7041d6cf58b6550e0bfa</td>\n",
              "      <td>125.0</td>\n",
              "      <td>26.95</td>\n",
              "    </tr>\n",
              "    <tr>\n",
              "      <th>1133</th>\n",
              "      <td>02a065131a2d2b72b45e2c63135606ad</td>\n",
              "      <td>2</td>\n",
              "      <td>993245facdeea0014e73a3e18750c123</td>\n",
              "      <td>1025f0e2d44d7041d6cf58b6550e0bfa</td>\n",
              "      <td>125.0</td>\n",
              "      <td>26.95</td>\n",
              "    </tr>\n",
              "    <tr>\n",
              "      <th>1134</th>\n",
              "      <td>02a065131a2d2b72b45e2c63135606ad</td>\n",
              "      <td>3</td>\n",
              "      <td>993245facdeea0014e73a3e18750c123</td>\n",
              "      <td>1025f0e2d44d7041d6cf58b6550e0bfa</td>\n",
              "      <td>125.0</td>\n",
              "      <td>26.95</td>\n",
              "    </tr>\n",
              "    <tr>\n",
              "      <th>1135</th>\n",
              "      <td>02a065131a2d2b72b45e2c63135606ad</td>\n",
              "      <td>4</td>\n",
              "      <td>993245facdeea0014e73a3e18750c123</td>\n",
              "      <td>1025f0e2d44d7041d6cf58b6550e0bfa</td>\n",
              "      <td>125.0</td>\n",
              "      <td>26.95</td>\n",
              "    </tr>\n",
              "    <tr>\n",
              "      <th>1136</th>\n",
              "      <td>02a065131a2d2b72b45e2c63135606ad</td>\n",
              "      <td>5</td>\n",
              "      <td>993245facdeea0014e73a3e18750c123</td>\n",
              "      <td>1025f0e2d44d7041d6cf58b6550e0bfa</td>\n",
              "      <td>125.0</td>\n",
              "      <td>26.95</td>\n",
              "    </tr>\n",
              "  </tbody>\n",
              "</table>\n",
              "</div>\n",
              "      <button class=\"colab-df-convert\" onclick=\"convertToInteractive('df-f0bf0b88-7ce8-41f7-b6dc-3171156e34e2')\"\n",
              "              title=\"Convert this dataframe to an interactive table.\"\n",
              "              style=\"display:none;\">\n",
              "        \n",
              "  <svg xmlns=\"http://www.w3.org/2000/svg\" height=\"24px\"viewBox=\"0 0 24 24\"\n",
              "       width=\"24px\">\n",
              "    <path d=\"M0 0h24v24H0V0z\" fill=\"none\"/>\n",
              "    <path d=\"M18.56 5.44l.94 2.06.94-2.06 2.06-.94-2.06-.94-.94-2.06-.94 2.06-2.06.94zm-11 1L8.5 8.5l.94-2.06 2.06-.94-2.06-.94L8.5 2.5l-.94 2.06-2.06.94zm10 10l.94 2.06.94-2.06 2.06-.94-2.06-.94-.94-2.06-.94 2.06-2.06.94z\"/><path d=\"M17.41 7.96l-1.37-1.37c-.4-.4-.92-.59-1.43-.59-.52 0-1.04.2-1.43.59L10.3 9.45l-7.72 7.72c-.78.78-.78 2.05 0 2.83L4 21.41c.39.39.9.59 1.41.59.51 0 1.02-.2 1.41-.59l7.78-7.78 2.81-2.81c.8-.78.8-2.07 0-2.86zM5.41 20L4 18.59l7.72-7.72 1.47 1.35L5.41 20z\"/>\n",
              "  </svg>\n",
              "      </button>\n",
              "      \n",
              "  <style>\n",
              "    .colab-df-container {\n",
              "      display:flex;\n",
              "      flex-wrap:wrap;\n",
              "      gap: 12px;\n",
              "    }\n",
              "\n",
              "    .colab-df-convert {\n",
              "      background-color: #E8F0FE;\n",
              "      border: none;\n",
              "      border-radius: 50%;\n",
              "      cursor: pointer;\n",
              "      display: none;\n",
              "      fill: #1967D2;\n",
              "      height: 32px;\n",
              "      padding: 0 0 0 0;\n",
              "      width: 32px;\n",
              "    }\n",
              "\n",
              "    .colab-df-convert:hover {\n",
              "      background-color: #E2EBFA;\n",
              "      box-shadow: 0px 1px 2px rgba(60, 64, 67, 0.3), 0px 1px 3px 1px rgba(60, 64, 67, 0.15);\n",
              "      fill: #174EA6;\n",
              "    }\n",
              "\n",
              "    [theme=dark] .colab-df-convert {\n",
              "      background-color: #3B4455;\n",
              "      fill: #D2E3FC;\n",
              "    }\n",
              "\n",
              "    [theme=dark] .colab-df-convert:hover {\n",
              "      background-color: #434B5C;\n",
              "      box-shadow: 0px 1px 3px 1px rgba(0, 0, 0, 0.15);\n",
              "      filter: drop-shadow(0px 1px 2px rgba(0, 0, 0, 0.3));\n",
              "      fill: #FFFFFF;\n",
              "    }\n",
              "  </style>\n",
              "\n",
              "      <script>\n",
              "        const buttonEl =\n",
              "          document.querySelector('#df-f0bf0b88-7ce8-41f7-b6dc-3171156e34e2 button.colab-df-convert');\n",
              "        buttonEl.style.display =\n",
              "          google.colab.kernel.accessAllowed ? 'block' : 'none';\n",
              "\n",
              "        async function convertToInteractive(key) {\n",
              "          const element = document.querySelector('#df-f0bf0b88-7ce8-41f7-b6dc-3171156e34e2');\n",
              "          const dataTable =\n",
              "            await google.colab.kernel.invokeFunction('convertToInteractive',\n",
              "                                                     [key], {});\n",
              "          if (!dataTable) return;\n",
              "\n",
              "          const docLinkHtml = 'Like what you see? Visit the ' +\n",
              "            '<a target=\"_blank\" href=https://colab.research.google.com/notebooks/data_table.ipynb>data table notebook</a>'\n",
              "            + ' to learn more about interactive tables.';\n",
              "          element.innerHTML = '';\n",
              "          dataTable['output_type'] = 'display_data';\n",
              "          await google.colab.output.renderOutput(dataTable, element);\n",
              "          const docLink = document.createElement('div');\n",
              "          docLink.innerHTML = docLinkHtml;\n",
              "          element.appendChild(docLink);\n",
              "        }\n",
              "      </script>\n",
              "    </div>\n",
              "  </div>\n",
              "  "
            ]
          },
          "metadata": {},
          "execution_count": 16
        }
      ]
    },
    {
      "cell_type": "markdown",
      "source": [
        "Kolom *order_item_id* akan dihapus karena tidak akan digunakan."
      ],
      "metadata": {
        "id": "9b3se_4tcXxr"
      }
    },
    {
      "cell_type": "code",
      "source": [
        "raw_order_items.drop('order_item_id', axis=1, inplace=True)\n",
        "raw_order_items.info()"
      ],
      "metadata": {
        "colab": {
          "base_uri": "https://localhost:8080/"
        },
        "id": "9b41t79lcb_d",
        "outputId": "78b89c70-8f9c-4004-d8d4-f67f213888ba"
      },
      "execution_count": null,
      "outputs": [
        {
          "output_type": "stream",
          "name": "stdout",
          "text": [
            "<class 'pandas.core.frame.DataFrame'>\n",
            "RangeIndex: 112650 entries, 0 to 112649\n",
            "Data columns (total 5 columns):\n",
            " #   Column         Non-Null Count   Dtype  \n",
            "---  ------         --------------   -----  \n",
            " 0   order_id       112650 non-null  object \n",
            " 1   product_id     112650 non-null  object \n",
            " 2   seller_id      112650 non-null  object \n",
            " 3   price          112650 non-null  float64\n",
            " 4   freight_value  112650 non-null  float64\n",
            "dtypes: float64(2), object(3)\n",
            "memory usage: 4.3+ MB\n"
          ]
        }
      ]
    },
    {
      "cell_type": "markdown",
      "source": [
        "## Order reviews dataset"
      ],
      "metadata": {
        "id": "5tjSQh_UWfj2"
      }
    },
    {
      "cell_type": "code",
      "source": [
        "raw_order_reviews.isna().sum()"
      ],
      "metadata": {
        "colab": {
          "base_uri": "https://localhost:8080/"
        },
        "id": "g9fCiPx5jBAm",
        "outputId": "2cb9aacd-0d02-47bb-fc55-b49124a2507c"
      },
      "execution_count": null,
      "outputs": [
        {
          "output_type": "execute_result",
          "data": {
            "text/plain": [
              "review_id                      0\n",
              "order_id                       0\n",
              "review_score                   0\n",
              "review_comment_title       87656\n",
              "review_comment_message     58247\n",
              "review_creation_date           0\n",
              "review_answer_timestamp        0\n",
              "dtype: int64"
            ]
          },
          "metadata": {},
          "execution_count": 18
        }
      ]
    },
    {
      "cell_type": "code",
      "source": [
        "raw_order_reviews.duplicated().sum()"
      ],
      "metadata": {
        "colab": {
          "base_uri": "https://localhost:8080/"
        },
        "id": "sWstkNn0jgEh",
        "outputId": "7493757f-43f8-4366-993e-24959a2ddbf6"
      },
      "execution_count": null,
      "outputs": [
        {
          "output_type": "execute_result",
          "data": {
            "text/plain": [
              "0"
            ]
          },
          "metadata": {},
          "execution_count": 19
        }
      ]
    },
    {
      "cell_type": "markdown",
      "source": [
        "Terdapat review yang tidak menggunakan pesan atau komentar, hanya berupa skor. Namun project ini hanya akan mengambil skor review saja tanpa menggunakan pesan atau komentar reviewnya, maka kolom *review_comment_title* dan *review_comment_message* akan dihapus."
      ],
      "metadata": {
        "id": "1Q4ILzuCjj8B"
      }
    },
    {
      "cell_type": "code",
      "source": [
        "raw_order_reviews.drop(['review_comment_title', 'review_comment_message'],\n",
        "                       axis=1, inplace=True)\n",
        "raw_order_reviews.head()"
      ],
      "metadata": {
        "colab": {
          "base_uri": "https://localhost:8080/",
          "height": 250
        },
        "id": "6A4Eq2yfj7e2",
        "outputId": "a1a8ec99-0708-40f9-f810-2fe5229240e3"
      },
      "execution_count": null,
      "outputs": [
        {
          "output_type": "execute_result",
          "data": {
            "text/plain": [
              "                          review_id                          order_id  \\\n",
              "0  7bc2406110b926393aa56f80a40eba40  73fc7af87114b39712e6da79b0a377eb   \n",
              "1  80e641a11e56f04c1ad469d5645fdfde  a548910a1c6147796b98fdf73dbeba33   \n",
              "2  228ce5500dc1d8e020d8d1322874b6f0  f9e4b658b201a9f2ecdecbb34bed034b   \n",
              "3  e64fb393e7b32834bb789ff8bb30750e  658677c97b385a9be170737859d3511b   \n",
              "4  f7c4243c7fe1938f181bec41a392bdeb  8e6bfb81e283fa7e4f11123a3fb894f1   \n",
              "\n",
              "   review_score review_creation_date review_answer_timestamp  \n",
              "0             4  2018-01-18 00:00:00     2018-01-18 21:46:59  \n",
              "1             5  2018-03-10 00:00:00     2018-03-11 03:05:13  \n",
              "2             5  2018-02-17 00:00:00     2018-02-18 14:36:24  \n",
              "3             5  2017-04-21 00:00:00     2017-04-21 22:02:06  \n",
              "4             5  2018-03-01 00:00:00     2018-03-02 10:26:53  "
            ],
            "text/html": [
              "\n",
              "  <div id=\"df-17d2f5c1-27d1-41f0-8c9d-640e91826310\">\n",
              "    <div class=\"colab-df-container\">\n",
              "      <div>\n",
              "<style scoped>\n",
              "    .dataframe tbody tr th:only-of-type {\n",
              "        vertical-align: middle;\n",
              "    }\n",
              "\n",
              "    .dataframe tbody tr th {\n",
              "        vertical-align: top;\n",
              "    }\n",
              "\n",
              "    .dataframe thead th {\n",
              "        text-align: right;\n",
              "    }\n",
              "</style>\n",
              "<table border=\"1\" class=\"dataframe\">\n",
              "  <thead>\n",
              "    <tr style=\"text-align: right;\">\n",
              "      <th></th>\n",
              "      <th>review_id</th>\n",
              "      <th>order_id</th>\n",
              "      <th>review_score</th>\n",
              "      <th>review_creation_date</th>\n",
              "      <th>review_answer_timestamp</th>\n",
              "    </tr>\n",
              "  </thead>\n",
              "  <tbody>\n",
              "    <tr>\n",
              "      <th>0</th>\n",
              "      <td>7bc2406110b926393aa56f80a40eba40</td>\n",
              "      <td>73fc7af87114b39712e6da79b0a377eb</td>\n",
              "      <td>4</td>\n",
              "      <td>2018-01-18 00:00:00</td>\n",
              "      <td>2018-01-18 21:46:59</td>\n",
              "    </tr>\n",
              "    <tr>\n",
              "      <th>1</th>\n",
              "      <td>80e641a11e56f04c1ad469d5645fdfde</td>\n",
              "      <td>a548910a1c6147796b98fdf73dbeba33</td>\n",
              "      <td>5</td>\n",
              "      <td>2018-03-10 00:00:00</td>\n",
              "      <td>2018-03-11 03:05:13</td>\n",
              "    </tr>\n",
              "    <tr>\n",
              "      <th>2</th>\n",
              "      <td>228ce5500dc1d8e020d8d1322874b6f0</td>\n",
              "      <td>f9e4b658b201a9f2ecdecbb34bed034b</td>\n",
              "      <td>5</td>\n",
              "      <td>2018-02-17 00:00:00</td>\n",
              "      <td>2018-02-18 14:36:24</td>\n",
              "    </tr>\n",
              "    <tr>\n",
              "      <th>3</th>\n",
              "      <td>e64fb393e7b32834bb789ff8bb30750e</td>\n",
              "      <td>658677c97b385a9be170737859d3511b</td>\n",
              "      <td>5</td>\n",
              "      <td>2017-04-21 00:00:00</td>\n",
              "      <td>2017-04-21 22:02:06</td>\n",
              "    </tr>\n",
              "    <tr>\n",
              "      <th>4</th>\n",
              "      <td>f7c4243c7fe1938f181bec41a392bdeb</td>\n",
              "      <td>8e6bfb81e283fa7e4f11123a3fb894f1</td>\n",
              "      <td>5</td>\n",
              "      <td>2018-03-01 00:00:00</td>\n",
              "      <td>2018-03-02 10:26:53</td>\n",
              "    </tr>\n",
              "  </tbody>\n",
              "</table>\n",
              "</div>\n",
              "      <button class=\"colab-df-convert\" onclick=\"convertToInteractive('df-17d2f5c1-27d1-41f0-8c9d-640e91826310')\"\n",
              "              title=\"Convert this dataframe to an interactive table.\"\n",
              "              style=\"display:none;\">\n",
              "        \n",
              "  <svg xmlns=\"http://www.w3.org/2000/svg\" height=\"24px\"viewBox=\"0 0 24 24\"\n",
              "       width=\"24px\">\n",
              "    <path d=\"M0 0h24v24H0V0z\" fill=\"none\"/>\n",
              "    <path d=\"M18.56 5.44l.94 2.06.94-2.06 2.06-.94-2.06-.94-.94-2.06-.94 2.06-2.06.94zm-11 1L8.5 8.5l.94-2.06 2.06-.94-2.06-.94L8.5 2.5l-.94 2.06-2.06.94zm10 10l.94 2.06.94-2.06 2.06-.94-2.06-.94-.94-2.06-.94 2.06-2.06.94z\"/><path d=\"M17.41 7.96l-1.37-1.37c-.4-.4-.92-.59-1.43-.59-.52 0-1.04.2-1.43.59L10.3 9.45l-7.72 7.72c-.78.78-.78 2.05 0 2.83L4 21.41c.39.39.9.59 1.41.59.51 0 1.02-.2 1.41-.59l7.78-7.78 2.81-2.81c.8-.78.8-2.07 0-2.86zM5.41 20L4 18.59l7.72-7.72 1.47 1.35L5.41 20z\"/>\n",
              "  </svg>\n",
              "      </button>\n",
              "      \n",
              "  <style>\n",
              "    .colab-df-container {\n",
              "      display:flex;\n",
              "      flex-wrap:wrap;\n",
              "      gap: 12px;\n",
              "    }\n",
              "\n",
              "    .colab-df-convert {\n",
              "      background-color: #E8F0FE;\n",
              "      border: none;\n",
              "      border-radius: 50%;\n",
              "      cursor: pointer;\n",
              "      display: none;\n",
              "      fill: #1967D2;\n",
              "      height: 32px;\n",
              "      padding: 0 0 0 0;\n",
              "      width: 32px;\n",
              "    }\n",
              "\n",
              "    .colab-df-convert:hover {\n",
              "      background-color: #E2EBFA;\n",
              "      box-shadow: 0px 1px 2px rgba(60, 64, 67, 0.3), 0px 1px 3px 1px rgba(60, 64, 67, 0.15);\n",
              "      fill: #174EA6;\n",
              "    }\n",
              "\n",
              "    [theme=dark] .colab-df-convert {\n",
              "      background-color: #3B4455;\n",
              "      fill: #D2E3FC;\n",
              "    }\n",
              "\n",
              "    [theme=dark] .colab-df-convert:hover {\n",
              "      background-color: #434B5C;\n",
              "      box-shadow: 0px 1px 3px 1px rgba(0, 0, 0, 0.15);\n",
              "      filter: drop-shadow(0px 1px 2px rgba(0, 0, 0, 0.3));\n",
              "      fill: #FFFFFF;\n",
              "    }\n",
              "  </style>\n",
              "\n",
              "      <script>\n",
              "        const buttonEl =\n",
              "          document.querySelector('#df-17d2f5c1-27d1-41f0-8c9d-640e91826310 button.colab-df-convert');\n",
              "        buttonEl.style.display =\n",
              "          google.colab.kernel.accessAllowed ? 'block' : 'none';\n",
              "\n",
              "        async function convertToInteractive(key) {\n",
              "          const element = document.querySelector('#df-17d2f5c1-27d1-41f0-8c9d-640e91826310');\n",
              "          const dataTable =\n",
              "            await google.colab.kernel.invokeFunction('convertToInteractive',\n",
              "                                                     [key], {});\n",
              "          if (!dataTable) return;\n",
              "\n",
              "          const docLinkHtml = 'Like what you see? Visit the ' +\n",
              "            '<a target=\"_blank\" href=https://colab.research.google.com/notebooks/data_table.ipynb>data table notebook</a>'\n",
              "            + ' to learn more about interactive tables.';\n",
              "          element.innerHTML = '';\n",
              "          dataTable['output_type'] = 'display_data';\n",
              "          await google.colab.output.renderOutput(dataTable, element);\n",
              "          const docLink = document.createElement('div');\n",
              "          docLink.innerHTML = docLinkHtml;\n",
              "          element.appendChild(docLink);\n",
              "        }\n",
              "      </script>\n",
              "    </div>\n",
              "  </div>\n",
              "  "
            ]
          },
          "metadata": {},
          "execution_count": 20
        }
      ]
    },
    {
      "cell_type": "markdown",
      "source": [
        "Selanjutnya kolom *review_creation_date* dan *review_answer_timestamp* akan dihapus."
      ],
      "metadata": {
        "id": "uoY89AgfnGt-"
      }
    },
    {
      "cell_type": "code",
      "source": [
        "raw_order_reviews.drop(['review_creation_date', 'review_answer_timestamp'], \n",
        "                       axis=1, inplace=True)\n",
        "\n",
        "raw_order_reviews.info()"
      ],
      "metadata": {
        "colab": {
          "base_uri": "https://localhost:8080/"
        },
        "id": "_v9oc9W6nQuf",
        "outputId": "24c92f1f-9868-4e77-ff4e-5fce72772bde"
      },
      "execution_count": null,
      "outputs": [
        {
          "output_type": "stream",
          "name": "stdout",
          "text": [
            "<class 'pandas.core.frame.DataFrame'>\n",
            "RangeIndex: 99224 entries, 0 to 99223\n",
            "Data columns (total 3 columns):\n",
            " #   Column        Non-Null Count  Dtype \n",
            "---  ------        --------------  ----- \n",
            " 0   review_id     99224 non-null  object\n",
            " 1   order_id      99224 non-null  object\n",
            " 2   review_score  99224 non-null  int64 \n",
            "dtypes: int64(1), object(2)\n",
            "memory usage: 2.3+ MB\n"
          ]
        }
      ]
    },
    {
      "cell_type": "code",
      "source": [
        "raw_order_reviews.describe()"
      ],
      "metadata": {
        "colab": {
          "base_uri": "https://localhost:8080/",
          "height": 300
        },
        "id": "PfAU2EVOnnr6",
        "outputId": "6ef48fbe-daef-4dcf-8ac8-b396ea9497b9"
      },
      "execution_count": null,
      "outputs": [
        {
          "output_type": "execute_result",
          "data": {
            "text/plain": [
              "       review_score\n",
              "count  99224.000000\n",
              "mean       4.086421\n",
              "std        1.347579\n",
              "min        1.000000\n",
              "25%        4.000000\n",
              "50%        5.000000\n",
              "75%        5.000000\n",
              "max        5.000000"
            ],
            "text/html": [
              "\n",
              "  <div id=\"df-55ccdf34-a326-4472-bb8a-78ff91ab598e\">\n",
              "    <div class=\"colab-df-container\">\n",
              "      <div>\n",
              "<style scoped>\n",
              "    .dataframe tbody tr th:only-of-type {\n",
              "        vertical-align: middle;\n",
              "    }\n",
              "\n",
              "    .dataframe tbody tr th {\n",
              "        vertical-align: top;\n",
              "    }\n",
              "\n",
              "    .dataframe thead th {\n",
              "        text-align: right;\n",
              "    }\n",
              "</style>\n",
              "<table border=\"1\" class=\"dataframe\">\n",
              "  <thead>\n",
              "    <tr style=\"text-align: right;\">\n",
              "      <th></th>\n",
              "      <th>review_score</th>\n",
              "    </tr>\n",
              "  </thead>\n",
              "  <tbody>\n",
              "    <tr>\n",
              "      <th>count</th>\n",
              "      <td>99224.000000</td>\n",
              "    </tr>\n",
              "    <tr>\n",
              "      <th>mean</th>\n",
              "      <td>4.086421</td>\n",
              "    </tr>\n",
              "    <tr>\n",
              "      <th>std</th>\n",
              "      <td>1.347579</td>\n",
              "    </tr>\n",
              "    <tr>\n",
              "      <th>min</th>\n",
              "      <td>1.000000</td>\n",
              "    </tr>\n",
              "    <tr>\n",
              "      <th>25%</th>\n",
              "      <td>4.000000</td>\n",
              "    </tr>\n",
              "    <tr>\n",
              "      <th>50%</th>\n",
              "      <td>5.000000</td>\n",
              "    </tr>\n",
              "    <tr>\n",
              "      <th>75%</th>\n",
              "      <td>5.000000</td>\n",
              "    </tr>\n",
              "    <tr>\n",
              "      <th>max</th>\n",
              "      <td>5.000000</td>\n",
              "    </tr>\n",
              "  </tbody>\n",
              "</table>\n",
              "</div>\n",
              "      <button class=\"colab-df-convert\" onclick=\"convertToInteractive('df-55ccdf34-a326-4472-bb8a-78ff91ab598e')\"\n",
              "              title=\"Convert this dataframe to an interactive table.\"\n",
              "              style=\"display:none;\">\n",
              "        \n",
              "  <svg xmlns=\"http://www.w3.org/2000/svg\" height=\"24px\"viewBox=\"0 0 24 24\"\n",
              "       width=\"24px\">\n",
              "    <path d=\"M0 0h24v24H0V0z\" fill=\"none\"/>\n",
              "    <path d=\"M18.56 5.44l.94 2.06.94-2.06 2.06-.94-2.06-.94-.94-2.06-.94 2.06-2.06.94zm-11 1L8.5 8.5l.94-2.06 2.06-.94-2.06-.94L8.5 2.5l-.94 2.06-2.06.94zm10 10l.94 2.06.94-2.06 2.06-.94-2.06-.94-.94-2.06-.94 2.06-2.06.94z\"/><path d=\"M17.41 7.96l-1.37-1.37c-.4-.4-.92-.59-1.43-.59-.52 0-1.04.2-1.43.59L10.3 9.45l-7.72 7.72c-.78.78-.78 2.05 0 2.83L4 21.41c.39.39.9.59 1.41.59.51 0 1.02-.2 1.41-.59l7.78-7.78 2.81-2.81c.8-.78.8-2.07 0-2.86zM5.41 20L4 18.59l7.72-7.72 1.47 1.35L5.41 20z\"/>\n",
              "  </svg>\n",
              "      </button>\n",
              "      \n",
              "  <style>\n",
              "    .colab-df-container {\n",
              "      display:flex;\n",
              "      flex-wrap:wrap;\n",
              "      gap: 12px;\n",
              "    }\n",
              "\n",
              "    .colab-df-convert {\n",
              "      background-color: #E8F0FE;\n",
              "      border: none;\n",
              "      border-radius: 50%;\n",
              "      cursor: pointer;\n",
              "      display: none;\n",
              "      fill: #1967D2;\n",
              "      height: 32px;\n",
              "      padding: 0 0 0 0;\n",
              "      width: 32px;\n",
              "    }\n",
              "\n",
              "    .colab-df-convert:hover {\n",
              "      background-color: #E2EBFA;\n",
              "      box-shadow: 0px 1px 2px rgba(60, 64, 67, 0.3), 0px 1px 3px 1px rgba(60, 64, 67, 0.15);\n",
              "      fill: #174EA6;\n",
              "    }\n",
              "\n",
              "    [theme=dark] .colab-df-convert {\n",
              "      background-color: #3B4455;\n",
              "      fill: #D2E3FC;\n",
              "    }\n",
              "\n",
              "    [theme=dark] .colab-df-convert:hover {\n",
              "      background-color: #434B5C;\n",
              "      box-shadow: 0px 1px 3px 1px rgba(0, 0, 0, 0.15);\n",
              "      filter: drop-shadow(0px 1px 2px rgba(0, 0, 0, 0.3));\n",
              "      fill: #FFFFFF;\n",
              "    }\n",
              "  </style>\n",
              "\n",
              "      <script>\n",
              "        const buttonEl =\n",
              "          document.querySelector('#df-55ccdf34-a326-4472-bb8a-78ff91ab598e button.colab-df-convert');\n",
              "        buttonEl.style.display =\n",
              "          google.colab.kernel.accessAllowed ? 'block' : 'none';\n",
              "\n",
              "        async function convertToInteractive(key) {\n",
              "          const element = document.querySelector('#df-55ccdf34-a326-4472-bb8a-78ff91ab598e');\n",
              "          const dataTable =\n",
              "            await google.colab.kernel.invokeFunction('convertToInteractive',\n",
              "                                                     [key], {});\n",
              "          if (!dataTable) return;\n",
              "\n",
              "          const docLinkHtml = 'Like what you see? Visit the ' +\n",
              "            '<a target=\"_blank\" href=https://colab.research.google.com/notebooks/data_table.ipynb>data table notebook</a>'\n",
              "            + ' to learn more about interactive tables.';\n",
              "          element.innerHTML = '';\n",
              "          dataTable['output_type'] = 'display_data';\n",
              "          await google.colab.output.renderOutput(dataTable, element);\n",
              "          const docLink = document.createElement('div');\n",
              "          docLink.innerHTML = docLinkHtml;\n",
              "          element.appendChild(docLink);\n",
              "        }\n",
              "      </script>\n",
              "    </div>\n",
              "  </div>\n",
              "  "
            ]
          },
          "metadata": {},
          "execution_count": 22
        }
      ]
    },
    {
      "cell_type": "markdown",
      "source": [
        "## Orders dataset"
      ],
      "metadata": {
        "id": "ANNw5WpQWkeD"
      }
    },
    {
      "cell_type": "code",
      "source": [
        "raw_orders.duplicated().sum()"
      ],
      "metadata": {
        "colab": {
          "base_uri": "https://localhost:8080/"
        },
        "id": "QhKtWSWOoCzM",
        "outputId": "85a476de-9fa8-4c59-d837-7f0a6d4d068a"
      },
      "execution_count": null,
      "outputs": [
        {
          "output_type": "execute_result",
          "data": {
            "text/plain": [
              "0"
            ]
          },
          "metadata": {},
          "execution_count": 23
        }
      ]
    },
    {
      "cell_type": "code",
      "source": [
        "raw_orders.isna().sum()"
      ],
      "metadata": {
        "colab": {
          "base_uri": "https://localhost:8080/"
        },
        "id": "_b3r40Ovnh7H",
        "outputId": "6253b51d-c3d5-4259-a177-4a2435d8825d"
      },
      "execution_count": null,
      "outputs": [
        {
          "output_type": "execute_result",
          "data": {
            "text/plain": [
              "order_id                            0\n",
              "customer_id                         0\n",
              "order_status                        0\n",
              "order_purchase_timestamp            0\n",
              "order_approved_at                 160\n",
              "order_delivered_carrier_date     1783\n",
              "order_delivered_customer_date    2965\n",
              "order_estimated_delivery_date       0\n",
              "dtype: int64"
            ]
          },
          "metadata": {},
          "execution_count": 24
        }
      ]
    },
    {
      "cell_type": "code",
      "source": [
        "raw_orders.head()"
      ],
      "metadata": {
        "colab": {
          "base_uri": "https://localhost:8080/",
          "height": 270
        },
        "id": "VWLbtO23pPyM",
        "outputId": "0e1a86f6-f372-4bba-dadf-b16ef384744d"
      },
      "execution_count": null,
      "outputs": [
        {
          "output_type": "execute_result",
          "data": {
            "text/plain": [
              "                           order_id                       customer_id  \\\n",
              "0  e481f51cbdc54678b7cc49136f2d6af7  9ef432eb6251297304e76186b10a928d   \n",
              "1  53cdb2fc8bc7dce0b6741e2150273451  b0830fb4747a6c6d20dea0b8c802d7ef   \n",
              "2  47770eb9100c2d0c44946d9cf07ec65d  41ce2a54c0b03bf3443c3d931a367089   \n",
              "3  949d5b44dbf5de918fe9c16f97b45f8a  f88197465ea7920adcdbec7375364d82   \n",
              "4  ad21c59c0840e6cb83a9ceb5573f8159  8ab97904e6daea8866dbdbc4fb7aad2c   \n",
              "\n",
              "  order_status order_purchase_timestamp    order_approved_at  \\\n",
              "0    delivered      2017-10-02 10:56:33  2017-10-02 11:07:15   \n",
              "1    delivered      2018-07-24 20:41:37  2018-07-26 03:24:27   \n",
              "2    delivered      2018-08-08 08:38:49  2018-08-08 08:55:23   \n",
              "3    delivered      2017-11-18 19:28:06  2017-11-18 19:45:59   \n",
              "4    delivered      2018-02-13 21:18:39  2018-02-13 22:20:29   \n",
              "\n",
              "  order_delivered_carrier_date order_delivered_customer_date  \\\n",
              "0          2017-10-04 19:55:00           2017-10-10 21:25:13   \n",
              "1          2018-07-26 14:31:00           2018-08-07 15:27:45   \n",
              "2          2018-08-08 13:50:00           2018-08-17 18:06:29   \n",
              "3          2017-11-22 13:39:59           2017-12-02 00:28:42   \n",
              "4          2018-02-14 19:46:34           2018-02-16 18:17:02   \n",
              "\n",
              "  order_estimated_delivery_date  \n",
              "0           2017-10-18 00:00:00  \n",
              "1           2018-08-13 00:00:00  \n",
              "2           2018-09-04 00:00:00  \n",
              "3           2017-12-15 00:00:00  \n",
              "4           2018-02-26 00:00:00  "
            ],
            "text/html": [
              "\n",
              "  <div id=\"df-574dd3c9-5d7f-41df-80f3-41a89d659609\">\n",
              "    <div class=\"colab-df-container\">\n",
              "      <div>\n",
              "<style scoped>\n",
              "    .dataframe tbody tr th:only-of-type {\n",
              "        vertical-align: middle;\n",
              "    }\n",
              "\n",
              "    .dataframe tbody tr th {\n",
              "        vertical-align: top;\n",
              "    }\n",
              "\n",
              "    .dataframe thead th {\n",
              "        text-align: right;\n",
              "    }\n",
              "</style>\n",
              "<table border=\"1\" class=\"dataframe\">\n",
              "  <thead>\n",
              "    <tr style=\"text-align: right;\">\n",
              "      <th></th>\n",
              "      <th>order_id</th>\n",
              "      <th>customer_id</th>\n",
              "      <th>order_status</th>\n",
              "      <th>order_purchase_timestamp</th>\n",
              "      <th>order_approved_at</th>\n",
              "      <th>order_delivered_carrier_date</th>\n",
              "      <th>order_delivered_customer_date</th>\n",
              "      <th>order_estimated_delivery_date</th>\n",
              "    </tr>\n",
              "  </thead>\n",
              "  <tbody>\n",
              "    <tr>\n",
              "      <th>0</th>\n",
              "      <td>e481f51cbdc54678b7cc49136f2d6af7</td>\n",
              "      <td>9ef432eb6251297304e76186b10a928d</td>\n",
              "      <td>delivered</td>\n",
              "      <td>2017-10-02 10:56:33</td>\n",
              "      <td>2017-10-02 11:07:15</td>\n",
              "      <td>2017-10-04 19:55:00</td>\n",
              "      <td>2017-10-10 21:25:13</td>\n",
              "      <td>2017-10-18 00:00:00</td>\n",
              "    </tr>\n",
              "    <tr>\n",
              "      <th>1</th>\n",
              "      <td>53cdb2fc8bc7dce0b6741e2150273451</td>\n",
              "      <td>b0830fb4747a6c6d20dea0b8c802d7ef</td>\n",
              "      <td>delivered</td>\n",
              "      <td>2018-07-24 20:41:37</td>\n",
              "      <td>2018-07-26 03:24:27</td>\n",
              "      <td>2018-07-26 14:31:00</td>\n",
              "      <td>2018-08-07 15:27:45</td>\n",
              "      <td>2018-08-13 00:00:00</td>\n",
              "    </tr>\n",
              "    <tr>\n",
              "      <th>2</th>\n",
              "      <td>47770eb9100c2d0c44946d9cf07ec65d</td>\n",
              "      <td>41ce2a54c0b03bf3443c3d931a367089</td>\n",
              "      <td>delivered</td>\n",
              "      <td>2018-08-08 08:38:49</td>\n",
              "      <td>2018-08-08 08:55:23</td>\n",
              "      <td>2018-08-08 13:50:00</td>\n",
              "      <td>2018-08-17 18:06:29</td>\n",
              "      <td>2018-09-04 00:00:00</td>\n",
              "    </tr>\n",
              "    <tr>\n",
              "      <th>3</th>\n",
              "      <td>949d5b44dbf5de918fe9c16f97b45f8a</td>\n",
              "      <td>f88197465ea7920adcdbec7375364d82</td>\n",
              "      <td>delivered</td>\n",
              "      <td>2017-11-18 19:28:06</td>\n",
              "      <td>2017-11-18 19:45:59</td>\n",
              "      <td>2017-11-22 13:39:59</td>\n",
              "      <td>2017-12-02 00:28:42</td>\n",
              "      <td>2017-12-15 00:00:00</td>\n",
              "    </tr>\n",
              "    <tr>\n",
              "      <th>4</th>\n",
              "      <td>ad21c59c0840e6cb83a9ceb5573f8159</td>\n",
              "      <td>8ab97904e6daea8866dbdbc4fb7aad2c</td>\n",
              "      <td>delivered</td>\n",
              "      <td>2018-02-13 21:18:39</td>\n",
              "      <td>2018-02-13 22:20:29</td>\n",
              "      <td>2018-02-14 19:46:34</td>\n",
              "      <td>2018-02-16 18:17:02</td>\n",
              "      <td>2018-02-26 00:00:00</td>\n",
              "    </tr>\n",
              "  </tbody>\n",
              "</table>\n",
              "</div>\n",
              "      <button class=\"colab-df-convert\" onclick=\"convertToInteractive('df-574dd3c9-5d7f-41df-80f3-41a89d659609')\"\n",
              "              title=\"Convert this dataframe to an interactive table.\"\n",
              "              style=\"display:none;\">\n",
              "        \n",
              "  <svg xmlns=\"http://www.w3.org/2000/svg\" height=\"24px\"viewBox=\"0 0 24 24\"\n",
              "       width=\"24px\">\n",
              "    <path d=\"M0 0h24v24H0V0z\" fill=\"none\"/>\n",
              "    <path d=\"M18.56 5.44l.94 2.06.94-2.06 2.06-.94-2.06-.94-.94-2.06-.94 2.06-2.06.94zm-11 1L8.5 8.5l.94-2.06 2.06-.94-2.06-.94L8.5 2.5l-.94 2.06-2.06.94zm10 10l.94 2.06.94-2.06 2.06-.94-2.06-.94-.94-2.06-.94 2.06-2.06.94z\"/><path d=\"M17.41 7.96l-1.37-1.37c-.4-.4-.92-.59-1.43-.59-.52 0-1.04.2-1.43.59L10.3 9.45l-7.72 7.72c-.78.78-.78 2.05 0 2.83L4 21.41c.39.39.9.59 1.41.59.51 0 1.02-.2 1.41-.59l7.78-7.78 2.81-2.81c.8-.78.8-2.07 0-2.86zM5.41 20L4 18.59l7.72-7.72 1.47 1.35L5.41 20z\"/>\n",
              "  </svg>\n",
              "      </button>\n",
              "      \n",
              "  <style>\n",
              "    .colab-df-container {\n",
              "      display:flex;\n",
              "      flex-wrap:wrap;\n",
              "      gap: 12px;\n",
              "    }\n",
              "\n",
              "    .colab-df-convert {\n",
              "      background-color: #E8F0FE;\n",
              "      border: none;\n",
              "      border-radius: 50%;\n",
              "      cursor: pointer;\n",
              "      display: none;\n",
              "      fill: #1967D2;\n",
              "      height: 32px;\n",
              "      padding: 0 0 0 0;\n",
              "      width: 32px;\n",
              "    }\n",
              "\n",
              "    .colab-df-convert:hover {\n",
              "      background-color: #E2EBFA;\n",
              "      box-shadow: 0px 1px 2px rgba(60, 64, 67, 0.3), 0px 1px 3px 1px rgba(60, 64, 67, 0.15);\n",
              "      fill: #174EA6;\n",
              "    }\n",
              "\n",
              "    [theme=dark] .colab-df-convert {\n",
              "      background-color: #3B4455;\n",
              "      fill: #D2E3FC;\n",
              "    }\n",
              "\n",
              "    [theme=dark] .colab-df-convert:hover {\n",
              "      background-color: #434B5C;\n",
              "      box-shadow: 0px 1px 3px 1px rgba(0, 0, 0, 0.15);\n",
              "      filter: drop-shadow(0px 1px 2px rgba(0, 0, 0, 0.3));\n",
              "      fill: #FFFFFF;\n",
              "    }\n",
              "  </style>\n",
              "\n",
              "      <script>\n",
              "        const buttonEl =\n",
              "          document.querySelector('#df-574dd3c9-5d7f-41df-80f3-41a89d659609 button.colab-df-convert');\n",
              "        buttonEl.style.display =\n",
              "          google.colab.kernel.accessAllowed ? 'block' : 'none';\n",
              "\n",
              "        async function convertToInteractive(key) {\n",
              "          const element = document.querySelector('#df-574dd3c9-5d7f-41df-80f3-41a89d659609');\n",
              "          const dataTable =\n",
              "            await google.colab.kernel.invokeFunction('convertToInteractive',\n",
              "                                                     [key], {});\n",
              "          if (!dataTable) return;\n",
              "\n",
              "          const docLinkHtml = 'Like what you see? Visit the ' +\n",
              "            '<a target=\"_blank\" href=https://colab.research.google.com/notebooks/data_table.ipynb>data table notebook</a>'\n",
              "            + ' to learn more about interactive tables.';\n",
              "          element.innerHTML = '';\n",
              "          dataTable['output_type'] = 'display_data';\n",
              "          await google.colab.output.renderOutput(dataTable, element);\n",
              "          const docLink = document.createElement('div');\n",
              "          docLink.innerHTML = docLinkHtml;\n",
              "          element.appendChild(docLink);\n",
              "        }\n",
              "      </script>\n",
              "    </div>\n",
              "  </div>\n",
              "  "
            ]
          },
          "metadata": {},
          "execution_count": 25
        }
      ]
    },
    {
      "cell_type": "code",
      "source": [
        "raw_orders.order_status.value_counts().sort_values(ascending=True).plot(kind='barh', title='order_status')"
      ],
      "metadata": {
        "colab": {
          "base_uri": "https://localhost:8080/",
          "height": 469
        },
        "id": "jA_rTML8pzvI",
        "outputId": "829213d0-b9a9-4d81-9ca0-f20b7eadb791"
      },
      "execution_count": null,
      "outputs": [
        {
          "output_type": "execute_result",
          "data": {
            "text/plain": [
              "<Axes: title={'center': 'order_status'}>"
            ]
          },
          "metadata": {},
          "execution_count": 26
        },
        {
          "output_type": "display_data",
          "data": {
            "text/plain": [
              "<Figure size 640x480 with 1 Axes>"
            ],
            "image/png": "[encoded data removed]"
          },
          "metadata": {}
        }
      ]
    },
    {
      "cell_type": "markdown",
      "source": [
        "Hanya akan digunakan order yang statusnya delivered."
      ],
      "metadata": {
        "id": "tUR3oxedpiEu"
      }
    },
    {
      "cell_type": "code",
      "source": [
        "raw_orders = raw_orders[raw_orders.order_status == 'delivered']\n",
        "raw_orders.isna().sum()"
      ],
      "metadata": {
        "colab": {
          "base_uri": "https://localhost:8080/"
        },
        "id": "iaCYJlt-pk8x",
        "outputId": "f870546c-6da4-421f-ec67-924f80117058"
      },
      "execution_count": null,
      "outputs": [
        {
          "output_type": "execute_result",
          "data": {
            "text/plain": [
              "order_id                          0\n",
              "customer_id                       0\n",
              "order_status                      0\n",
              "order_purchase_timestamp          0\n",
              "order_approved_at                14\n",
              "order_delivered_carrier_date      2\n",
              "order_delivered_customer_date     8\n",
              "order_estimated_delivery_date     0\n",
              "dtype: int64"
            ]
          },
          "metadata": {},
          "execution_count": 27
        }
      ]
    },
    {
      "cell_type": "markdown",
      "source": [
        "Karena nilai yang kosong hanya 14 baris, maka nilai yang kosong ini akan disingkirkan."
      ],
      "metadata": {
        "id": "mbJX9sNGqAcf"
      }
    },
    {
      "cell_type": "code",
      "source": [
        "raw_orders.dropna(inplace=True)"
      ],
      "metadata": {
        "id": "uNSJpV2RqFQw"
      },
      "execution_count": null,
      "outputs": []
    },
    {
      "cell_type": "markdown",
      "source": [
        "Kolom *order_purchase_timestamp*, *order_approved_at* akan digunakan untuk membuat fitur baru lama respon penjual terhadap sebuah order\n",
        "\n",
        "Sedangkan kolom *order_delivered_carrier_date*, *order_delivered_customer_date*, dan *order_estimated_delivery_date* akan dihapus. Begitu pula kolom *order_status* akan dihapus."
      ],
      "metadata": {
        "id": "oBliP4k4oO9I"
      }
    },
    {
      "cell_type": "code",
      "source": [
        "raw_orders.drop(['order_status',\n",
        "                 'order_delivered_carrier_date',\n",
        "                 'order_delivered_customer_date',\n",
        "                 'order_estimated_delivery_date'],\n",
        "                axis=1, inplace=True)\n",
        "\n",
        "raw_orders.info()"
      ],
      "metadata": {
        "colab": {
          "base_uri": "https://localhost:8080/"
        },
        "id": "5yz4TUM5om7M",
        "outputId": "4b0e4b7e-dc04-46b0-e416-6a989c2d9d45"
      },
      "execution_count": null,
      "outputs": [
        {
          "output_type": "stream",
          "name": "stdout",
          "text": [
            "<class 'pandas.core.frame.DataFrame'>\n",
            "Int64Index: 96455 entries, 0 to 99440\n",
            "Data columns (total 4 columns):\n",
            " #   Column                    Non-Null Count  Dtype \n",
            "---  ------                    --------------  ----- \n",
            " 0   order_id                  96455 non-null  object\n",
            " 1   customer_id               96455 non-null  object\n",
            " 2   order_purchase_timestamp  96455 non-null  object\n",
            " 3   order_approved_at         96455 non-null  object\n",
            "dtypes: object(4)\n",
            "memory usage: 3.7+ MB\n"
          ]
        }
      ]
    },
    {
      "cell_type": "code",
      "source": [
        "raw_orders['order_purchase_timestamp'] = pd.to_datetime(raw_orders.order_purchase_timestamp,\n",
        "                                                        format=\"%Y-%m-%d %H:%M:%S\")\n",
        "raw_orders['order_approved_at'] = pd.to_datetime(raw_orders.order_approved_at,\n",
        "                                                 format=\"%Y-%m-%d %H:%M:%S\")\n",
        "\n",
        "raw_orders['respons_time_order'] = raw_orders.order_approved_at - raw_orders.order_purchase_timestamp\n",
        "\n",
        "raw_orders.drop(['order_purchase_timestamp', 'order_approved_at'], axis=1, inplace=True)\n",
        "\n",
        "raw_orders.info()"
      ],
      "metadata": {
        "colab": {
          "base_uri": "https://localhost:8080/"
        },
        "id": "Nik6Aviiq1jA",
        "outputId": "6651a136-15e1-4ab0-bbaf-68f79ba1c87b"
      },
      "execution_count": null,
      "outputs": [
        {
          "output_type": "stream",
          "name": "stdout",
          "text": [
            "<class 'pandas.core.frame.DataFrame'>\n",
            "Int64Index: 96455 entries, 0 to 99440\n",
            "Data columns (total 3 columns):\n",
            " #   Column              Non-Null Count  Dtype          \n",
            "---  ------              --------------  -----          \n",
            " 0   order_id            96455 non-null  object         \n",
            " 1   customer_id         96455 non-null  object         \n",
            " 2   respons_time_order  96455 non-null  timedelta64[ns]\n",
            "dtypes: object(2), timedelta64[ns](1)\n",
            "memory usage: 2.9+ MB\n"
          ]
        }
      ]
    },
    {
      "cell_type": "markdown",
      "source": [
        "## Seller dataset"
      ],
      "metadata": {
        "id": "GOjhLPKBn5SC"
      }
    },
    {
      "cell_type": "code",
      "source": [
        "raw_sellers.duplicated().sum()"
      ],
      "metadata": {
        "colab": {
          "base_uri": "https://localhost:8080/"
        },
        "id": "jfAM0gAFrqcn",
        "outputId": "d1b88cc0-8622-4219-b54b-fcbeacfa789a"
      },
      "execution_count": null,
      "outputs": [
        {
          "output_type": "execute_result",
          "data": {
            "text/plain": [
              "0"
            ]
          },
          "metadata": {},
          "execution_count": 31
        }
      ]
    },
    {
      "cell_type": "code",
      "source": [
        "raw_sellers.isna().sum()"
      ],
      "metadata": {
        "colab": {
          "base_uri": "https://localhost:8080/"
        },
        "id": "sDoqibe5ru4Y",
        "outputId": "18e23d8d-3eff-4fe8-8cb2-480b5449ed2e"
      },
      "execution_count": null,
      "outputs": [
        {
          "output_type": "execute_result",
          "data": {
            "text/plain": [
              "seller_id                 0\n",
              "seller_zip_code_prefix    0\n",
              "seller_city               0\n",
              "seller_state              0\n",
              "dtype: int64"
            ]
          },
          "metadata": {},
          "execution_count": 32
        }
      ]
    },
    {
      "cell_type": "markdown",
      "source": [
        "Karena informasi lokasi customer yang digunakan hanya informasi kota, maka informasi lokasi seller juga hanya akan menggunakan informasi kota."
      ],
      "metadata": {
        "id": "ctDchCbxr2i_"
      }
    },
    {
      "cell_type": "code",
      "source": [
        "raw_sellers.drop(['seller_zip_code_prefix', 'seller_state'], axis=1, inplace=True)\n",
        "raw_sellers.info()"
      ],
      "metadata": {
        "colab": {
          "base_uri": "https://localhost:8080/"
        },
        "id": "zYAq5vvqry8V",
        "outputId": "08a12b24-abf5-4627-c5b1-bcf81ef5be7b"
      },
      "execution_count": null,
      "outputs": [
        {
          "output_type": "stream",
          "name": "stdout",
          "text": [
            "<class 'pandas.core.frame.DataFrame'>\n",
            "RangeIndex: 3095 entries, 0 to 3094\n",
            "Data columns (total 2 columns):\n",
            " #   Column       Non-Null Count  Dtype \n",
            "---  ------       --------------  ----- \n",
            " 0   seller_id    3095 non-null   object\n",
            " 1   seller_city  3095 non-null   object\n",
            "dtypes: object(2)\n",
            "memory usage: 48.5+ KB\n"
          ]
        }
      ]
    },
    {
      "cell_type": "code",
      "source": [
        "print('Jumlah seller unik:', len(raw_sellers.seller_id.unique()))\n",
        "print('Jumlah kota seller unik:', len(raw_sellers.seller_city.unique()))"
      ],
      "metadata": {
        "colab": {
          "base_uri": "https://localhost:8080/"
        },
        "id": "GJSa4sUJsSEw",
        "outputId": "cafd9cf2-c99c-4d2b-9251-d2c1d91049a3"
      },
      "execution_count": null,
      "outputs": [
        {
          "output_type": "stream",
          "name": "stdout",
          "text": [
            "Jumlah seller unik: 3095\n",
            "Jumlah kota seller unik: 611\n"
          ]
        }
      ]
    },
    {
      "cell_type": "code",
      "source": [
        "raw_sellers.seller_city.value_counts()[:10].sort_values(ascending=True).plot(kind='barh',\n",
        "                                                                             title='Top 10 kota dengan penjual terbanyak')"
      ],
      "metadata": {
        "colab": {
          "base_uri": "https://localhost:8080/",
          "height": 469
        },
        "id": "4IfnF5PcgKDJ",
        "outputId": "a32a1d66-6058-4d75-aebc-18db307f17c0"
      },
      "execution_count": null,
      "outputs": [
        {
          "output_type": "execute_result",
          "data": {
            "text/plain": [
              "<Axes: title={'center': 'Top 10 kota dengan penjual terbanyak'}>"
            ]
          },
          "metadata": {},
          "execution_count": 35
        },
        {
          "output_type": "display_data",
          "data": {
            "text/plain": [
              "<Figure size 640x480 with 1 Axes>"
            ],
            "image/png": "[encoded data removed]"
          },
          "metadata": {}
        }
      ]
    },
    {
      "cell_type": "markdown",
      "source": [
        "## Products dataset"
      ],
      "metadata": {
        "id": "LAdbX_rtWpNF"
      }
    },
    {
      "cell_type": "code",
      "source": [
        "raw_products.duplicated().sum()"
      ],
      "metadata": {
        "colab": {
          "base_uri": "https://localhost:8080/"
        },
        "id": "4qZfhlVEse6y",
        "outputId": "e3defd96-0775-4b73-aa6f-b9c3e5178123"
      },
      "execution_count": null,
      "outputs": [
        {
          "output_type": "execute_result",
          "data": {
            "text/plain": [
              "0"
            ]
          },
          "metadata": {},
          "execution_count": 36
        }
      ]
    },
    {
      "cell_type": "code",
      "source": [
        "raw_products.isna().sum()"
      ],
      "metadata": {
        "colab": {
          "base_uri": "https://localhost:8080/"
        },
        "id": "9e_PcLKkslKp",
        "outputId": "47bc2aa1-e8b2-4e27-ba66-85db96b326b8"
      },
      "execution_count": null,
      "outputs": [
        {
          "output_type": "execute_result",
          "data": {
            "text/plain": [
              "product_id                      0\n",
              "product_category_name         610\n",
              "product_name_lenght           610\n",
              "product_description_lenght    610\n",
              "product_photos_qty            610\n",
              "product_weight_g                2\n",
              "product_length_cm               2\n",
              "product_height_cm               2\n",
              "product_width_cm                2\n",
              "dtype: int64"
            ]
          },
          "metadata": {},
          "execution_count": 37
        }
      ]
    },
    {
      "cell_type": "code",
      "source": [
        "raw_products.shape"
      ],
      "metadata": {
        "colab": {
          "base_uri": "https://localhost:8080/"
        },
        "id": "SS4v9gADsypp",
        "outputId": "f6fdcd55-1eef-4838-b531-6dd4d1d3aa3a"
      },
      "execution_count": null,
      "outputs": [
        {
          "output_type": "execute_result",
          "data": {
            "text/plain": [
              "(32951, 9)"
            ]
          },
          "metadata": {},
          "execution_count": 38
        }
      ]
    },
    {
      "cell_type": "markdown",
      "source": [
        "Terdapat beberapa produk yang nama kategori, nama produk, deskripsi, dan fotonya hilang. Namun karena jumlahnya sedikit, akan dihapus saja.\n",
        "\n",
        "Sebelum itu, akan dihapus dulu kolom *product_name_length* dan *product_description_length*."
      ],
      "metadata": {
        "id": "DgEnINxDszQ6"
      }
    },
    {
      "cell_type": "code",
      "source": [
        "raw_products.drop(['product_name_lenght', 'product_description_lenght'],\n",
        "                  axis=1, inplace=True)\n",
        "\n",
        "raw_products.dropna(inplace=True)\n",
        "\n",
        "raw_products.isna().sum()"
      ],
      "metadata": {
        "colab": {
          "base_uri": "https://localhost:8080/"
        },
        "id": "EPJMJUxqtYZi",
        "outputId": "418bba79-e6b2-4b33-c316-e96c00c2779d"
      },
      "execution_count": null,
      "outputs": [
        {
          "output_type": "execute_result",
          "data": {
            "text/plain": [
              "product_id               0\n",
              "product_category_name    0\n",
              "product_photos_qty       0\n",
              "product_weight_g         0\n",
              "product_length_cm        0\n",
              "product_height_cm        0\n",
              "product_width_cm         0\n",
              "dtype: int64"
            ]
          },
          "metadata": {},
          "execution_count": 39
        }
      ]
    },
    {
      "cell_type": "code",
      "source": [
        "raw_products.product_category_name.unique()"
      ],
      "metadata": {
        "colab": {
          "base_uri": "https://localhost:8080/"
        },
        "id": "7iL_7XykvN9l",
        "outputId": "cdb4d060-f35f-4ae5-8e10-1b5edca54c78"
      },
      "execution_count": null,
      "outputs": [
        {
          "output_type": "execute_result",
          "data": {
            "text/plain": [
              "array(['perfumaria', 'artes', 'esporte_lazer', 'bebes',\n",
              "       'utilidades_domesticas', 'instrumentos_musicais', 'cool_stuff',\n",
              "       'moveis_decoracao', 'eletrodomesticos', 'brinquedos',\n",
              "       'cama_mesa_banho', 'construcao_ferramentas_seguranca',\n",
              "       'informatica_acessorios', 'beleza_saude', 'malas_acessorios',\n",
              "       'ferramentas_jardim', 'moveis_escritorio', 'automotivo',\n",
              "       'eletronicos', 'fashion_calcados', 'telefonia', 'papelaria',\n",
              "       'fashion_bolsas_e_acessorios', 'pcs', 'casa_construcao',\n",
              "       'relogios_presentes', 'construcao_ferramentas_construcao',\n",
              "       'pet_shop', 'eletroportateis', 'agro_industria_e_comercio',\n",
              "       'moveis_sala', 'sinalizacao_e_seguranca', 'climatizacao',\n",
              "       'consoles_games', 'livros_interesse_geral',\n",
              "       'construcao_ferramentas_ferramentas',\n",
              "       'fashion_underwear_e_moda_praia', 'fashion_roupa_masculina',\n",
              "       'moveis_cozinha_area_de_servico_jantar_e_jardim',\n",
              "       'industria_comercio_e_negocios', 'telefonia_fixa',\n",
              "       'construcao_ferramentas_iluminacao', 'livros_tecnicos',\n",
              "       'eletrodomesticos_2', 'artigos_de_festas', 'bebidas',\n",
              "       'market_place', 'la_cuisine', 'construcao_ferramentas_jardim',\n",
              "       'fashion_roupa_feminina', 'casa_conforto', 'audio',\n",
              "       'alimentos_bebidas', 'musica', 'alimentos',\n",
              "       'tablets_impressao_imagem', 'livros_importados',\n",
              "       'portateis_casa_forno_e_cafe', 'fashion_esporte',\n",
              "       'artigos_de_natal', 'fashion_roupa_infanto_juvenil',\n",
              "       'dvds_blu_ray', 'artes_e_artesanato', 'pc_gamer', 'moveis_quarto',\n",
              "       'cine_foto', 'fraldas_higiene', 'flores', 'casa_conforto_2',\n",
              "       'portateis_cozinha_e_preparadores_de_alimentos',\n",
              "       'seguros_e_servicos', 'moveis_colchao_e_estofado',\n",
              "       'cds_dvds_musicais'], dtype=object)"
            ]
          },
          "metadata": {},
          "execution_count": 40
        }
      ]
    },
    {
      "cell_type": "markdown",
      "source": [
        "Karena kategori produk masih dalam Bahasa Portugis, agar kita lebih mudah membacanya, akan diubah menjadi Bahasa Inggris."
      ],
      "metadata": {
        "id": "aqnCGKYnuaO9"
      }
    },
    {
      "cell_type": "code",
      "source": [
        "dict_product = dict(zip(product_cats_translation.product_category_name,\n",
        "                        product_cats_translation.product_category_name_english))\n",
        "\n",
        "raw_products.replace({'product_category_name': dict_product}, inplace=True)\n",
        "raw_products.head()"
      ],
      "metadata": {
        "colab": {
          "base_uri": "https://localhost:8080/",
          "height": 270
        },
        "id": "D3NTIA_XuUPa",
        "outputId": "c245d90f-e2e8-40d4-9e14-7287ac2a37d5"
      },
      "execution_count": null,
      "outputs": [
        {
          "output_type": "execute_result",
          "data": {
            "text/plain": [
              "                         product_id product_category_name  product_photos_qty  \\\n",
              "0  1e9e8ef04dbcff4541ed26657ea517e5             perfumery                 1.0   \n",
              "1  3aa071139cb16b67ca9e5dea641aaa2f                   art                 1.0   \n",
              "2  96bd76ec8810374ed1b65e291975717f        sports_leisure                 1.0   \n",
              "3  cef67bcfe19066a932b7673e239eb23d                  baby                 1.0   \n",
              "4  9dc1a7de274444849c219cff195d0b71            housewares                 4.0   \n",
              "\n",
              "   product_weight_g  product_length_cm  product_height_cm  product_width_cm  \n",
              "0             225.0               16.0               10.0              14.0  \n",
              "1            1000.0               30.0               18.0              20.0  \n",
              "2             154.0               18.0                9.0              15.0  \n",
              "3             371.0               26.0                4.0              26.0  \n",
              "4             625.0               20.0               17.0              13.0  "
            ],
            "text/html": [
              "\n",
              "  <div id=\"df-0f7163d0-d9b3-4908-8d38-e8b0dc40e795\">\n",
              "    <div class=\"colab-df-container\">\n",
              "      <div>\n",
              "<style scoped>\n",
              "    .dataframe tbody tr th:only-of-type {\n",
              "        vertical-align: middle;\n",
              "    }\n",
              "\n",
              "    .dataframe tbody tr th {\n",
              "        vertical-align: top;\n",
              "    }\n",
              "\n",
              "    .dataframe thead th {\n",
              "        text-align: right;\n",
              "    }\n",
              "</style>\n",
              "<table border=\"1\" class=\"dataframe\">\n",
              "  <thead>\n",
              "    <tr style=\"text-align: right;\">\n",
              "      <th></th>\n",
              "      <th>product_id</th>\n",
              "      <th>product_category_name</th>\n",
              "      <th>product_photos_qty</th>\n",
              "      <th>product_weight_g</th>\n",
              "      <th>product_length_cm</th>\n",
              "      <th>product_height_cm</th>\n",
              "      <th>product_width_cm</th>\n",
              "    </tr>\n",
              "  </thead>\n",
              "  <tbody>\n",
              "    <tr>\n",
              "      <th>0</th>\n",
              "      <td>1e9e8ef04dbcff4541ed26657ea517e5</td>\n",
              "      <td>perfumery</td>\n",
              "      <td>1.0</td>\n",
              "      <td>225.0</td>\n",
              "      <td>16.0</td>\n",
              "      <td>10.0</td>\n",
              "      <td>14.0</td>\n",
              "    </tr>\n",
              "    <tr>\n",
              "      <th>1</th>\n",
              "      <td>3aa071139cb16b67ca9e5dea641aaa2f</td>\n",
              "      <td>art</td>\n",
              "      <td>1.0</td>\n",
              "      <td>1000.0</td>\n",
              "      <td>30.0</td>\n",
              "      <td>18.0</td>\n",
              "      <td>20.0</td>\n",
              "    </tr>\n",
              "    <tr>\n",
              "      <th>2</th>\n",
              "      <td>96bd76ec8810374ed1b65e291975717f</td>\n",
              "      <td>sports_leisure</td>\n",
              "      <td>1.0</td>\n",
              "      <td>154.0</td>\n",
              "      <td>18.0</td>\n",
              "      <td>9.0</td>\n",
              "      <td>15.0</td>\n",
              "    </tr>\n",
              "    <tr>\n",
              "      <th>3</th>\n",
              "      <td>cef67bcfe19066a932b7673e239eb23d</td>\n",
              "      <td>baby</td>\n",
              "      <td>1.0</td>\n",
              "      <td>371.0</td>\n",
              "      <td>26.0</td>\n",
              "      <td>4.0</td>\n",
              "      <td>26.0</td>\n",
              "    </tr>\n",
              "    <tr>\n",
              "      <th>4</th>\n",
              "      <td>9dc1a7de274444849c219cff195d0b71</td>\n",
              "      <td>housewares</td>\n",
              "      <td>4.0</td>\n",
              "      <td>625.0</td>\n",
              "      <td>20.0</td>\n",
              "      <td>17.0</td>\n",
              "      <td>13.0</td>\n",
              "    </tr>\n",
              "  </tbody>\n",
              "</table>\n",
              "</div>\n",
              "      <button class=\"colab-df-convert\" onclick=\"convertToInteractive('df-0f7163d0-d9b3-4908-8d38-e8b0dc40e795')\"\n",
              "              title=\"Convert this dataframe to an interactive table.\"\n",
              "              style=\"display:none;\">\n",
              "        \n",
              "  <svg xmlns=\"http://www.w3.org/2000/svg\" height=\"24px\"viewBox=\"0 0 24 24\"\n",
              "       width=\"24px\">\n",
              "    <path d=\"M0 0h24v24H0V0z\" fill=\"none\"/>\n",
              "    <path d=\"M18.56 5.44l.94 2.06.94-2.06 2.06-.94-2.06-.94-.94-2.06-.94 2.06-2.06.94zm-11 1L8.5 8.5l.94-2.06 2.06-.94-2.06-.94L8.5 2.5l-.94 2.06-2.06.94zm10 10l.94 2.06.94-2.06 2.06-.94-2.06-.94-.94-2.06-.94 2.06-2.06.94z\"/><path d=\"M17.41 7.96l-1.37-1.37c-.4-.4-.92-.59-1.43-.59-.52 0-1.04.2-1.43.59L10.3 9.45l-7.72 7.72c-.78.78-.78 2.05 0 2.83L4 21.41c.39.39.9.59 1.41.59.51 0 1.02-.2 1.41-.59l7.78-7.78 2.81-2.81c.8-.78.8-2.07 0-2.86zM5.41 20L4 18.59l7.72-7.72 1.47 1.35L5.41 20z\"/>\n",
              "  </svg>\n",
              "      </button>\n",
              "      \n",
              "  <style>\n",
              "    .colab-df-container {\n",
              "      display:flex;\n",
              "      flex-wrap:wrap;\n",
              "      gap: 12px;\n",
              "    }\n",
              "\n",
              "    .colab-df-convert {\n",
              "      background-color: #E8F0FE;\n",
              "      border: none;\n",
              "      border-radius: 50%;\n",
              "      cursor: pointer;\n",
              "      display: none;\n",
              "      fill: #1967D2;\n",
              "      height: 32px;\n",
              "      padding: 0 0 0 0;\n",
              "      width: 32px;\n",
              "    }\n",
              "\n",
              "    .colab-df-convert:hover {\n",
              "      background-color: #E2EBFA;\n",
              "      box-shadow: 0px 1px 2px rgba(60, 64, 67, 0.3), 0px 1px 3px 1px rgba(60, 64, 67, 0.15);\n",
              "      fill: #174EA6;\n",
              "    }\n",
              "\n",
              "    [theme=dark] .colab-df-convert {\n",
              "      background-color: #3B4455;\n",
              "      fill: #D2E3FC;\n",
              "    }\n",
              "\n",
              "    [theme=dark] .colab-df-convert:hover {\n",
              "      background-color: #434B5C;\n",
              "      box-shadow: 0px 1px 3px 1px rgba(0, 0, 0, 0.15);\n",
              "      filter: drop-shadow(0px 1px 2px rgba(0, 0, 0, 0.3));\n",
              "      fill: #FFFFFF;\n",
              "    }\n",
              "  </style>\n",
              "\n",
              "      <script>\n",
              "        const buttonEl =\n",
              "          document.querySelector('#df-0f7163d0-d9b3-4908-8d38-e8b0dc40e795 button.colab-df-convert');\n",
              "        buttonEl.style.display =\n",
              "          google.colab.kernel.accessAllowed ? 'block' : 'none';\n",
              "\n",
              "        async function convertToInteractive(key) {\n",
              "          const element = document.querySelector('#df-0f7163d0-d9b3-4908-8d38-e8b0dc40e795');\n",
              "          const dataTable =\n",
              "            await google.colab.kernel.invokeFunction('convertToInteractive',\n",
              "                                                     [key], {});\n",
              "          if (!dataTable) return;\n",
              "\n",
              "          const docLinkHtml = 'Like what you see? Visit the ' +\n",
              "            '<a target=\"_blank\" href=https://colab.research.google.com/notebooks/data_table.ipynb>data table notebook</a>'\n",
              "            + ' to learn more about interactive tables.';\n",
              "          element.innerHTML = '';\n",
              "          dataTable['output_type'] = 'display_data';\n",
              "          await google.colab.output.renderOutput(dataTable, element);\n",
              "          const docLink = document.createElement('div');\n",
              "          docLink.innerHTML = docLinkHtml;\n",
              "          element.appendChild(docLink);\n",
              "        }\n",
              "      </script>\n",
              "    </div>\n",
              "  </div>\n",
              "  "
            ]
          },
          "metadata": {},
          "execution_count": 41
        }
      ]
    },
    {
      "cell_type": "code",
      "source": [
        "raw_products.product_category_name.value_counts()[:10].sort_values(ascending=True).plot(kind='barh',\n",
        "                                                                                        title='Top 10 kategori produk')"
      ],
      "metadata": {
        "colab": {
          "base_uri": "https://localhost:8080/",
          "height": 469
        },
        "id": "tpHVZbuAh2MP",
        "outputId": "4fb2f2b5-de4f-4bb1-88ec-e7c3b443e560"
      },
      "execution_count": null,
      "outputs": [
        {
          "output_type": "execute_result",
          "data": {
            "text/plain": [
              "<Axes: title={'center': 'Top 10 kategori produk'}>"
            ]
          },
          "metadata": {},
          "execution_count": 42
        },
        {
          "output_type": "display_data",
          "data": {
            "text/plain": [
              "<Figure size 640x480 with 1 Axes>"
            ],
            "image/png": "[encoded data removed]"
          },
          "metadata": {}
        }
      ]
    },
    {
      "cell_type": "markdown",
      "source": [
        "# Data Preprocessing"
      ],
      "metadata": {
        "id": "4h3jFCdewfkM"
      }
    },
    {
      "cell_type": "markdown",
      "source": [
        "1. customers\n",
        "  * customer_id\n",
        "  * customer_unique_id\n",
        "  * customer_city\n",
        "2. order items\n",
        "  * order_id\n",
        "  * product_id\n",
        "  * seller_id\n",
        "  * price\n",
        "  * freight_value\n",
        "3. order_reviews\n",
        "  * review_id\n",
        "  * order_id\n",
        "  * review_score\n",
        "  * respons_time_review\n",
        "4. orders\n",
        "  * order_id\n",
        "  * customer_id\n",
        "  * respons_time_order\n",
        "5. sellers\n",
        "  * seller_id\n",
        "  * seller_city\n",
        "6. product_id\n",
        "  * product_id\n",
        "  * product_category_name\n",
        "  * product_photos_qty\n",
        "  * product_weight_g\n",
        "  * product_length_cm\n",
        "  * product_height_cm\n",
        "  * product_width_cm"
      ],
      "metadata": {
        "id": "yrV3e4qYFyM5"
      }
    },
    {
      "cell_type": "markdown",
      "source": [
        "Karena dataset tidak menyediakan nama produk dan nama seller yang asli, maka akan dibuat nama produk dan seller buatan secara random untuk mempermudah membaca produk"
      ],
      "metadata": {
        "id": "Ef8Ba2X4LmZM"
      }
    },
    {
      "cell_type": "markdown",
      "source": [
        "## Membuat nama product buatan"
      ],
      "metadata": {
        "id": "HT2kssXTLiCv"
      }
    },
    {
      "cell_type": "code",
      "source": [
        "product_all = np.concatenate((\n",
        "    raw_order_items.product_id.unique(),\n",
        "    raw_products.product_id.unique()\n",
        "))\n",
        "\n",
        "product_all = np.sort(np.unique(product_all))\n",
        "\n",
        "product_name = ('product_' + str(i) for i in range(len(product_all)))\n",
        "\n",
        "product_name_dict = dict(zip(product_all, product_name))\n",
        "\n",
        "print('Jumlah total produk unik:', len(product_name_dict))"
      ],
      "metadata": {
        "colab": {
          "base_uri": "https://localhost:8080/"
        },
        "id": "HQJMqU1wwg_P",
        "outputId": "cb3dc5d9-8dc1-4235-99ea-76231096fbbc"
      },
      "execution_count": null,
      "outputs": [
        {
          "output_type": "stream",
          "name": "stdout",
          "text": [
            "Jumlah total produk unik: 32951\n"
          ]
        }
      ]
    },
    {
      "cell_type": "code",
      "source": [
        "raw_order_items.replace({'product_id': product_name_dict}, inplace=True)\n",
        "raw_products.replace({'product_id': product_name_dict}, inplace=True)\n",
        "raw_order_items.head()"
      ],
      "metadata": {
        "colab": {
          "base_uri": "https://localhost:8080/",
          "height": 206
        },
        "id": "vdbt3y0OVS9Q",
        "outputId": "246ffaaa-0e1e-4921-e54f-43e0637062f1"
      },
      "execution_count": null,
      "outputs": [
        {
          "output_type": "execute_result",
          "data": {
            "text/plain": [
              "                           order_id     product_id  \\\n",
              "0  00010242fe8c5a6d1ba2dd792cb16214   product_8628   \n",
              "1  00018f77f2f0320c557190d7a144bdd3  product_29597   \n",
              "2  000229ec398224ef6ca0657da4fc703e  product_25667   \n",
              "3  00024acbcdf0a6daa1e931b038114c75  product_15322   \n",
              "4  00042b26cf59d7ce69dfabb4e55b4fd9  product_22079   \n",
              "\n",
              "                          seller_id   price  freight_value  \n",
              "0  48436dade18ac8b2bce089ec2a041202   58.90          13.29  \n",
              "1  dd7ddc04e1b6c2c614352b383efe2d36  239.90          19.93  \n",
              "2  5b51032eddd242adc84c38acab88f23d  199.00          17.87  \n",
              "3  9d7a1d34a5052409006425275ba1c2b4   12.99          12.79  \n",
              "4  df560393f3a51e74553ab94004ba5c87  199.90          18.14  "
            ],
            "text/html": [
              "\n",
              "  <div id=\"df-51ff1d13-2d15-4f18-b548-1c3d583120ee\">\n",
              "    <div class=\"colab-df-container\">\n",
              "      <div>\n",
              "<style scoped>\n",
              "    .dataframe tbody tr th:only-of-type {\n",
              "        vertical-align: middle;\n",
              "    }\n",
              "\n",
              "    .dataframe tbody tr th {\n",
              "        vertical-align: top;\n",
              "    }\n",
              "\n",
              "    .dataframe thead th {\n",
              "        text-align: right;\n",
              "    }\n",
              "</style>\n",
              "<table border=\"1\" class=\"dataframe\">\n",
              "  <thead>\n",
              "    <tr style=\"text-align: right;\">\n",
              "      <th></th>\n",
              "      <th>order_id</th>\n",
              "      <th>product_id</th>\n",
              "      <th>seller_id</th>\n",
              "      <th>price</th>\n",
              "      <th>freight_value</th>\n",
              "    </tr>\n",
              "  </thead>\n",
              "  <tbody>\n",
              "    <tr>\n",
              "      <th>0</th>\n",
              "      <td>00010242fe8c5a6d1ba2dd792cb16214</td>\n",
              "      <td>product_8628</td>\n",
              "      <td>48436dade18ac8b2bce089ec2a041202</td>\n",
              "      <td>58.90</td>\n",
              "      <td>13.29</td>\n",
              "    </tr>\n",
              "    <tr>\n",
              "      <th>1</th>\n",
              "      <td>00018f77f2f0320c557190d7a144bdd3</td>\n",
              "      <td>product_29597</td>\n",
              "      <td>dd7ddc04e1b6c2c614352b383efe2d36</td>\n",
              "      <td>239.90</td>\n",
              "      <td>19.93</td>\n",
              "    </tr>\n",
              "    <tr>\n",
              "      <th>2</th>\n",
              "      <td>000229ec398224ef6ca0657da4fc703e</td>\n",
              "      <td>product_25667</td>\n",
              "      <td>5b51032eddd242adc84c38acab88f23d</td>\n",
              "      <td>199.00</td>\n",
              "      <td>17.87</td>\n",
              "    </tr>\n",
              "    <tr>\n",
              "      <th>3</th>\n",
              "      <td>00024acbcdf0a6daa1e931b038114c75</td>\n",
              "      <td>product_15322</td>\n",
              "      <td>9d7a1d34a5052409006425275ba1c2b4</td>\n",
              "      <td>12.99</td>\n",
              "      <td>12.79</td>\n",
              "    </tr>\n",
              "    <tr>\n",
              "      <th>4</th>\n",
              "      <td>00042b26cf59d7ce69dfabb4e55b4fd9</td>\n",
              "      <td>product_22079</td>\n",
              "      <td>df560393f3a51e74553ab94004ba5c87</td>\n",
              "      <td>199.90</td>\n",
              "      <td>18.14</td>\n",
              "    </tr>\n",
              "  </tbody>\n",
              "</table>\n",
              "</div>\n",
              "      <button class=\"colab-df-convert\" onclick=\"convertToInteractive('df-51ff1d13-2d15-4f18-b548-1c3d583120ee')\"\n",
              "              title=\"Convert this dataframe to an interactive table.\"\n",
              "              style=\"display:none;\">\n",
              "        \n",
              "  <svg xmlns=\"http://www.w3.org/2000/svg\" height=\"24px\"viewBox=\"0 0 24 24\"\n",
              "       width=\"24px\">\n",
              "    <path d=\"M0 0h24v24H0V0z\" fill=\"none\"/>\n",
              "    <path d=\"M18.56 5.44l.94 2.06.94-2.06 2.06-.94-2.06-.94-.94-2.06-.94 2.06-2.06.94zm-11 1L8.5 8.5l.94-2.06 2.06-.94-2.06-.94L8.5 2.5l-.94 2.06-2.06.94zm10 10l.94 2.06.94-2.06 2.06-.94-2.06-.94-.94-2.06-.94 2.06-2.06.94z\"/><path d=\"M17.41 7.96l-1.37-1.37c-.4-.4-.92-.59-1.43-.59-.52 0-1.04.2-1.43.59L10.3 9.45l-7.72 7.72c-.78.78-.78 2.05 0 2.83L4 21.41c.39.39.9.59 1.41.59.51 0 1.02-.2 1.41-.59l7.78-7.78 2.81-2.81c.8-.78.8-2.07 0-2.86zM5.41 20L4 18.59l7.72-7.72 1.47 1.35L5.41 20z\"/>\n",
              "  </svg>\n",
              "      </button>\n",
              "      \n",
              "  <style>\n",
              "    .colab-df-container {\n",
              "      display:flex;\n",
              "      flex-wrap:wrap;\n",
              "      gap: 12px;\n",
              "    }\n",
              "\n",
              "    .colab-df-convert {\n",
              "      background-color: #E8F0FE;\n",
              "      border: none;\n",
              "      border-radius: 50%;\n",
              "      cursor: pointer;\n",
              "      display: none;\n",
              "      fill: #1967D2;\n",
              "      height: 32px;\n",
              "      padding: 0 0 0 0;\n",
              "      width: 32px;\n",
              "    }\n",
              "\n",
              "    .colab-df-convert:hover {\n",
              "      background-color: #E2EBFA;\n",
              "      box-shadow: 0px 1px 2px rgba(60, 64, 67, 0.3), 0px 1px 3px 1px rgba(60, 64, 67, 0.15);\n",
              "      fill: #174EA6;\n",
              "    }\n",
              "\n",
              "    [theme=dark] .colab-df-convert {\n",
              "      background-color: #3B4455;\n",
              "      fill: #D2E3FC;\n",
              "    }\n",
              "\n",
              "    [theme=dark] .colab-df-convert:hover {\n",
              "      background-color: #434B5C;\n",
              "      box-shadow: 0px 1px 3px 1px rgba(0, 0, 0, 0.15);\n",
              "      filter: drop-shadow(0px 1px 2px rgba(0, 0, 0, 0.3));\n",
              "      fill: #FFFFFF;\n",
              "    }\n",
              "  </style>\n",
              "\n",
              "      <script>\n",
              "        const buttonEl =\n",
              "          document.querySelector('#df-51ff1d13-2d15-4f18-b548-1c3d583120ee button.colab-df-convert');\n",
              "        buttonEl.style.display =\n",
              "          google.colab.kernel.accessAllowed ? 'block' : 'none';\n",
              "\n",
              "        async function convertToInteractive(key) {\n",
              "          const element = document.querySelector('#df-51ff1d13-2d15-4f18-b548-1c3d583120ee');\n",
              "          const dataTable =\n",
              "            await google.colab.kernel.invokeFunction('convertToInteractive',\n",
              "                                                     [key], {});\n",
              "          if (!dataTable) return;\n",
              "\n",
              "          const docLinkHtml = 'Like what you see? Visit the ' +\n",
              "            '<a target=\"_blank\" href=https://colab.research.google.com/notebooks/data_table.ipynb>data table notebook</a>'\n",
              "            + ' to learn more about interactive tables.';\n",
              "          element.innerHTML = '';\n",
              "          dataTable['output_type'] = 'display_data';\n",
              "          await google.colab.output.renderOutput(dataTable, element);\n",
              "          const docLink = document.createElement('div');\n",
              "          docLink.innerHTML = docLinkHtml;\n",
              "          element.appendChild(docLink);\n",
              "        }\n",
              "      </script>\n",
              "    </div>\n",
              "  </div>\n",
              "  "
            ]
          },
          "metadata": {},
          "execution_count": 44
        }
      ]
    },
    {
      "cell_type": "markdown",
      "source": [
        "## Membuat nama seller buatan"
      ],
      "metadata": {
        "id": "uLyAKZHaOMit"
      }
    },
    {
      "cell_type": "code",
      "source": [
        "seller_all = np.concatenate((\n",
        "    raw_order_items.seller_id.unique(),\n",
        "    raw_sellers.seller_id.unique()\n",
        "))\n",
        "\n",
        "seller_all = np.sort(np.unique(seller_all))\n",
        "\n",
        "seller_name = {'seller_' + str(i) for i in range(len(seller_all))}\n",
        "\n",
        "seller_name_dict = dict(zip(seller_all, seller_name))\n",
        "\n",
        "print('Jumlah total seller unik:', len(seller_name_dict))"
      ],
      "metadata": {
        "colab": {
          "base_uri": "https://localhost:8080/"
        },
        "id": "7JjnvDxvOOjD",
        "outputId": "97cdc231-7849-44c9-e2fc-ea72050f08af"
      },
      "execution_count": null,
      "outputs": [
        {
          "output_type": "stream",
          "name": "stdout",
          "text": [
            "Jumlah total seller unik: 3095\n"
          ]
        }
      ]
    },
    {
      "cell_type": "code",
      "source": [
        "raw_order_items.replace({'seller_id': seller_name_dict}, inplace=True)\n",
        "raw_sellers.replace({'seller_id': seller_name_dict}, inplace=True)\n",
        "raw_sellers.head()"
      ],
      "metadata": {
        "colab": {
          "base_uri": "https://localhost:8080/",
          "height": 206
        },
        "id": "E0dGlaeSWkDA",
        "outputId": "01b23844-1add-4674-e65a-b6593f676da1"
      },
      "execution_count": null,
      "outputs": [
        {
          "output_type": "execute_result",
          "data": {
            "text/plain": [
              "     seller_id        seller_city\n",
              "0  seller_2579           campinas\n",
              "1   seller_143         mogi guacu\n",
              "2  seller_1023     rio de janeiro\n",
              "3  seller_3088          sao paulo\n",
              "4   seller_833  braganca paulista"
            ],
            "text/html": [
              "\n",
              "  <div id=\"df-dd9d9467-5ec2-4d78-9760-cc0af346ed27\">\n",
              "    <div class=\"colab-df-container\">\n",
              "      <div>\n",
              "<style scoped>\n",
              "    .dataframe tbody tr th:only-of-type {\n",
              "        vertical-align: middle;\n",
              "    }\n",
              "\n",
              "    .dataframe tbody tr th {\n",
              "        vertical-align: top;\n",
              "    }\n",
              "\n",
              "    .dataframe thead th {\n",
              "        text-align: right;\n",
              "    }\n",
              "</style>\n",
              "<table border=\"1\" class=\"dataframe\">\n",
              "  <thead>\n",
              "    <tr style=\"text-align: right;\">\n",
              "      <th></th>\n",
              "      <th>seller_id</th>\n",
              "      <th>seller_city</th>\n",
              "    </tr>\n",
              "  </thead>\n",
              "  <tbody>\n",
              "    <tr>\n",
              "      <th>0</th>\n",
              "      <td>seller_2579</td>\n",
              "      <td>campinas</td>\n",
              "    </tr>\n",
              "    <tr>\n",
              "      <th>1</th>\n",
              "      <td>seller_143</td>\n",
              "      <td>mogi guacu</td>\n",
              "    </tr>\n",
              "    <tr>\n",
              "      <th>2</th>\n",
              "      <td>seller_1023</td>\n",
              "      <td>rio de janeiro</td>\n",
              "    </tr>\n",
              "    <tr>\n",
              "      <th>3</th>\n",
              "      <td>seller_3088</td>\n",
              "      <td>sao paulo</td>\n",
              "    </tr>\n",
              "    <tr>\n",
              "      <th>4</th>\n",
              "      <td>seller_833</td>\n",
              "      <td>braganca paulista</td>\n",
              "    </tr>\n",
              "  </tbody>\n",
              "</table>\n",
              "</div>\n",
              "      <button class=\"colab-df-convert\" onclick=\"convertToInteractive('df-dd9d9467-5ec2-4d78-9760-cc0af346ed27')\"\n",
              "              title=\"Convert this dataframe to an interactive table.\"\n",
              "              style=\"display:none;\">\n",
              "        \n",
              "  <svg xmlns=\"http://www.w3.org/2000/svg\" height=\"24px\"viewBox=\"0 0 24 24\"\n",
              "       width=\"24px\">\n",
              "    <path d=\"M0 0h24v24H0V0z\" fill=\"none\"/>\n",
              "    <path d=\"M18.56 5.44l.94 2.06.94-2.06 2.06-.94-2.06-.94-.94-2.06-.94 2.06-2.06.94zm-11 1L8.5 8.5l.94-2.06 2.06-.94-2.06-.94L8.5 2.5l-.94 2.06-2.06.94zm10 10l.94 2.06.94-2.06 2.06-.94-2.06-.94-.94-2.06-.94 2.06-2.06.94z\"/><path d=\"M17.41 7.96l-1.37-1.37c-.4-.4-.92-.59-1.43-.59-.52 0-1.04.2-1.43.59L10.3 9.45l-7.72 7.72c-.78.78-.78 2.05 0 2.83L4 21.41c.39.39.9.59 1.41.59.51 0 1.02-.2 1.41-.59l7.78-7.78 2.81-2.81c.8-.78.8-2.07 0-2.86zM5.41 20L4 18.59l7.72-7.72 1.47 1.35L5.41 20z\"/>\n",
              "  </svg>\n",
              "      </button>\n",
              "      \n",
              "  <style>\n",
              "    .colab-df-container {\n",
              "      display:flex;\n",
              "      flex-wrap:wrap;\n",
              "      gap: 12px;\n",
              "    }\n",
              "\n",
              "    .colab-df-convert {\n",
              "      background-color: #E8F0FE;\n",
              "      border: none;\n",
              "      border-radius: 50%;\n",
              "      cursor: pointer;\n",
              "      display: none;\n",
              "      fill: #1967D2;\n",
              "      height: 32px;\n",
              "      padding: 0 0 0 0;\n",
              "      width: 32px;\n",
              "    }\n",
              "\n",
              "    .colab-df-convert:hover {\n",
              "      background-color: #E2EBFA;\n",
              "      box-shadow: 0px 1px 2px rgba(60, 64, 67, 0.3), 0px 1px 3px 1px rgba(60, 64, 67, 0.15);\n",
              "      fill: #174EA6;\n",
              "    }\n",
              "\n",
              "    [theme=dark] .colab-df-convert {\n",
              "      background-color: #3B4455;\n",
              "      fill: #D2E3FC;\n",
              "    }\n",
              "\n",
              "    [theme=dark] .colab-df-convert:hover {\n",
              "      background-color: #434B5C;\n",
              "      box-shadow: 0px 1px 3px 1px rgba(0, 0, 0, 0.15);\n",
              "      filter: drop-shadow(0px 1px 2px rgba(0, 0, 0, 0.3));\n",
              "      fill: #FFFFFF;\n",
              "    }\n",
              "  </style>\n",
              "\n",
              "      <script>\n",
              "        const buttonEl =\n",
              "          document.querySelector('#df-dd9d9467-5ec2-4d78-9760-cc0af346ed27 button.colab-df-convert');\n",
              "        buttonEl.style.display =\n",
              "          google.colab.kernel.accessAllowed ? 'block' : 'none';\n",
              "\n",
              "        async function convertToInteractive(key) {\n",
              "          const element = document.querySelector('#df-dd9d9467-5ec2-4d78-9760-cc0af346ed27');\n",
              "          const dataTable =\n",
              "            await google.colab.kernel.invokeFunction('convertToInteractive',\n",
              "                                                     [key], {});\n",
              "          if (!dataTable) return;\n",
              "\n",
              "          const docLinkHtml = 'Like what you see? Visit the ' +\n",
              "            '<a target=\"_blank\" href=https://colab.research.google.com/notebooks/data_table.ipynb>data table notebook</a>'\n",
              "            + ' to learn more about interactive tables.';\n",
              "          element.innerHTML = '';\n",
              "          dataTable['output_type'] = 'display_data';\n",
              "          await google.colab.output.renderOutput(dataTable, element);\n",
              "          const docLink = document.createElement('div');\n",
              "          docLink.innerHTML = docLinkHtml;\n",
              "          element.appendChild(docLink);\n",
              "        }\n",
              "      </script>\n",
              "    </div>\n",
              "  </div>\n",
              "  "
            ]
          },
          "metadata": {},
          "execution_count": 46
        }
      ]
    },
    {
      "cell_type": "markdown",
      "source": [
        "## Harga product"
      ],
      "metadata": {
        "id": "Bee82u8CYUix"
      }
    },
    {
      "cell_type": "markdown",
      "source": [
        "Terkadang harga produk berubah-ubah. Sehingga akan diambil harga rata-ratanya saja."
      ],
      "metadata": {
        "id": "Pj3uLjwCg4LO"
      }
    },
    {
      "cell_type": "code",
      "source": [
        "price_products = raw_order_items[['product_id', 'price']]\n",
        "\n",
        "price_products = price_products.groupby('product_id').mean().reset_index()\n",
        "\n",
        "products = pd.merge(raw_products, price_products, on='product_id', how='left')\n",
        "products.sample(3)"
      ],
      "metadata": {
        "colab": {
          "base_uri": "https://localhost:8080/",
          "height": 207
        },
        "id": "WT--0sB5bTmy",
        "outputId": "c869c252-c31a-4c25-bc0c-ff4be0864a24"
      },
      "execution_count": null,
      "outputs": [
        {
          "output_type": "execute_result",
          "data": {
            "text/plain": [
              "          product_id product_category_name  product_photos_qty  \\\n",
              "24196  product_20050        sports_leisure                 3.0   \n",
              "27657   product_8948                  auto                 4.0   \n",
              "29275   product_9007        bed_bath_table                 1.0   \n",
              "\n",
              "       product_weight_g  product_length_cm  product_height_cm  \\\n",
              "24196           10150.0               20.0               20.0   \n",
              "27657            1900.0               41.0               45.0   \n",
              "29275            1200.0               45.0               15.0   \n",
              "\n",
              "       product_width_cm   price  \n",
              "24196              20.0   69.99  \n",
              "27657              11.0  256.00  \n",
              "29275              35.0   89.90  "
            ],
            "text/html": [
              "\n",
              "  <div id=\"df-0b58cda5-9226-4ce4-a27a-f97622a23ccf\">\n",
              "    <div class=\"colab-df-container\">\n",
              "      <div>\n",
              "<style scoped>\n",
              "    .dataframe tbody tr th:only-of-type {\n",
              "        vertical-align: middle;\n",
              "    }\n",
              "\n",
              "    .dataframe tbody tr th {\n",
              "        vertical-align: top;\n",
              "    }\n",
              "\n",
              "    .dataframe thead th {\n",
              "        text-align: right;\n",
              "    }\n",
              "</style>\n",
              "<table border=\"1\" class=\"dataframe\">\n",
              "  <thead>\n",
              "    <tr style=\"text-align: right;\">\n",
              "      <th></th>\n",
              "      <th>product_id</th>\n",
              "      <th>product_category_name</th>\n",
              "      <th>product_photos_qty</th>\n",
              "      <th>product_weight_g</th>\n",
              "      <th>product_length_cm</th>\n",
              "      <th>product_height_cm</th>\n",
              "      <th>product_width_cm</th>\n",
              "      <th>price</th>\n",
              "    </tr>\n",
              "  </thead>\n",
              "  <tbody>\n",
              "    <tr>\n",
              "      <th>24196</th>\n",
              "      <td>product_20050</td>\n",
              "      <td>sports_leisure</td>\n",
              "      <td>3.0</td>\n",
              "      <td>10150.0</td>\n",
              "      <td>20.0</td>\n",
              "      <td>20.0</td>\n",
              "      <td>20.0</td>\n",
              "      <td>69.99</td>\n",
              "    </tr>\n",
              "    <tr>\n",
              "      <th>27657</th>\n",
              "      <td>product_8948</td>\n",
              "      <td>auto</td>\n",
              "      <td>4.0</td>\n",
              "      <td>1900.0</td>\n",
              "      <td>41.0</td>\n",
              "      <td>45.0</td>\n",
              "      <td>11.0</td>\n",
              "      <td>256.00</td>\n",
              "    </tr>\n",
              "    <tr>\n",
              "      <th>29275</th>\n",
              "      <td>product_9007</td>\n",
              "      <td>bed_bath_table</td>\n",
              "      <td>1.0</td>\n",
              "      <td>1200.0</td>\n",
              "      <td>45.0</td>\n",
              "      <td>15.0</td>\n",
              "      <td>35.0</td>\n",
              "      <td>89.90</td>\n",
              "    </tr>\n",
              "  </tbody>\n",
              "</table>\n",
              "</div>\n",
              "      <button class=\"colab-df-convert\" onclick=\"convertToInteractive('df-0b58cda5-9226-4ce4-a27a-f97622a23ccf')\"\n",
              "              title=\"Convert this dataframe to an interactive table.\"\n",
              "              style=\"display:none;\">\n",
              "        \n",
              "  <svg xmlns=\"http://www.w3.org/2000/svg\" height=\"24px\"viewBox=\"0 0 24 24\"\n",
              "       width=\"24px\">\n",
              "    <path d=\"M0 0h24v24H0V0z\" fill=\"none\"/>\n",
              "    <path d=\"M18.56 5.44l.94 2.06.94-2.06 2.06-.94-2.06-.94-.94-2.06-.94 2.06-2.06.94zm-11 1L8.5 8.5l.94-2.06 2.06-.94-2.06-.94L8.5 2.5l-.94 2.06-2.06.94zm10 10l.94 2.06.94-2.06 2.06-.94-2.06-.94-.94-2.06-.94 2.06-2.06.94z\"/><path d=\"M17.41 7.96l-1.37-1.37c-.4-.4-.92-.59-1.43-.59-.52 0-1.04.2-1.43.59L10.3 9.45l-7.72 7.72c-.78.78-.78 2.05 0 2.83L4 21.41c.39.39.9.59 1.41.59.51 0 1.02-.2 1.41-.59l7.78-7.78 2.81-2.81c.8-.78.8-2.07 0-2.86zM5.41 20L4 18.59l7.72-7.72 1.47 1.35L5.41 20z\"/>\n",
              "  </svg>\n",
              "      </button>\n",
              "      \n",
              "  <style>\n",
              "    .colab-df-container {\n",
              "      display:flex;\n",
              "      flex-wrap:wrap;\n",
              "      gap: 12px;\n",
              "    }\n",
              "\n",
              "    .colab-df-convert {\n",
              "      background-color: #E8F0FE;\n",
              "      border: none;\n",
              "      border-radius: 50%;\n",
              "      cursor: pointer;\n",
              "      display: none;\n",
              "      fill: #1967D2;\n",
              "      height: 32px;\n",
              "      padding: 0 0 0 0;\n",
              "      width: 32px;\n",
              "    }\n",
              "\n",
              "    .colab-df-convert:hover {\n",
              "      background-color: #E2EBFA;\n",
              "      box-shadow: 0px 1px 2px rgba(60, 64, 67, 0.3), 0px 1px 3px 1px rgba(60, 64, 67, 0.15);\n",
              "      fill: #174EA6;\n",
              "    }\n",
              "\n",
              "    [theme=dark] .colab-df-convert {\n",
              "      background-color: #3B4455;\n",
              "      fill: #D2E3FC;\n",
              "    }\n",
              "\n",
              "    [theme=dark] .colab-df-convert:hover {\n",
              "      background-color: #434B5C;\n",
              "      box-shadow: 0px 1px 3px 1px rgba(0, 0, 0, 0.15);\n",
              "      filter: drop-shadow(0px 1px 2px rgba(0, 0, 0, 0.3));\n",
              "      fill: #FFFFFF;\n",
              "    }\n",
              "  </style>\n",
              "\n",
              "      <script>\n",
              "        const buttonEl =\n",
              "          document.querySelector('#df-0b58cda5-9226-4ce4-a27a-f97622a23ccf button.colab-df-convert');\n",
              "        buttonEl.style.display =\n",
              "          google.colab.kernel.accessAllowed ? 'block' : 'none';\n",
              "\n",
              "        async function convertToInteractive(key) {\n",
              "          const element = document.querySelector('#df-0b58cda5-9226-4ce4-a27a-f97622a23ccf');\n",
              "          const dataTable =\n",
              "            await google.colab.kernel.invokeFunction('convertToInteractive',\n",
              "                                                     [key], {});\n",
              "          if (!dataTable) return;\n",
              "\n",
              "          const docLinkHtml = 'Like what you see? Visit the ' +\n",
              "            '<a target=\"_blank\" href=https://colab.research.google.com/notebooks/data_table.ipynb>data table notebook</a>'\n",
              "            + ' to learn more about interactive tables.';\n",
              "          element.innerHTML = '';\n",
              "          dataTable['output_type'] = 'display_data';\n",
              "          await google.colab.output.renderOutput(dataTable, element);\n",
              "          const docLink = document.createElement('div');\n",
              "          docLink.innerHTML = docLinkHtml;\n",
              "          element.appendChild(docLink);\n",
              "        }\n",
              "      </script>\n",
              "    </div>\n",
              "  </div>\n",
              "  "
            ]
          },
          "metadata": {},
          "execution_count": 47
        }
      ]
    },
    {
      "cell_type": "code",
      "source": [
        "products.isna().sum()"
      ],
      "metadata": {
        "colab": {
          "base_uri": "https://localhost:8080/"
        },
        "id": "U45q-E1fkM-D",
        "outputId": "e976d759-5510-4b88-e6f4-4d8fd04c35e8"
      },
      "execution_count": null,
      "outputs": [
        {
          "output_type": "execute_result",
          "data": {
            "text/plain": [
              "product_id               0\n",
              "product_category_name    0\n",
              "product_photos_qty       0\n",
              "product_weight_g         0\n",
              "product_length_cm        0\n",
              "product_height_cm        0\n",
              "product_width_cm         0\n",
              "price                    0\n",
              "dtype: int64"
            ]
          },
          "metadata": {},
          "execution_count": 48
        }
      ]
    },
    {
      "cell_type": "markdown",
      "source": [
        "## Review dan jumlah product terjual"
      ],
      "metadata": {
        "id": "YotV58yDjMAS"
      }
    },
    {
      "cell_type": "code",
      "source": [
        "rating_order = pd.merge(raw_order_items, raw_order_reviews[['order_id', 'review_score']],\n",
        "                        on='order_id', how='left')[['product_id', 'review_score']]\n",
        "\n",
        "rating_products = rating_order.groupby('product_id').mean().round(1).reset_index()\n",
        "sold_products = rating_order.groupby('product_id').count().reset_index()\n",
        "\n",
        "rating_sold = pd.merge(rating_products, sold_products, on='product_id',\n",
        "                       how='left')\n",
        "\n",
        "rating_sold.rename(columns={'review_score_x': 'review_score',\n",
        "                            'review_score_y': 'sold'},\n",
        "                   inplace=True)\n",
        "\n",
        "products = pd.merge(products, rating_sold, on='product_id', how='left')\n",
        "products.head()"
      ],
      "metadata": {
        "colab": {
          "base_uri": "https://localhost:8080/",
          "height": 270
        },
        "id": "0mVq-YMInexh",
        "outputId": "618fdc67-25b0-42d0-aea0-0f8a818a3e91"
      },
      "execution_count": null,
      "outputs": [
        {
          "output_type": "execute_result",
          "data": {
            "text/plain": [
              "      product_id product_category_name  product_photos_qty  product_weight_g  \\\n",
              "0   product_4053             perfumery                 1.0             225.0   \n",
              "1   product_7645                   art                 1.0            1000.0   \n",
              "2  product_19351        sports_leisure                 1.0             154.0   \n",
              "3  product_26672                  baby                 1.0             371.0   \n",
              "4  product_20305            housewares                 4.0             625.0   \n",
              "\n",
              "   product_length_cm  product_height_cm  product_width_cm   price  \\\n",
              "0               16.0               10.0              14.0   10.91   \n",
              "1               30.0               18.0              20.0  248.00   \n",
              "2               18.0                9.0              15.0   79.80   \n",
              "3               26.0                4.0              26.0  112.30   \n",
              "4               20.0               17.0              13.0   37.90   \n",
              "\n",
              "   review_score  sold  \n",
              "0           5.0     1  \n",
              "1           5.0     1  \n",
              "2           5.0     1  \n",
              "3           1.0     1  \n",
              "4           5.0     1  "
            ],
            "text/html": [
              "\n",
              "  <div id=\"df-5ae0ca16-0d02-4797-a8d2-0937cad2d48d\">\n",
              "    <div class=\"colab-df-container\">\n",
              "      <div>\n",
              "<style scoped>\n",
              "    .dataframe tbody tr th:only-of-type {\n",
              "        vertical-align: middle;\n",
              "    }\n",
              "\n",
              "    .dataframe tbody tr th {\n",
              "        vertical-align: top;\n",
              "    }\n",
              "\n",
              "    .dataframe thead th {\n",
              "        text-align: right;\n",
              "    }\n",
              "</style>\n",
              "<table border=\"1\" class=\"dataframe\">\n",
              "  <thead>\n",
              "    <tr style=\"text-align: right;\">\n",
              "      <th></th>\n",
              "      <th>product_id</th>\n",
              "      <th>product_category_name</th>\n",
              "      <th>product_photos_qty</th>\n",
              "      <th>product_weight_g</th>\n",
              "      <th>product_length_cm</th>\n",
              "      <th>product_height_cm</th>\n",
              "      <th>product_width_cm</th>\n",
              "      <th>price</th>\n",
              "      <th>review_score</th>\n",
              "      <th>sold</th>\n",
              "    </tr>\n",
              "  </thead>\n",
              "  <tbody>\n",
              "    <tr>\n",
              "      <th>0</th>\n",
              "      <td>product_4053</td>\n",
              "      <td>perfumery</td>\n",
              "      <td>1.0</td>\n",
              "      <td>225.0</td>\n",
              "      <td>16.0</td>\n",
              "      <td>10.0</td>\n",
              "      <td>14.0</td>\n",
              "      <td>10.91</td>\n",
              "      <td>5.0</td>\n",
              "      <td>1</td>\n",
              "    </tr>\n",
              "    <tr>\n",
              "      <th>1</th>\n",
              "      <td>product_7645</td>\n",
              "      <td>art</td>\n",
              "      <td>1.0</td>\n",
              "      <td>1000.0</td>\n",
              "      <td>30.0</td>\n",
              "      <td>18.0</td>\n",
              "      <td>20.0</td>\n",
              "      <td>248.00</td>\n",
              "      <td>5.0</td>\n",
              "      <td>1</td>\n",
              "    </tr>\n",
              "    <tr>\n",
              "      <th>2</th>\n",
              "      <td>product_19351</td>\n",
              "      <td>sports_leisure</td>\n",
              "      <td>1.0</td>\n",
              "      <td>154.0</td>\n",
              "      <td>18.0</td>\n",
              "      <td>9.0</td>\n",
              "      <td>15.0</td>\n",
              "      <td>79.80</td>\n",
              "      <td>5.0</td>\n",
              "      <td>1</td>\n",
              "    </tr>\n",
              "    <tr>\n",
              "      <th>3</th>\n",
              "      <td>product_26672</td>\n",
              "      <td>baby</td>\n",
              "      <td>1.0</td>\n",
              "      <td>371.0</td>\n",
              "      <td>26.0</td>\n",
              "      <td>4.0</td>\n",
              "      <td>26.0</td>\n",
              "      <td>112.30</td>\n",
              "      <td>1.0</td>\n",
              "      <td>1</td>\n",
              "    </tr>\n",
              "    <tr>\n",
              "      <th>4</th>\n",
              "      <td>product_20305</td>\n",
              "      <td>housewares</td>\n",
              "      <td>4.0</td>\n",
              "      <td>625.0</td>\n",
              "      <td>20.0</td>\n",
              "      <td>17.0</td>\n",
              "      <td>13.0</td>\n",
              "      <td>37.90</td>\n",
              "      <td>5.0</td>\n",
              "      <td>1</td>\n",
              "    </tr>\n",
              "  </tbody>\n",
              "</table>\n",
              "</div>\n",
              "      <button class=\"colab-df-convert\" onclick=\"convertToInteractive('df-5ae0ca16-0d02-4797-a8d2-0937cad2d48d')\"\n",
              "              title=\"Convert this dataframe to an interactive table.\"\n",
              "              style=\"display:none;\">\n",
              "        \n",
              "  <svg xmlns=\"http://www.w3.org/2000/svg\" height=\"24px\"viewBox=\"0 0 24 24\"\n",
              "       width=\"24px\">\n",
              "    <path d=\"M0 0h24v24H0V0z\" fill=\"none\"/>\n",
              "    <path d=\"M18.56 5.44l.94 2.06.94-2.06 2.06-.94-2.06-.94-.94-2.06-.94 2.06-2.06.94zm-11 1L8.5 8.5l.94-2.06 2.06-.94-2.06-.94L8.5 2.5l-.94 2.06-2.06.94zm10 10l.94 2.06.94-2.06 2.06-.94-2.06-.94-.94-2.06-.94 2.06-2.06.94z\"/><path d=\"M17.41 7.96l-1.37-1.37c-.4-.4-.92-.59-1.43-.59-.52 0-1.04.2-1.43.59L10.3 9.45l-7.72 7.72c-.78.78-.78 2.05 0 2.83L4 21.41c.39.39.9.59 1.41.59.51 0 1.02-.2 1.41-.59l7.78-7.78 2.81-2.81c.8-.78.8-2.07 0-2.86zM5.41 20L4 18.59l7.72-7.72 1.47 1.35L5.41 20z\"/>\n",
              "  </svg>\n",
              "      </button>\n",
              "      \n",
              "  <style>\n",
              "    .colab-df-container {\n",
              "      display:flex;\n",
              "      flex-wrap:wrap;\n",
              "      gap: 12px;\n",
              "    }\n",
              "\n",
              "    .colab-df-convert {\n",
              "      background-color: #E8F0FE;\n",
              "      border: none;\n",
              "      border-radius: 50%;\n",
              "      cursor: pointer;\n",
              "      display: none;\n",
              "      fill: #1967D2;\n",
              "      height: 32px;\n",
              "      padding: 0 0 0 0;\n",
              "      width: 32px;\n",
              "    }\n",
              "\n",
              "    .colab-df-convert:hover {\n",
              "      background-color: #E2EBFA;\n",
              "      box-shadow: 0px 1px 2px rgba(60, 64, 67, 0.3), 0px 1px 3px 1px rgba(60, 64, 67, 0.15);\n",
              "      fill: #174EA6;\n",
              "    }\n",
              "\n",
              "    [theme=dark] .colab-df-convert {\n",
              "      background-color: #3B4455;\n",
              "      fill: #D2E3FC;\n",
              "    }\n",
              "\n",
              "    [theme=dark] .colab-df-convert:hover {\n",
              "      background-color: #434B5C;\n",
              "      box-shadow: 0px 1px 3px 1px rgba(0, 0, 0, 0.15);\n",
              "      filter: drop-shadow(0px 1px 2px rgba(0, 0, 0, 0.3));\n",
              "      fill: #FFFFFF;\n",
              "    }\n",
              "  </style>\n",
              "\n",
              "      <script>\n",
              "        const buttonEl =\n",
              "          document.querySelector('#df-5ae0ca16-0d02-4797-a8d2-0937cad2d48d button.colab-df-convert');\n",
              "        buttonEl.style.display =\n",
              "          google.colab.kernel.accessAllowed ? 'block' : 'none';\n",
              "\n",
              "        async function convertToInteractive(key) {\n",
              "          const element = document.querySelector('#df-5ae0ca16-0d02-4797-a8d2-0937cad2d48d');\n",
              "          const dataTable =\n",
              "            await google.colab.kernel.invokeFunction('convertToInteractive',\n",
              "                                                     [key], {});\n",
              "          if (!dataTable) return;\n",
              "\n",
              "          const docLinkHtml = 'Like what you see? Visit the ' +\n",
              "            '<a target=\"_blank\" href=https://colab.research.google.com/notebooks/data_table.ipynb>data table notebook</a>'\n",
              "            + ' to learn more about interactive tables.';\n",
              "          element.innerHTML = '';\n",
              "          dataTable['output_type'] = 'display_data';\n",
              "          await google.colab.output.renderOutput(dataTable, element);\n",
              "          const docLink = document.createElement('div');\n",
              "          docLink.innerHTML = docLinkHtml;\n",
              "          element.appendChild(docLink);\n",
              "        }\n",
              "      </script>\n",
              "    </div>\n",
              "  </div>\n",
              "  "
            ]
          },
          "metadata": {},
          "execution_count": 49
        }
      ]
    },
    {
      "cell_type": "code",
      "source": [
        "products.isna().sum()"
      ],
      "metadata": {
        "colab": {
          "base_uri": "https://localhost:8080/"
        },
        "id": "mtLkw0K9tI6E",
        "outputId": "b195e08a-0e3c-445e-c016-375796c7cb8a"
      },
      "execution_count": null,
      "outputs": [
        {
          "output_type": "execute_result",
          "data": {
            "text/plain": [
              "product_id                 0\n",
              "product_category_name      0\n",
              "product_photos_qty         0\n",
              "product_weight_g           0\n",
              "product_length_cm          0\n",
              "product_height_cm          0\n",
              "product_width_cm           0\n",
              "price                      0\n",
              "review_score             157\n",
              "sold                       0\n",
              "dtype: int64"
            ]
          },
          "metadata": {},
          "execution_count": 50
        }
      ]
    },
    {
      "cell_type": "markdown",
      "source": [
        "Terdapat 157 produk yang belum memiliki review walau sudah terjual."
      ],
      "metadata": {
        "id": "mEf5Aqxvu1uj"
      }
    },
    {
      "cell_type": "markdown",
      "source": [
        "## Masukan nama seller ke products"
      ],
      "metadata": {
        "id": "wyVSlJKtvSxv"
      }
    },
    {
      "cell_type": "code",
      "source": [
        "seller_products = raw_order_items.drop_duplicates(['product_id'])[['product_id',\n",
        "                                                                   'seller_id']]\n",
        "\n",
        "products = pd.merge(products, seller_products, on='product_id', how='left')\n",
        "products.head()"
      ],
      "metadata": {
        "colab": {
          "base_uri": "https://localhost:8080/",
          "height": 270
        },
        "id": "x_DZr9jevSIX",
        "outputId": "dba4bb84-797a-4f66-be88-d90f4bae8413"
      },
      "execution_count": null,
      "outputs": [
        {
          "output_type": "execute_result",
          "data": {
            "text/plain": [
              "      product_id product_category_name  product_photos_qty  product_weight_g  \\\n",
              "0   product_4053             perfumery                 1.0             225.0   \n",
              "1   product_7645                   art                 1.0            1000.0   \n",
              "2  product_19351        sports_leisure                 1.0             154.0   \n",
              "3  product_26672                  baby                 1.0             371.0   \n",
              "4  product_20305            housewares                 4.0             625.0   \n",
              "\n",
              "   product_length_cm  product_height_cm  product_width_cm   price  \\\n",
              "0               16.0               10.0              14.0   10.91   \n",
              "1               30.0               18.0              20.0  248.00   \n",
              "2               18.0                9.0              15.0   79.80   \n",
              "3               26.0                4.0              26.0  112.30   \n",
              "4               20.0               17.0              13.0   37.90   \n",
              "\n",
              "   review_score  sold    seller_id  \n",
              "0           5.0     1   seller_993  \n",
              "1           5.0     1   seller_862  \n",
              "2           5.0     1  seller_2969  \n",
              "3           1.0     1   seller_350  \n",
              "4           5.0     1  seller_1040  "
            ],
            "text/html": [
              "\n",
              "  <div id=\"df-e447e329-f42c-47f3-b45e-34b0bb7de9ec\">\n",
              "    <div class=\"colab-df-container\">\n",
              "      <div>\n",
              "<style scoped>\n",
              "    .dataframe tbody tr th:only-of-type {\n",
              "        vertical-align: middle;\n",
              "    }\n",
              "\n",
              "    .dataframe tbody tr th {\n",
              "        vertical-align: top;\n",
              "    }\n",
              "\n",
              "    .dataframe thead th {\n",
              "        text-align: right;\n",
              "    }\n",
              "</style>\n",
              "<table border=\"1\" class=\"dataframe\">\n",
              "  <thead>\n",
              "    <tr style=\"text-align: right;\">\n",
              "      <th></th>\n",
              "      <th>product_id</th>\n",
              "      <th>product_category_name</th>\n",
              "      <th>product_photos_qty</th>\n",
              "      <th>product_weight_g</th>\n",
              "      <th>product_length_cm</th>\n",
              "      <th>product_height_cm</th>\n",
              "      <th>product_width_cm</th>\n",
              "      <th>price</th>\n",
              "      <th>review_score</th>\n",
              "      <th>sold</th>\n",
              "      <th>seller_id</th>\n",
              "    </tr>\n",
              "  </thead>\n",
              "  <tbody>\n",
              "    <tr>\n",
              "      <th>0</th>\n",
              "      <td>product_4053</td>\n",
              "      <td>perfumery</td>\n",
              "      <td>1.0</td>\n",
              "      <td>225.0</td>\n",
              "      <td>16.0</td>\n",
              "      <td>10.0</td>\n",
              "      <td>14.0</td>\n",
              "      <td>10.91</td>\n",
              "      <td>5.0</td>\n",
              "      <td>1</td>\n",
              "      <td>seller_993</td>\n",
              "    </tr>\n",
              "    <tr>\n",
              "      <th>1</th>\n",
              "      <td>product_7645</td>\n",
              "      <td>art</td>\n",
              "      <td>1.0</td>\n",
              "      <td>1000.0</td>\n",
              "      <td>30.0</td>\n",
              "      <td>18.0</td>\n",
              "      <td>20.0</td>\n",
              "      <td>248.00</td>\n",
              "      <td>5.0</td>\n",
              "      <td>1</td>\n",
              "      <td>seller_862</td>\n",
              "    </tr>\n",
              "    <tr>\n",
              "      <th>2</th>\n",
              "      <td>product_19351</td>\n",
              "      <td>sports_leisure</td>\n",
              "      <td>1.0</td>\n",
              "      <td>154.0</td>\n",
              "      <td>18.0</td>\n",
              "      <td>9.0</td>\n",
              "      <td>15.0</td>\n",
              "      <td>79.80</td>\n",
              "      <td>5.0</td>\n",
              "      <td>1</td>\n",
              "      <td>seller_2969</td>\n",
              "    </tr>\n",
              "    <tr>\n",
              "      <th>3</th>\n",
              "      <td>product_26672</td>\n",
              "      <td>baby</td>\n",
              "      <td>1.0</td>\n",
              "      <td>371.0</td>\n",
              "      <td>26.0</td>\n",
              "      <td>4.0</td>\n",
              "      <td>26.0</td>\n",
              "      <td>112.30</td>\n",
              "      <td>1.0</td>\n",
              "      <td>1</td>\n",
              "      <td>seller_350</td>\n",
              "    </tr>\n",
              "    <tr>\n",
              "      <th>4</th>\n",
              "      <td>product_20305</td>\n",
              "      <td>housewares</td>\n",
              "      <td>4.0</td>\n",
              "      <td>625.0</td>\n",
              "      <td>20.0</td>\n",
              "      <td>17.0</td>\n",
              "      <td>13.0</td>\n",
              "      <td>37.90</td>\n",
              "      <td>5.0</td>\n",
              "      <td>1</td>\n",
              "      <td>seller_1040</td>\n",
              "    </tr>\n",
              "  </tbody>\n",
              "</table>\n",
              "</div>\n",
              "      <button class=\"colab-df-convert\" onclick=\"convertToInteractive('df-e447e329-f42c-47f3-b45e-34b0bb7de9ec')\"\n",
              "              title=\"Convert this dataframe to an interactive table.\"\n",
              "              style=\"display:none;\">\n",
              "        \n",
              "  <svg xmlns=\"http://www.w3.org/2000/svg\" height=\"24px\"viewBox=\"0 0 24 24\"\n",
              "       width=\"24px\">\n",
              "    <path d=\"M0 0h24v24H0V0z\" fill=\"none\"/>\n",
              "    <path d=\"M18.56 5.44l.94 2.06.94-2.06 2.06-.94-2.06-.94-.94-2.06-.94 2.06-2.06.94zm-11 1L8.5 8.5l.94-2.06 2.06-.94-2.06-.94L8.5 2.5l-.94 2.06-2.06.94zm10 10l.94 2.06.94-2.06 2.06-.94-2.06-.94-.94-2.06-.94 2.06-2.06.94z\"/><path d=\"M17.41 7.96l-1.37-1.37c-.4-.4-.92-.59-1.43-.59-.52 0-1.04.2-1.43.59L10.3 9.45l-7.72 7.72c-.78.78-.78 2.05 0 2.83L4 21.41c.39.39.9.59 1.41.59.51 0 1.02-.2 1.41-.59l7.78-7.78 2.81-2.81c.8-.78.8-2.07 0-2.86zM5.41 20L4 18.59l7.72-7.72 1.47 1.35L5.41 20z\"/>\n",
              "  </svg>\n",
              "      </button>\n",
              "      \n",
              "  <style>\n",
              "    .colab-df-container {\n",
              "      display:flex;\n",
              "      flex-wrap:wrap;\n",
              "      gap: 12px;\n",
              "    }\n",
              "\n",
              "    .colab-df-convert {\n",
              "      background-color: #E8F0FE;\n",
              "      border: none;\n",
              "      border-radius: 50%;\n",
              "      cursor: pointer;\n",
              "      display: none;\n",
              "      fill: #1967D2;\n",
              "      height: 32px;\n",
              "      padding: 0 0 0 0;\n",
              "      width: 32px;\n",
              "    }\n",
              "\n",
              "    .colab-df-convert:hover {\n",
              "      background-color: #E2EBFA;\n",
              "      box-shadow: 0px 1px 2px rgba(60, 64, 67, 0.3), 0px 1px 3px 1px rgba(60, 64, 67, 0.15);\n",
              "      fill: #174EA6;\n",
              "    }\n",
              "\n",
              "    [theme=dark] .colab-df-convert {\n",
              "      background-color: #3B4455;\n",
              "      fill: #D2E3FC;\n",
              "    }\n",
              "\n",
              "    [theme=dark] .colab-df-convert:hover {\n",
              "      background-color: #434B5C;\n",
              "      box-shadow: 0px 1px 3px 1px rgba(0, 0, 0, 0.15);\n",
              "      filter: drop-shadow(0px 1px 2px rgba(0, 0, 0, 0.3));\n",
              "      fill: #FFFFFF;\n",
              "    }\n",
              "  </style>\n",
              "\n",
              "      <script>\n",
              "        const buttonEl =\n",
              "          document.querySelector('#df-e447e329-f42c-47f3-b45e-34b0bb7de9ec button.colab-df-convert');\n",
              "        buttonEl.style.display =\n",
              "          google.colab.kernel.accessAllowed ? 'block' : 'none';\n",
              "\n",
              "        async function convertToInteractive(key) {\n",
              "          const element = document.querySelector('#df-e447e329-f42c-47f3-b45e-34b0bb7de9ec');\n",
              "          const dataTable =\n",
              "            await google.colab.kernel.invokeFunction('convertToInteractive',\n",
              "                                                     [key], {});\n",
              "          if (!dataTable) return;\n",
              "\n",
              "          const docLinkHtml = 'Like what you see? Visit the ' +\n",
              "            '<a target=\"_blank\" href=https://colab.research.google.com/notebooks/data_table.ipynb>data table notebook</a>'\n",
              "            + ' to learn more about interactive tables.';\n",
              "          element.innerHTML = '';\n",
              "          dataTable['output_type'] = 'display_data';\n",
              "          await google.colab.output.renderOutput(dataTable, element);\n",
              "          const docLink = document.createElement('div');\n",
              "          docLink.innerHTML = docLinkHtml;\n",
              "          element.appendChild(docLink);\n",
              "        }\n",
              "      </script>\n",
              "    </div>\n",
              "  </div>\n",
              "  "
            ]
          },
          "metadata": {},
          "execution_count": 51
        }
      ]
    },
    {
      "cell_type": "code",
      "source": [
        "products.isna().sum()"
      ],
      "metadata": {
        "colab": {
          "base_uri": "https://localhost:8080/"
        },
        "id": "pDhwQaetwWHa",
        "outputId": "6caa7064-e594-4080-e856-98fd8108cd12"
      },
      "execution_count": null,
      "outputs": [
        {
          "output_type": "execute_result",
          "data": {
            "text/plain": [
              "product_id                 0\n",
              "product_category_name      0\n",
              "product_photos_qty         0\n",
              "product_weight_g           0\n",
              "product_length_cm          0\n",
              "product_height_cm          0\n",
              "product_width_cm           0\n",
              "price                      0\n",
              "review_score             157\n",
              "sold                       0\n",
              "seller_id                  0\n",
              "dtype: int64"
            ]
          },
          "metadata": {},
          "execution_count": 52
        }
      ]
    },
    {
      "cell_type": "markdown",
      "source": [
        "## Masukan respons time ke seller"
      ],
      "metadata": {
        "id": "idsT1W2-wkke"
      }
    },
    {
      "cell_type": "code",
      "source": [
        "respons_time_order = pd.merge(raw_order_items, raw_orders[['order_id',\n",
        "                                                           'respons_time_order']],\n",
        "                              on='order_id', how='left')[['seller_id', 'respons_time_order']]\n",
        "\n",
        "respons_time_order = respons_time_order.groupby('seller_id').mean().reset_index()\n",
        "\n",
        "products = pd.merge(products, respons_time_order, on='seller_id', how='left')\n",
        "products.head()"
      ],
      "metadata": {
        "colab": {
          "base_uri": "https://localhost:8080/",
          "height": 357
        },
        "id": "cTEd0U7zwmU3",
        "outputId": "f0cb12af-9fb5-41e2-e8a2-f0196bd430b0"
      },
      "execution_count": null,
      "outputs": [
        {
          "output_type": "execute_result",
          "data": {
            "text/plain": [
              "      product_id product_category_name  product_photos_qty  product_weight_g  \\\n",
              "0   product_4053             perfumery                 1.0             225.0   \n",
              "1   product_7645                   art                 1.0            1000.0   \n",
              "2  product_19351        sports_leisure                 1.0             154.0   \n",
              "3  product_26672                  baby                 1.0             371.0   \n",
              "4  product_20305            housewares                 4.0             625.0   \n",
              "\n",
              "   product_length_cm  product_height_cm  product_width_cm   price  \\\n",
              "0               16.0               10.0              14.0   10.91   \n",
              "1               30.0               18.0              20.0  248.00   \n",
              "2               18.0                9.0              15.0   79.80   \n",
              "3               26.0                4.0              26.0  112.30   \n",
              "4               20.0               17.0              13.0   37.90   \n",
              "\n",
              "   review_score  sold    seller_id        respons_time_order  \n",
              "0           5.0     1   seller_993 0 days 16:30:40.454545454  \n",
              "1           5.0     1   seller_862 0 days 07:27:57.178947368  \n",
              "2           5.0     1  seller_2969 0 days 05:00:58.052083333  \n",
              "3           1.0     1   seller_350    0 days 14:40:26.750000  \n",
              "4           5.0     1  seller_1040 0 days 06:47:04.588571428  "
            ],
            "text/html": [
              "\n",
              "  <div id=\"df-b0975423-906d-4cb6-a10a-f082f70d5d5d\">\n",
              "    <div class=\"colab-df-container\">\n",
              "      <div>\n",
              "<style scoped>\n",
              "    .dataframe tbody tr th:only-of-type {\n",
              "        vertical-align: middle;\n",
              "    }\n",
              "\n",
              "    .dataframe tbody tr th {\n",
              "        vertical-align: top;\n",
              "    }\n",
              "\n",
              "    .dataframe thead th {\n",
              "        text-align: right;\n",
              "    }\n",
              "</style>\n",
              "<table border=\"1\" class=\"dataframe\">\n",
              "  <thead>\n",
              "    <tr style=\"text-align: right;\">\n",
              "      <th></th>\n",
              "      <th>product_id</th>\n",
              "      <th>product_category_name</th>\n",
              "      <th>product_photos_qty</th>\n",
              "      <th>product_weight_g</th>\n",
              "      <th>product_length_cm</th>\n",
              "      <th>product_height_cm</th>\n",
              "      <th>product_width_cm</th>\n",
              "      <th>price</th>\n",
              "      <th>review_score</th>\n",
              "      <th>sold</th>\n",
              "      <th>seller_id</th>\n",
              "      <th>respons_time_order</th>\n",
              "    </tr>\n",
              "  </thead>\n",
              "  <tbody>\n",
              "    <tr>\n",
              "      <th>0</th>\n",
              "      <td>product_4053</td>\n",
              "      <td>perfumery</td>\n",
              "      <td>1.0</td>\n",
              "      <td>225.0</td>\n",
              "      <td>16.0</td>\n",
              "      <td>10.0</td>\n",
              "      <td>14.0</td>\n",
              "      <td>10.91</td>\n",
              "      <td>5.0</td>\n",
              "      <td>1</td>\n",
              "      <td>seller_993</td>\n",
              "      <td>0 days 16:30:40.454545454</td>\n",
              "    </tr>\n",
              "    <tr>\n",
              "      <th>1</th>\n",
              "      <td>product_7645</td>\n",
              "      <td>art</td>\n",
              "      <td>1.0</td>\n",
              "      <td>1000.0</td>\n",
              "      <td>30.0</td>\n",
              "      <td>18.0</td>\n",
              "      <td>20.0</td>\n",
              "      <td>248.00</td>\n",
              "      <td>5.0</td>\n",
              "      <td>1</td>\n",
              "      <td>seller_862</td>\n",
              "      <td>0 days 07:27:57.178947368</td>\n",
              "    </tr>\n",
              "    <tr>\n",
              "      <th>2</th>\n",
              "      <td>product_19351</td>\n",
              "      <td>sports_leisure</td>\n",
              "      <td>1.0</td>\n",
              "      <td>154.0</td>\n",
              "      <td>18.0</td>\n",
              "      <td>9.0</td>\n",
              "      <td>15.0</td>\n",
              "      <td>79.80</td>\n",
              "      <td>5.0</td>\n",
              "      <td>1</td>\n",
              "      <td>seller_2969</td>\n",
              "      <td>0 days 05:00:58.052083333</td>\n",
              "    </tr>\n",
              "    <tr>\n",
              "      <th>3</th>\n",
              "      <td>product_26672</td>\n",
              "      <td>baby</td>\n",
              "      <td>1.0</td>\n",
              "      <td>371.0</td>\n",
              "      <td>26.0</td>\n",
              "      <td>4.0</td>\n",
              "      <td>26.0</td>\n",
              "      <td>112.30</td>\n",
              "      <td>1.0</td>\n",
              "      <td>1</td>\n",
              "      <td>seller_350</td>\n",
              "      <td>0 days 14:40:26.750000</td>\n",
              "    </tr>\n",
              "    <tr>\n",
              "      <th>4</th>\n",
              "      <td>product_20305</td>\n",
              "      <td>housewares</td>\n",
              "      <td>4.0</td>\n",
              "      <td>625.0</td>\n",
              "      <td>20.0</td>\n",
              "      <td>17.0</td>\n",
              "      <td>13.0</td>\n",
              "      <td>37.90</td>\n",
              "      <td>5.0</td>\n",
              "      <td>1</td>\n",
              "      <td>seller_1040</td>\n",
              "      <td>0 days 06:47:04.588571428</td>\n",
              "    </tr>\n",
              "  </tbody>\n",
              "</table>\n",
              "</div>\n",
              "      <button class=\"colab-df-convert\" onclick=\"convertToInteractive('df-b0975423-906d-4cb6-a10a-f082f70d5d5d')\"\n",
              "              title=\"Convert this dataframe to an interactive table.\"\n",
              "              style=\"display:none;\">\n",
              "        \n",
              "  <svg xmlns=\"http://www.w3.org/2000/svg\" height=\"24px\"viewBox=\"0 0 24 24\"\n",
              "       width=\"24px\">\n",
              "    <path d=\"M0 0h24v24H0V0z\" fill=\"none\"/>\n",
              "    <path d=\"M18.56 5.44l.94 2.06.94-2.06 2.06-.94-2.06-.94-.94-2.06-.94 2.06-2.06.94zm-11 1L8.5 8.5l.94-2.06 2.06-.94-2.06-.94L8.5 2.5l-.94 2.06-2.06.94zm10 10l.94 2.06.94-2.06 2.06-.94-2.06-.94-.94-2.06-.94 2.06-2.06.94z\"/><path d=\"M17.41 7.96l-1.37-1.37c-.4-.4-.92-.59-1.43-.59-.52 0-1.04.2-1.43.59L10.3 9.45l-7.72 7.72c-.78.78-.78 2.05 0 2.83L4 21.41c.39.39.9.59 1.41.59.51 0 1.02-.2 1.41-.59l7.78-7.78 2.81-2.81c.8-.78.8-2.07 0-2.86zM5.41 20L4 18.59l7.72-7.72 1.47 1.35L5.41 20z\"/>\n",
              "  </svg>\n",
              "      </button>\n",
              "      \n",
              "  <style>\n",
              "    .colab-df-container {\n",
              "      display:flex;\n",
              "      flex-wrap:wrap;\n",
              "      gap: 12px;\n",
              "    }\n",
              "\n",
              "    .colab-df-convert {\n",
              "      background-color: #E8F0FE;\n",
              "      border: none;\n",
              "      border-radius: 50%;\n",
              "      cursor: pointer;\n",
              "      display: none;\n",
              "      fill: #1967D2;\n",
              "      height: 32px;\n",
              "      padding: 0 0 0 0;\n",
              "      width: 32px;\n",
              "    }\n",
              "\n",
              "    .colab-df-convert:hover {\n",
              "      background-color: #E2EBFA;\n",
              "      box-shadow: 0px 1px 2px rgba(60, 64, 67, 0.3), 0px 1px 3px 1px rgba(60, 64, 67, 0.15);\n",
              "      fill: #174EA6;\n",
              "    }\n",
              "\n",
              "    [theme=dark] .colab-df-convert {\n",
              "      background-color: #3B4455;\n",
              "      fill: #D2E3FC;\n",
              "    }\n",
              "\n",
              "    [theme=dark] .colab-df-convert:hover {\n",
              "      background-color: #434B5C;\n",
              "      box-shadow: 0px 1px 3px 1px rgba(0, 0, 0, 0.15);\n",
              "      filter: drop-shadow(0px 1px 2px rgba(0, 0, 0, 0.3));\n",
              "      fill: #FFFFFF;\n",
              "    }\n",
              "  </style>\n",
              "\n",
              "      <script>\n",
              "        const buttonEl =\n",
              "          document.querySelector('#df-b0975423-906d-4cb6-a10a-f082f70d5d5d button.colab-df-convert');\n",
              "        buttonEl.style.display =\n",
              "          google.colab.kernel.accessAllowed ? 'block' : 'none';\n",
              "\n",
              "        async function convertToInteractive(key) {\n",
              "          const element = document.querySelector('#df-b0975423-906d-4cb6-a10a-f082f70d5d5d');\n",
              "          const dataTable =\n",
              "            await google.colab.kernel.invokeFunction('convertToInteractive',\n",
              "                                                     [key], {});\n",
              "          if (!dataTable) return;\n",
              "\n",
              "          const docLinkHtml = 'Like what you see? Visit the ' +\n",
              "            '<a target=\"_blank\" href=https://colab.research.google.com/notebooks/data_table.ipynb>data table notebook</a>'\n",
              "            + ' to learn more about interactive tables.';\n",
              "          element.innerHTML = '';\n",
              "          dataTable['output_type'] = 'display_data';\n",
              "          await google.colab.output.renderOutput(dataTable, element);\n",
              "          const docLink = document.createElement('div');\n",
              "          docLink.innerHTML = docLinkHtml;\n",
              "          element.appendChild(docLink);\n",
              "        }\n",
              "      </script>\n",
              "    </div>\n",
              "  </div>\n",
              "  "
            ]
          },
          "metadata": {},
          "execution_count": 53
        }
      ]
    },
    {
      "cell_type": "markdown",
      "source": [
        "# Data Preparation"
      ],
      "metadata": {
        "id": "hCjolcJcyctO"
      }
    },
    {
      "cell_type": "code",
      "source": [
        "products.isna().sum()"
      ],
      "metadata": {
        "colab": {
          "base_uri": "https://localhost:8080/"
        },
        "id": "MoJESJkDyQp8",
        "outputId": "96616f32-763b-49ce-bf1f-1d861c90ab53"
      },
      "execution_count": null,
      "outputs": [
        {
          "output_type": "execute_result",
          "data": {
            "text/plain": [
              "product_id                 0\n",
              "product_category_name      0\n",
              "product_photos_qty         0\n",
              "product_weight_g           0\n",
              "product_length_cm          0\n",
              "product_height_cm          0\n",
              "product_width_cm           0\n",
              "price                      0\n",
              "review_score             157\n",
              "sold                       0\n",
              "seller_id                  0\n",
              "respons_time_order       133\n",
              "dtype: int64"
            ]
          },
          "metadata": {},
          "execution_count": 54
        }
      ]
    },
    {
      "cell_type": "markdown",
      "source": [
        "Terdapat beberapa produk yang memiliki nilai review yang hilang dan respons_time_order yang hilang juga.\n",
        "\n",
        "Untuk review score, akan diganti nilai yang hilang tersebut dengan 0.\n",
        "Begitu pula untuk respons time akan diganti dengan 0."
      ],
      "metadata": {
        "id": "jfsYkzk2ylPY"
      }
    },
    {
      "cell_type": "code",
      "source": [
        "products['review_score'] = products.review_score.fillna(0)\n",
        "products['respons_time_order'] = products.respons_time_order.fillna(pd.Timedelta(0))\n",
        "products.info()"
      ],
      "metadata": {
        "colab": {
          "base_uri": "https://localhost:8080/"
        },
        "id": "LYWYLtOAydzs",
        "outputId": "13541c34-f4ac-489a-b4e7-be0d909199c6"
      },
      "execution_count": null,
      "outputs": [
        {
          "output_type": "stream",
          "name": "stdout",
          "text": [
            "<class 'pandas.core.frame.DataFrame'>\n",
            "Int64Index: 32340 entries, 0 to 32339\n",
            "Data columns (total 12 columns):\n",
            " #   Column                 Non-Null Count  Dtype          \n",
            "---  ------                 --------------  -----          \n",
            " 0   product_id             32340 non-null  object         \n",
            " 1   product_category_name  32340 non-null  object         \n",
            " 2   product_photos_qty     32340 non-null  float64        \n",
            " 3   product_weight_g       32340 non-null  float64        \n",
            " 4   product_length_cm      32340 non-null  float64        \n",
            " 5   product_height_cm      32340 non-null  float64        \n",
            " 6   product_width_cm       32340 non-null  float64        \n",
            " 7   price                  32340 non-null  float64        \n",
            " 8   review_score           32340 non-null  float64        \n",
            " 9   sold                   32340 non-null  int64          \n",
            " 10  seller_id              32340 non-null  object         \n",
            " 11  respons_time_order     32340 non-null  timedelta64[ns]\n",
            "dtypes: float64(7), int64(1), object(3), timedelta64[ns](1)\n",
            "memory usage: 3.2+ MB\n"
          ]
        }
      ]
    },
    {
      "cell_type": "code",
      "source": [
        "print('jumlah product:', len(products.product_id.unique()))\n",
        "print('jumlah kategori product:', len(products.product_category_name.unique()))\n",
        "print('ada berapa product id yang duplikat?', products.duplicated('product_id').sum())\n",
        "print('ada berapa seller id yang duplikat?', products.duplicated('seller_id').sum())"
      ],
      "metadata": {
        "colab": {
          "base_uri": "https://localhost:8080/"
        },
        "id": "sn7C_uN201bK",
        "outputId": "9e3932e7-3836-41a0-9cd2-24a2838560a2"
      },
      "execution_count": null,
      "outputs": [
        {
          "output_type": "stream",
          "name": "stdout",
          "text": [
            "jumlah product: 32340\n",
            "jumlah kategori product: 73\n",
            "ada berapa product id yang duplikat? 0\n",
            "ada berapa seller id yang duplikat? 29346\n"
          ]
        }
      ]
    },
    {
      "cell_type": "code",
      "source": [
        "products_new = products[['product_id', 'product_category_name', 'seller_id',\n",
        "                         'price', 'review_score', 'sold']]\n",
        "\n",
        "products_new.head()"
      ],
      "metadata": {
        "colab": {
          "base_uri": "https://localhost:8080/",
          "height": 206
        },
        "id": "rcgt5-eg1ho5",
        "outputId": "6a10d0ae-d36d-430e-d9f1-380c0d59f196"
      },
      "execution_count": null,
      "outputs": [
        {
          "output_type": "execute_result",
          "data": {
            "text/plain": [
              "      product_id product_category_name    seller_id   price  review_score  \\\n",
              "0   product_4053             perfumery   seller_993   10.91           5.0   \n",
              "1   product_7645                   art   seller_862  248.00           5.0   \n",
              "2  product_19351        sports_leisure  seller_2969   79.80           5.0   \n",
              "3  product_26672                  baby   seller_350  112.30           1.0   \n",
              "4  product_20305            housewares  seller_1040   37.90           5.0   \n",
              "\n",
              "   sold  \n",
              "0     1  \n",
              "1     1  \n",
              "2     1  \n",
              "3     1  \n",
              "4     1  "
            ],
            "text/html": [
              "\n",
              "  <div id=\"df-1d323934-1d90-441b-a1c0-4790dd0ab391\">\n",
              "    <div class=\"colab-df-container\">\n",
              "      <div>\n",
              "<style scoped>\n",
              "    .dataframe tbody tr th:only-of-type {\n",
              "        vertical-align: middle;\n",
              "    }\n",
              "\n",
              "    .dataframe tbody tr th {\n",
              "        vertical-align: top;\n",
              "    }\n",
              "\n",
              "    .dataframe thead th {\n",
              "        text-align: right;\n",
              "    }\n",
              "</style>\n",
              "<table border=\"1\" class=\"dataframe\">\n",
              "  <thead>\n",
              "    <tr style=\"text-align: right;\">\n",
              "      <th></th>\n",
              "      <th>product_id</th>\n",
              "      <th>product_category_name</th>\n",
              "      <th>seller_id</th>\n",
              "      <th>price</th>\n",
              "      <th>review_score</th>\n",
              "      <th>sold</th>\n",
              "    </tr>\n",
              "  </thead>\n",
              "  <tbody>\n",
              "    <tr>\n",
              "      <th>0</th>\n",
              "      <td>product_4053</td>\n",
              "      <td>perfumery</td>\n",
              "      <td>seller_993</td>\n",
              "      <td>10.91</td>\n",
              "      <td>5.0</td>\n",
              "      <td>1</td>\n",
              "    </tr>\n",
              "    <tr>\n",
              "      <th>1</th>\n",
              "      <td>product_7645</td>\n",
              "      <td>art</td>\n",
              "      <td>seller_862</td>\n",
              "      <td>248.00</td>\n",
              "      <td>5.0</td>\n",
              "      <td>1</td>\n",
              "    </tr>\n",
              "    <tr>\n",
              "      <th>2</th>\n",
              "      <td>product_19351</td>\n",
              "      <td>sports_leisure</td>\n",
              "      <td>seller_2969</td>\n",
              "      <td>79.80</td>\n",
              "      <td>5.0</td>\n",
              "      <td>1</td>\n",
              "    </tr>\n",
              "    <tr>\n",
              "      <th>3</th>\n",
              "      <td>product_26672</td>\n",
              "      <td>baby</td>\n",
              "      <td>seller_350</td>\n",
              "      <td>112.30</td>\n",
              "      <td>1.0</td>\n",
              "      <td>1</td>\n",
              "    </tr>\n",
              "    <tr>\n",
              "      <th>4</th>\n",
              "      <td>product_20305</td>\n",
              "      <td>housewares</td>\n",
              "      <td>seller_1040</td>\n",
              "      <td>37.90</td>\n",
              "      <td>5.0</td>\n",
              "      <td>1</td>\n",
              "    </tr>\n",
              "  </tbody>\n",
              "</table>\n",
              "</div>\n",
              "      <button class=\"colab-df-convert\" onclick=\"convertToInteractive('df-1d323934-1d90-441b-a1c0-4790dd0ab391')\"\n",
              "              title=\"Convert this dataframe to an interactive table.\"\n",
              "              style=\"display:none;\">\n",
              "        \n",
              "  <svg xmlns=\"http://www.w3.org/2000/svg\" height=\"24px\"viewBox=\"0 0 24 24\"\n",
              "       width=\"24px\">\n",
              "    <path d=\"M0 0h24v24H0V0z\" fill=\"none\"/>\n",
              "    <path d=\"M18.56 5.44l.94 2.06.94-2.06 2.06-.94-2.06-.94-.94-2.06-.94 2.06-2.06.94zm-11 1L8.5 8.5l.94-2.06 2.06-.94-2.06-.94L8.5 2.5l-.94 2.06-2.06.94zm10 10l.94 2.06.94-2.06 2.06-.94-2.06-.94-.94-2.06-.94 2.06-2.06.94z\"/><path d=\"M17.41 7.96l-1.37-1.37c-.4-.4-.92-.59-1.43-.59-.52 0-1.04.2-1.43.59L10.3 9.45l-7.72 7.72c-.78.78-.78 2.05 0 2.83L4 21.41c.39.39.9.59 1.41.59.51 0 1.02-.2 1.41-.59l7.78-7.78 2.81-2.81c.8-.78.8-2.07 0-2.86zM5.41 20L4 18.59l7.72-7.72 1.47 1.35L5.41 20z\"/>\n",
              "  </svg>\n",
              "      </button>\n",
              "      \n",
              "  <style>\n",
              "    .colab-df-container {\n",
              "      display:flex;\n",
              "      flex-wrap:wrap;\n",
              "      gap: 12px;\n",
              "    }\n",
              "\n",
              "    .colab-df-convert {\n",
              "      background-color: #E8F0FE;\n",
              "      border: none;\n",
              "      border-radius: 50%;\n",
              "      cursor: pointer;\n",
              "      display: none;\n",
              "      fill: #1967D2;\n",
              "      height: 32px;\n",
              "      padding: 0 0 0 0;\n",
              "      width: 32px;\n",
              "    }\n",
              "\n",
              "    .colab-df-convert:hover {\n",
              "      background-color: #E2EBFA;\n",
              "      box-shadow: 0px 1px 2px rgba(60, 64, 67, 0.3), 0px 1px 3px 1px rgba(60, 64, 67, 0.15);\n",
              "      fill: #174EA6;\n",
              "    }\n",
              "\n",
              "    [theme=dark] .colab-df-convert {\n",
              "      background-color: #3B4455;\n",
              "      fill: #D2E3FC;\n",
              "    }\n",
              "\n",
              "    [theme=dark] .colab-df-convert:hover {\n",
              "      background-color: #434B5C;\n",
              "      box-shadow: 0px 1px 3px 1px rgba(0, 0, 0, 0.15);\n",
              "      filter: drop-shadow(0px 1px 2px rgba(0, 0, 0, 0.3));\n",
              "      fill: #FFFFFF;\n",
              "    }\n",
              "  </style>\n",
              "\n",
              "      <script>\n",
              "        const buttonEl =\n",
              "          document.querySelector('#df-1d323934-1d90-441b-a1c0-4790dd0ab391 button.colab-df-convert');\n",
              "        buttonEl.style.display =\n",
              "          google.colab.kernel.accessAllowed ? 'block' : 'none';\n",
              "\n",
              "        async function convertToInteractive(key) {\n",
              "          const element = document.querySelector('#df-1d323934-1d90-441b-a1c0-4790dd0ab391');\n",
              "          const dataTable =\n",
              "            await google.colab.kernel.invokeFunction('convertToInteractive',\n",
              "                                                     [key], {});\n",
              "          if (!dataTable) return;\n",
              "\n",
              "          const docLinkHtml = 'Like what you see? Visit the ' +\n",
              "            '<a target=\"_blank\" href=https://colab.research.google.com/notebooks/data_table.ipynb>data table notebook</a>'\n",
              "            + ' to learn more about interactive tables.';\n",
              "          element.innerHTML = '';\n",
              "          dataTable['output_type'] = 'display_data';\n",
              "          await google.colab.output.renderOutput(dataTable, element);\n",
              "          const docLink = document.createElement('div');\n",
              "          docLink.innerHTML = docLinkHtml;\n",
              "          element.appendChild(docLink);\n",
              "        }\n",
              "      </script>\n",
              "    </div>\n",
              "  </div>\n",
              "  "
            ]
          },
          "metadata": {},
          "execution_count": 57
        }
      ]
    },
    {
      "cell_type": "markdown",
      "source": [
        "# Model Development dengan Content Based Filtering"
      ],
      "metadata": {
        "id": "XEgVgktm2nIT"
      }
    },
    {
      "cell_type": "code",
      "source": [
        "data = products_new\n",
        "data.sample(5)"
      ],
      "metadata": {
        "colab": {
          "base_uri": "https://localhost:8080/",
          "height": 206
        },
        "id": "iC5MkCgH2q9J",
        "outputId": "7c7c77b4-3fdd-439b-9c9e-02bc51eb4f5f"
      },
      "execution_count": null,
      "outputs": [
        {
          "output_type": "execute_result",
          "data": {
            "text/plain": [
              "          product_id product_category_name    seller_id  price  review_score  \\\n",
              "31739  product_20557             telephony   seller_738  27.99           4.0   \n",
              "1809    product_9471       furniture_decor   seller_378  32.90           2.0   \n",
              "6340   product_16792         watches_gifts   seller_656  99.00           4.0   \n",
              "18081  product_25425       furniture_decor  seller_2293  65.00           1.0   \n",
              "31027  product_11821            housewares  seller_1231  39.90           2.0   \n",
              "\n",
              "       sold  \n",
              "31739     1  \n",
              "1809      1  \n",
              "6340      1  \n",
              "18081     1  \n",
              "31027     2  "
            ],
            "text/html": [
              "\n",
              "  <div id=\"df-0bbb43f3-74c9-442e-b35d-7c0f0faebd79\">\n",
              "    <div class=\"colab-df-container\">\n",
              "      <div>\n",
              "<style scoped>\n",
              "    .dataframe tbody tr th:only-of-type {\n",
              "        vertical-align: middle;\n",
              "    }\n",
              "\n",
              "    .dataframe tbody tr th {\n",
              "        vertical-align: top;\n",
              "    }\n",
              "\n",
              "    .dataframe thead th {\n",
              "        text-align: right;\n",
              "    }\n",
              "</style>\n",
              "<table border=\"1\" class=\"dataframe\">\n",
              "  <thead>\n",
              "    <tr style=\"text-align: right;\">\n",
              "      <th></th>\n",
              "      <th>product_id</th>\n",
              "      <th>product_category_name</th>\n",
              "      <th>seller_id</th>\n",
              "      <th>price</th>\n",
              "      <th>review_score</th>\n",
              "      <th>sold</th>\n",
              "    </tr>\n",
              "  </thead>\n",
              "  <tbody>\n",
              "    <tr>\n",
              "      <th>31739</th>\n",
              "      <td>product_20557</td>\n",
              "      <td>telephony</td>\n",
              "      <td>seller_738</td>\n",
              "      <td>27.99</td>\n",
              "      <td>4.0</td>\n",
              "      <td>1</td>\n",
              "    </tr>\n",
              "    <tr>\n",
              "      <th>1809</th>\n",
              "      <td>product_9471</td>\n",
              "      <td>furniture_decor</td>\n",
              "      <td>seller_378</td>\n",
              "      <td>32.90</td>\n",
              "      <td>2.0</td>\n",
              "      <td>1</td>\n",
              "    </tr>\n",
              "    <tr>\n",
              "      <th>6340</th>\n",
              "      <td>product_16792</td>\n",
              "      <td>watches_gifts</td>\n",
              "      <td>seller_656</td>\n",
              "      <td>99.00</td>\n",
              "      <td>4.0</td>\n",
              "      <td>1</td>\n",
              "    </tr>\n",
              "    <tr>\n",
              "      <th>18081</th>\n",
              "      <td>product_25425</td>\n",
              "      <td>furniture_decor</td>\n",
              "      <td>seller_2293</td>\n",
              "      <td>65.00</td>\n",
              "      <td>1.0</td>\n",
              "      <td>1</td>\n",
              "    </tr>\n",
              "    <tr>\n",
              "      <th>31027</th>\n",
              "      <td>product_11821</td>\n",
              "      <td>housewares</td>\n",
              "      <td>seller_1231</td>\n",
              "      <td>39.90</td>\n",
              "      <td>2.0</td>\n",
              "      <td>2</td>\n",
              "    </tr>\n",
              "  </tbody>\n",
              "</table>\n",
              "</div>\n",
              "      <button class=\"colab-df-convert\" onclick=\"convertToInteractive('df-0bbb43f3-74c9-442e-b35d-7c0f0faebd79')\"\n",
              "              title=\"Convert this dataframe to an interactive table.\"\n",
              "              style=\"display:none;\">\n",
              "        \n",
              "  <svg xmlns=\"http://www.w3.org/2000/svg\" height=\"24px\"viewBox=\"0 0 24 24\"\n",
              "       width=\"24px\">\n",
              "    <path d=\"M0 0h24v24H0V0z\" fill=\"none\"/>\n",
              "    <path d=\"M18.56 5.44l.94 2.06.94-2.06 2.06-.94-2.06-.94-.94-2.06-.94 2.06-2.06.94zm-11 1L8.5 8.5l.94-2.06 2.06-.94-2.06-.94L8.5 2.5l-.94 2.06-2.06.94zm10 10l.94 2.06.94-2.06 2.06-.94-2.06-.94-.94-2.06-.94 2.06-2.06.94z\"/><path d=\"M17.41 7.96l-1.37-1.37c-.4-.4-.92-.59-1.43-.59-.52 0-1.04.2-1.43.59L10.3 9.45l-7.72 7.72c-.78.78-.78 2.05 0 2.83L4 21.41c.39.39.9.59 1.41.59.51 0 1.02-.2 1.41-.59l7.78-7.78 2.81-2.81c.8-.78.8-2.07 0-2.86zM5.41 20L4 18.59l7.72-7.72 1.47 1.35L5.41 20z\"/>\n",
              "  </svg>\n",
              "      </button>\n",
              "      \n",
              "  <style>\n",
              "    .colab-df-container {\n",
              "      display:flex;\n",
              "      flex-wrap:wrap;\n",
              "      gap: 12px;\n",
              "    }\n",
              "\n",
              "    .colab-df-convert {\n",
              "      background-color: #E8F0FE;\n",
              "      border: none;\n",
              "      border-radius: 50%;\n",
              "      cursor: pointer;\n",
              "      display: none;\n",
              "      fill: #1967D2;\n",
              "      height: 32px;\n",
              "      padding: 0 0 0 0;\n",
              "      width: 32px;\n",
              "    }\n",
              "\n",
              "    .colab-df-convert:hover {\n",
              "      background-color: #E2EBFA;\n",
              "      box-shadow: 0px 1px 2px rgba(60, 64, 67, 0.3), 0px 1px 3px 1px rgba(60, 64, 67, 0.15);\n",
              "      fill: #174EA6;\n",
              "    }\n",
              "\n",
              "    [theme=dark] .colab-df-convert {\n",
              "      background-color: #3B4455;\n",
              "      fill: #D2E3FC;\n",
              "    }\n",
              "\n",
              "    [theme=dark] .colab-df-convert:hover {\n",
              "      background-color: #434B5C;\n",
              "      box-shadow: 0px 1px 3px 1px rgba(0, 0, 0, 0.15);\n",
              "      filter: drop-shadow(0px 1px 2px rgba(0, 0, 0, 0.3));\n",
              "      fill: #FFFFFF;\n",
              "    }\n",
              "  </style>\n",
              "\n",
              "      <script>\n",
              "        const buttonEl =\n",
              "          document.querySelector('#df-0bbb43f3-74c9-442e-b35d-7c0f0faebd79 button.colab-df-convert');\n",
              "        buttonEl.style.display =\n",
              "          google.colab.kernel.accessAllowed ? 'block' : 'none';\n",
              "\n",
              "        async function convertToInteractive(key) {\n",
              "          const element = document.querySelector('#df-0bbb43f3-74c9-442e-b35d-7c0f0faebd79');\n",
              "          const dataTable =\n",
              "            await google.colab.kernel.invokeFunction('convertToInteractive',\n",
              "                                                     [key], {});\n",
              "          if (!dataTable) return;\n",
              "\n",
              "          const docLinkHtml = 'Like what you see? Visit the ' +\n",
              "            '<a target=\"_blank\" href=https://colab.research.google.com/notebooks/data_table.ipynb>data table notebook</a>'\n",
              "            + ' to learn more about interactive tables.';\n",
              "          element.innerHTML = '';\n",
              "          dataTable['output_type'] = 'display_data';\n",
              "          await google.colab.output.renderOutput(dataTable, element);\n",
              "          const docLink = document.createElement('div');\n",
              "          docLink.innerHTML = docLinkHtml;\n",
              "          element.appendChild(docLink);\n",
              "        }\n",
              "      </script>\n",
              "    </div>\n",
              "  </div>\n",
              "  "
            ]
          },
          "metadata": {},
          "execution_count": 58
        }
      ]
    },
    {
      "cell_type": "markdown",
      "source": [
        "## TF-IDF Vectorizer"
      ],
      "metadata": {
        "id": "JphNrFSQ2v6G"
      }
    },
    {
      "cell_type": "code",
      "source": [
        "from sklearn.feature_extraction.text import TfidfVectorizer\n",
        " \n",
        "# Inisialisasi TfidfVectorizer\n",
        "tf = TfidfVectorizer()\n",
        " \n",
        "# Melakukan perhitungan idf pada nama kategori produk\n",
        "tf.fit(data['product_category_name']) \n",
        " \n",
        "# Mapping array dari fitur index integer ke fitur nama\n",
        "tf.get_feature_names_out() "
      ],
      "metadata": {
        "colab": {
          "base_uri": "https://localhost:8080/"
        },
        "id": "Pby2Xb4S21Dl",
        "outputId": "1eafd914-2aae-40e2-89fa-a6a04e5ad851"
      },
      "execution_count": null,
      "outputs": [
        {
          "output_type": "execute_result",
          "data": {
            "text/plain": [
              "array(['agro_industry_and_commerce', 'air_conditioning', 'art',\n",
              "       'arts_and_craftmanship', 'audio', 'auto', 'baby', 'bed_bath_table',\n",
              "       'books_general_interest', 'books_imported', 'books_technical',\n",
              "       'cds_dvds_musicals', 'christmas_supplies', 'cine_photo',\n",
              "       'computers', 'computers_accessories', 'consoles_games',\n",
              "       'construction_tools_construction', 'construction_tools_lights',\n",
              "       'construction_tools_safety', 'cool_stuff',\n",
              "       'costruction_tools_garden', 'costruction_tools_tools',\n",
              "       'diapers_and_hygiene', 'drinks', 'dvds_blu_ray', 'electronics',\n",
              "       'fashio_female_clothing', 'fashion_bags_accessories',\n",
              "       'fashion_childrens_clothes', 'fashion_male_clothing',\n",
              "       'fashion_shoes', 'fashion_sport', 'fashion_underwear_beach',\n",
              "       'fixed_telephony', 'flowers', 'food', 'food_drink',\n",
              "       'furniture_bedroom', 'furniture_decor', 'furniture_living_room',\n",
              "       'furniture_mattress_and_upholstery', 'garden_tools',\n",
              "       'health_beauty', 'home_appliances', 'home_appliances_2',\n",
              "       'home_comfort_2', 'home_confort', 'home_construction',\n",
              "       'housewares', 'industry_commerce_and_business',\n",
              "       'kitchen_dining_laundry_garden_furniture', 'la_cuisine',\n",
              "       'luggage_accessories', 'market_place', 'music',\n",
              "       'musical_instruments', 'office_furniture', 'party_supplies',\n",
              "       'pc_gamer', 'perfumery', 'pet_shop',\n",
              "       'portateis_cozinha_e_preparadores_de_alimentos',\n",
              "       'security_and_services', 'signaling_and_security',\n",
              "       'small_appliances', 'small_appliances_home_oven_and_coffee',\n",
              "       'sports_leisure', 'stationery', 'tablets_printing_image',\n",
              "       'telephony', 'toys', 'watches_gifts'], dtype=object)"
            ]
          },
          "metadata": {},
          "execution_count": 59
        }
      ]
    },
    {
      "cell_type": "code",
      "source": [
        "# Melakukan fit lalu ditransformasikan ke bentuk matrix\n",
        "tfidf_matrix = tf.fit_transform(data['product_category_name']) \n",
        " \n",
        "# Melihat ukuran matrix tfidf\n",
        "tfidf_matrix.shape "
      ],
      "metadata": {
        "colab": {
          "base_uri": "https://localhost:8080/"
        },
        "id": "idwb84EZ3JmU",
        "outputId": "945cd1b8-dbf6-47c7-aba3-698a257c9bbc"
      },
      "execution_count": null,
      "outputs": [
        {
          "output_type": "execute_result",
          "data": {
            "text/plain": [
              "(32340, 73)"
            ]
          },
          "metadata": {},
          "execution_count": 60
        }
      ]
    },
    {
      "cell_type": "code",
      "source": [
        "# Mengubah vektor tf-idf dalam bentuk matriks dengan fungsi todense()\n",
        "tfidf_matrix.todense()"
      ],
      "metadata": {
        "colab": {
          "base_uri": "https://localhost:8080/"
        },
        "id": "rVpgq7pX3V7Z",
        "outputId": "4e34eebd-ad1c-4f8d-abfb-599b22b8e80b"
      },
      "execution_count": null,
      "outputs": [
        {
          "output_type": "execute_result",
          "data": {
            "text/plain": [
              "matrix([[0., 0., 0., ..., 0., 0., 0.],\n",
              "        [0., 0., 1., ..., 0., 0., 0.],\n",
              "        [0., 0., 0., ..., 0., 0., 0.],\n",
              "        ...,\n",
              "        [0., 0., 0., ..., 0., 0., 0.],\n",
              "        [0., 0., 0., ..., 0., 0., 0.],\n",
              "        [0., 0., 0., ..., 0., 0., 0.]])"
            ]
          },
          "metadata": {},
          "execution_count": 61
        }
      ]
    },
    {
      "cell_type": "code",
      "source": [
        "# Membuat dataframe untuk melihat tf-idf matrix\n",
        "# Kolom diisi dengan jenis masakan\n",
        "# Baris diisi dengan nama resto\n",
        " \n",
        "pd.DataFrame(\n",
        "    tfidf_matrix.todense(), \n",
        "    columns=tf.get_feature_names_out(),\n",
        "    index=data.product_id\n",
        ").sample(22, axis=1).sample(10, axis=0)"
      ],
      "metadata": {
        "colab": {
          "base_uri": "https://localhost:8080/",
          "height": 488
        },
        "id": "YoUWdWVR3mbG",
        "outputId": "51992607-1528-45bc-8fae-b473c6ae869f"
      },
      "execution_count": null,
      "outputs": [
        {
          "output_type": "execute_result",
          "data": {
            "text/plain": [
              "               pet_shop  fashion_sport  fashio_female_clothing  dvds_blu_ray  \\\n",
              "product_id                                                                     \n",
              "product_5479        0.0            0.0                     0.0           0.0   \n",
              "product_17703       0.0            0.0                     0.0           0.0   \n",
              "product_23325       0.0            0.0                     0.0           0.0   \n",
              "product_6135        0.0            0.0                     0.0           0.0   \n",
              "product_27822       0.0            0.0                     0.0           0.0   \n",
              "product_28218       0.0            0.0                     0.0           0.0   \n",
              "product_25992       0.0            0.0                     0.0           0.0   \n",
              "product_31514       0.0            0.0                     0.0           0.0   \n",
              "product_32371       0.0            0.0                     0.0           0.0   \n",
              "product_8751        0.0            0.0                     0.0           0.0   \n",
              "\n",
              "               fashion_childrens_clothes  fashion_male_clothing  \\\n",
              "product_id                                                        \n",
              "product_5479                         0.0                    0.0   \n",
              "product_17703                        0.0                    0.0   \n",
              "product_23325                        0.0                    0.0   \n",
              "product_6135                         0.0                    0.0   \n",
              "product_27822                        0.0                    0.0   \n",
              "product_28218                        0.0                    0.0   \n",
              "product_25992                        0.0                    0.0   \n",
              "product_31514                        0.0                    0.0   \n",
              "product_32371                        0.0                    0.0   \n",
              "product_8751                         0.0                    0.0   \n",
              "\n",
              "               industry_commerce_and_business  music  \\\n",
              "product_id                                             \n",
              "product_5479                              0.0    0.0   \n",
              "product_17703                             0.0    0.0   \n",
              "product_23325                             0.0    0.0   \n",
              "product_6135                              0.0    0.0   \n",
              "product_27822                             0.0    0.0   \n",
              "product_28218                             0.0    0.0   \n",
              "product_25992                             0.0    0.0   \n",
              "product_31514                             0.0    0.0   \n",
              "product_32371                             0.0    0.0   \n",
              "product_8751                              0.0    0.0   \n",
              "\n",
              "               kitchen_dining_laundry_garden_furniture  audio  ...  \\\n",
              "product_id                                                     ...   \n",
              "product_5479                                       0.0    0.0  ...   \n",
              "product_17703                                      0.0    0.0  ...   \n",
              "product_23325                                      0.0    0.0  ...   \n",
              "product_6135                                       0.0    0.0  ...   \n",
              "product_27822                                      0.0    0.0  ...   \n",
              "product_28218                                      0.0    0.0  ...   \n",
              "product_25992                                      0.0    0.0  ...   \n",
              "product_31514                                      0.0    0.0  ...   \n",
              "product_32371                                      0.0    0.0  ...   \n",
              "product_8751                                       0.0    0.0  ...   \n",
              "\n",
              "               diapers_and_hygiene  sports_leisure  signaling_and_security  \\\n",
              "product_id                                                                   \n",
              "product_5479                   0.0             0.0                     0.0   \n",
              "product_17703                  0.0             0.0                     0.0   \n",
              "product_23325                  0.0             0.0                     0.0   \n",
              "product_6135                   0.0             0.0                     0.0   \n",
              "product_27822                  0.0             0.0                     0.0   \n",
              "product_28218                  0.0             0.0                     0.0   \n",
              "product_25992                  0.0             0.0                     0.0   \n",
              "product_31514                  0.0             0.0                     0.0   \n",
              "product_32371                  0.0             0.0                     0.0   \n",
              "product_8751                   0.0             0.0                     0.0   \n",
              "\n",
              "               home_appliances  small_appliances  electronics  \\\n",
              "product_id                                                      \n",
              "product_5479               0.0               0.0          0.0   \n",
              "product_17703              0.0               0.0          0.0   \n",
              "product_23325              0.0               0.0          0.0   \n",
              "product_6135               0.0               0.0          0.0   \n",
              "product_27822              0.0               0.0          0.0   \n",
              "product_28218              0.0               0.0          0.0   \n",
              "product_25992              0.0               0.0          0.0   \n",
              "product_31514              0.0               0.0          0.0   \n",
              "product_32371              0.0               0.0          0.0   \n",
              "product_8751               0.0               0.0          0.0   \n",
              "\n",
              "               portateis_cozinha_e_preparadores_de_alimentos  art  stationery  \\\n",
              "product_id                                                                      \n",
              "product_5479                                             0.0  0.0         0.0   \n",
              "product_17703                                            0.0  0.0         0.0   \n",
              "product_23325                                            0.0  0.0         0.0   \n",
              "product_6135                                             0.0  0.0         0.0   \n",
              "product_27822                                            0.0  0.0         0.0   \n",
              "product_28218                                            0.0  0.0         0.0   \n",
              "product_25992                                            0.0  0.0         0.0   \n",
              "product_31514                                            0.0  0.0         0.0   \n",
              "product_32371                                            0.0  0.0         0.0   \n",
              "product_8751                                             0.0  0.0         1.0   \n",
              "\n",
              "               costruction_tools_tools  \n",
              "product_id                              \n",
              "product_5479                       0.0  \n",
              "product_17703                      0.0  \n",
              "product_23325                      0.0  \n",
              "product_6135                       0.0  \n",
              "product_27822                      0.0  \n",
              "product_28218                      0.0  \n",
              "product_25992                      0.0  \n",
              "product_31514                      0.0  \n",
              "product_32371                      0.0  \n",
              "product_8751                       0.0  \n",
              "\n",
              "[10 rows x 22 columns]"
            ],
            "text/html": [
              "\n",
              "  <div id=\"df-48bb7986-c024-493f-9480-f5d54b4df826\">\n",
              "    <div class=\"colab-df-container\">\n",
              "      <div>\n",
              "<style scoped>\n",
              "    .dataframe tbody tr th:only-of-type {\n",
              "        vertical-align: middle;\n",
              "    }\n",
              "\n",
              "    .dataframe tbody tr th {\n",
              "        vertical-align: top;\n",
              "    }\n",
              "\n",
              "    .dataframe thead th {\n",
              "        text-align: right;\n",
              "    }\n",
              "</style>\n",
              "<table border=\"1\" class=\"dataframe\">\n",
              "  <thead>\n",
              "    <tr style=\"text-align: right;\">\n",
              "      <th></th>\n",
              "      <th>pet_shop</th>\n",
              "      <th>fashion_sport</th>\n",
              "      <th>fashio_female_clothing</th>\n",
              "      <th>dvds_blu_ray</th>\n",
              "      <th>fashion_childrens_clothes</th>\n",
              "      <th>fashion_male_clothing</th>\n",
              "      <th>industry_commerce_and_business</th>\n",
              "      <th>music</th>\n",
              "      <th>kitchen_dining_laundry_garden_furniture</th>\n",
              "      <th>audio</th>\n",
              "      <th>...</th>\n",
              "      <th>diapers_and_hygiene</th>\n",
              "      <th>sports_leisure</th>\n",
              "      <th>signaling_and_security</th>\n",
              "      <th>home_appliances</th>\n",
              "      <th>small_appliances</th>\n",
              "      <th>electronics</th>\n",
              "      <th>portateis_cozinha_e_preparadores_de_alimentos</th>\n",
              "      <th>art</th>\n",
              "      <th>stationery</th>\n",
              "      <th>costruction_tools_tools</th>\n",
              "    </tr>\n",
              "    <tr>\n",
              "      <th>product_id</th>\n",
              "      <th></th>\n",
              "      <th></th>\n",
              "      <th></th>\n",
              "      <th></th>\n",
              "      <th></th>\n",
              "      <th></th>\n",
              "      <th></th>\n",
              "      <th></th>\n",
              "      <th></th>\n",
              "      <th></th>\n",
              "      <th></th>\n",
              "      <th></th>\n",
              "      <th></th>\n",
              "      <th></th>\n",
              "      <th></th>\n",
              "      <th></th>\n",
              "      <th></th>\n",
              "      <th></th>\n",
              "      <th></th>\n",
              "      <th></th>\n",
              "      <th></th>\n",
              "    </tr>\n",
              "  </thead>\n",
              "  <tbody>\n",
              "    <tr>\n",
              "      <th>product_5479</th>\n",
              "      <td>0.0</td>\n",
              "      <td>0.0</td>\n",
              "      <td>0.0</td>\n",
              "      <td>0.0</td>\n",
              "      <td>0.0</td>\n",
              "      <td>0.0</td>\n",
              "      <td>0.0</td>\n",
              "      <td>0.0</td>\n",
              "      <td>0.0</td>\n",
              "      <td>0.0</td>\n",
              "      <td>...</td>\n",
              "      <td>0.0</td>\n",
              "      <td>0.0</td>\n",
              "      <td>0.0</td>\n",
              "      <td>0.0</td>\n",
              "      <td>0.0</td>\n",
              "      <td>0.0</td>\n",
              "      <td>0.0</td>\n",
              "      <td>0.0</td>\n",
              "      <td>0.0</td>\n",
              "      <td>0.0</td>\n",
              "    </tr>\n",
              "    <tr>\n",
              "      <th>product_17703</th>\n",
              "      <td>0.0</td>\n",
              "      <td>0.0</td>\n",
              "      <td>0.0</td>\n",
              "      <td>0.0</td>\n",
              "      <td>0.0</td>\n",
              "      <td>0.0</td>\n",
              "      <td>0.0</td>\n",
              "      <td>0.0</td>\n",
              "      <td>0.0</td>\n",
              "      <td>0.0</td>\n",
              "      <td>...</td>\n",
              "      <td>0.0</td>\n",
              "      <td>0.0</td>\n",
              "      <td>0.0</td>\n",
              "      <td>0.0</td>\n",
              "      <td>0.0</td>\n",
              "      <td>0.0</td>\n",
              "      <td>0.0</td>\n",
              "      <td>0.0</td>\n",
              "      <td>0.0</td>\n",
              "      <td>0.0</td>\n",
              "    </tr>\n",
              "    <tr>\n",
              "      <th>product_23325</th>\n",
              "      <td>0.0</td>\n",
              "      <td>0.0</td>\n",
              "      <td>0.0</td>\n",
              "      <td>0.0</td>\n",
              "      <td>0.0</td>\n",
              "      <td>0.0</td>\n",
              "      <td>0.0</td>\n",
              "      <td>0.0</td>\n",
              "      <td>0.0</td>\n",
              "      <td>0.0</td>\n",
              "      <td>...</td>\n",
              "      <td>0.0</td>\n",
              "      <td>0.0</td>\n",
              "      <td>0.0</td>\n",
              "      <td>0.0</td>\n",
              "      <td>0.0</td>\n",
              "      <td>0.0</td>\n",
              "      <td>0.0</td>\n",
              "      <td>0.0</td>\n",
              "      <td>0.0</td>\n",
              "      <td>0.0</td>\n",
              "    </tr>\n",
              "    <tr>\n",
              "      <th>product_6135</th>\n",
              "      <td>0.0</td>\n",
              "      <td>0.0</td>\n",
              "      <td>0.0</td>\n",
              "      <td>0.0</td>\n",
              "      <td>0.0</td>\n",
              "      <td>0.0</td>\n",
              "      <td>0.0</td>\n",
              "      <td>0.0</td>\n",
              "      <td>0.0</td>\n",
              "      <td>0.0</td>\n",
              "      <td>...</td>\n",
              "      <td>0.0</td>\n",
              "      <td>0.0</td>\n",
              "      <td>0.0</td>\n",
              "      <td>0.0</td>\n",
              "      <td>0.0</td>\n",
              "      <td>0.0</td>\n",
              "      <td>0.0</td>\n",
              "      <td>0.0</td>\n",
              "      <td>0.0</td>\n",
              "      <td>0.0</td>\n",
              "    </tr>\n",
              "    <tr>\n",
              "      <th>product_27822</th>\n",
              "      <td>0.0</td>\n",
              "      <td>0.0</td>\n",
              "      <td>0.0</td>\n",
              "      <td>0.0</td>\n",
              "      <td>0.0</td>\n",
              "      <td>0.0</td>\n",
              "      <td>0.0</td>\n",
              "      <td>0.0</td>\n",
              "      <td>0.0</td>\n",
              "      <td>0.0</td>\n",
              "      <td>...</td>\n",
              "      <td>0.0</td>\n",
              "      <td>0.0</td>\n",
              "      <td>0.0</td>\n",
              "      <td>0.0</td>\n",
              "      <td>0.0</td>\n",
              "      <td>0.0</td>\n",
              "      <td>0.0</td>\n",
              "      <td>0.0</td>\n",
              "      <td>0.0</td>\n",
              "      <td>0.0</td>\n",
              "    </tr>\n",
              "    <tr>\n",
              "      <th>product_28218</th>\n",
              "      <td>0.0</td>\n",
              "      <td>0.0</td>\n",
              "      <td>0.0</td>\n",
              "      <td>0.0</td>\n",
              "      <td>0.0</td>\n",
              "      <td>0.0</td>\n",
              "      <td>0.0</td>\n",
              "      <td>0.0</td>\n",
              "      <td>0.0</td>\n",
              "      <td>0.0</td>\n",
              "      <td>...</td>\n",
              "      <td>0.0</td>\n",
              "      <td>0.0</td>\n",
              "      <td>0.0</td>\n",
              "      <td>0.0</td>\n",
              "      <td>0.0</td>\n",
              "      <td>0.0</td>\n",
              "      <td>0.0</td>\n",
              "      <td>0.0</td>\n",
              "      <td>0.0</td>\n",
              "      <td>0.0</td>\n",
              "    </tr>\n",
              "    <tr>\n",
              "      <th>product_25992</th>\n",
              "      <td>0.0</td>\n",
              "      <td>0.0</td>\n",
              "      <td>0.0</td>\n",
              "      <td>0.0</td>\n",
              "      <td>0.0</td>\n",
              "      <td>0.0</td>\n",
              "      <td>0.0</td>\n",
              "      <td>0.0</td>\n",
              "      <td>0.0</td>\n",
              "      <td>0.0</td>\n",
              "      <td>...</td>\n",
              "      <td>0.0</td>\n",
              "      <td>0.0</td>\n",
              "      <td>0.0</td>\n",
              "      <td>0.0</td>\n",
              "      <td>0.0</td>\n",
              "      <td>0.0</td>\n",
              "      <td>0.0</td>\n",
              "      <td>0.0</td>\n",
              "      <td>0.0</td>\n",
              "      <td>0.0</td>\n",
              "    </tr>\n",
              "    <tr>\n",
              "      <th>product_31514</th>\n",
              "      <td>0.0</td>\n",
              "      <td>0.0</td>\n",
              "      <td>0.0</td>\n",
              "      <td>0.0</td>\n",
              "      <td>0.0</td>\n",
              "      <td>0.0</td>\n",
              "      <td>0.0</td>\n",
              "      <td>0.0</td>\n",
              "      <td>0.0</td>\n",
              "      <td>0.0</td>\n",
              "      <td>...</td>\n",
              "      <td>0.0</td>\n",
              "      <td>0.0</td>\n",
              "      <td>0.0</td>\n",
              "      <td>0.0</td>\n",
              "      <td>0.0</td>\n",
              "      <td>0.0</td>\n",
              "      <td>0.0</td>\n",
              "      <td>0.0</td>\n",
              "      <td>0.0</td>\n",
              "      <td>0.0</td>\n",
              "    </tr>\n",
              "    <tr>\n",
              "      <th>product_32371</th>\n",
              "      <td>0.0</td>\n",
              "      <td>0.0</td>\n",
              "      <td>0.0</td>\n",
              "      <td>0.0</td>\n",
              "      <td>0.0</td>\n",
              "      <td>0.0</td>\n",
              "      <td>0.0</td>\n",
              "      <td>0.0</td>\n",
              "      <td>0.0</td>\n",
              "      <td>0.0</td>\n",
              "      <td>...</td>\n",
              "      <td>0.0</td>\n",
              "      <td>0.0</td>\n",
              "      <td>0.0</td>\n",
              "      <td>0.0</td>\n",
              "      <td>0.0</td>\n",
              "      <td>0.0</td>\n",
              "      <td>0.0</td>\n",
              "      <td>0.0</td>\n",
              "      <td>0.0</td>\n",
              "      <td>0.0</td>\n",
              "    </tr>\n",
              "    <tr>\n",
              "      <th>product_8751</th>\n",
              "      <td>0.0</td>\n",
              "      <td>0.0</td>\n",
              "      <td>0.0</td>\n",
              "      <td>0.0</td>\n",
              "      <td>0.0</td>\n",
              "      <td>0.0</td>\n",
              "      <td>0.0</td>\n",
              "      <td>0.0</td>\n",
              "      <td>0.0</td>\n",
              "      <td>0.0</td>\n",
              "      <td>...</td>\n",
              "      <td>0.0</td>\n",
              "      <td>0.0</td>\n",
              "      <td>0.0</td>\n",
              "      <td>0.0</td>\n",
              "      <td>0.0</td>\n",
              "      <td>0.0</td>\n",
              "      <td>0.0</td>\n",
              "      <td>0.0</td>\n",
              "      <td>1.0</td>\n",
              "      <td>0.0</td>\n",
              "    </tr>\n",
              "  </tbody>\n",
              "</table>\n",
              "<p>10 rows × 22 columns</p>\n",
              "</div>\n",
              "      <button class=\"colab-df-convert\" onclick=\"convertToInteractive('df-48bb7986-c024-493f-9480-f5d54b4df826')\"\n",
              "              title=\"Convert this dataframe to an interactive table.\"\n",
              "              style=\"display:none;\">\n",
              "        \n",
              "  <svg xmlns=\"http://www.w3.org/2000/svg\" height=\"24px\"viewBox=\"0 0 24 24\"\n",
              "       width=\"24px\">\n",
              "    <path d=\"M0 0h24v24H0V0z\" fill=\"none\"/>\n",
              "    <path d=\"M18.56 5.44l.94 2.06.94-2.06 2.06-.94-2.06-.94-.94-2.06-.94 2.06-2.06.94zm-11 1L8.5 8.5l.94-2.06 2.06-.94-2.06-.94L8.5 2.5l-.94 2.06-2.06.94zm10 10l.94 2.06.94-2.06 2.06-.94-2.06-.94-.94-2.06-.94 2.06-2.06.94z\"/><path d=\"M17.41 7.96l-1.37-1.37c-.4-.4-.92-.59-1.43-.59-.52 0-1.04.2-1.43.59L10.3 9.45l-7.72 7.72c-.78.78-.78 2.05 0 2.83L4 21.41c.39.39.9.59 1.41.59.51 0 1.02-.2 1.41-.59l7.78-7.78 2.81-2.81c.8-.78.8-2.07 0-2.86zM5.41 20L4 18.59l7.72-7.72 1.47 1.35L5.41 20z\"/>\n",
              "  </svg>\n",
              "      </button>\n",
              "      \n",
              "  <style>\n",
              "    .colab-df-container {\n",
              "      display:flex;\n",
              "      flex-wrap:wrap;\n",
              "      gap: 12px;\n",
              "    }\n",
              "\n",
              "    .colab-df-convert {\n",
              "      background-color: #E8F0FE;\n",
              "      border: none;\n",
              "      border-radius: 50%;\n",
              "      cursor: pointer;\n",
              "      display: none;\n",
              "      fill: #1967D2;\n",
              "      height: 32px;\n",
              "      padding: 0 0 0 0;\n",
              "      width: 32px;\n",
              "    }\n",
              "\n",
              "    .colab-df-convert:hover {\n",
              "      background-color: #E2EBFA;\n",
              "      box-shadow: 0px 1px 2px rgba(60, 64, 67, 0.3), 0px 1px 3px 1px rgba(60, 64, 67, 0.15);\n",
              "      fill: #174EA6;\n",
              "    }\n",
              "\n",
              "    [theme=dark] .colab-df-convert {\n",
              "      background-color: #3B4455;\n",
              "      fill: #D2E3FC;\n",
              "    }\n",
              "\n",
              "    [theme=dark] .colab-df-convert:hover {\n",
              "      background-color: #434B5C;\n",
              "      box-shadow: 0px 1px 3px 1px rgba(0, 0, 0, 0.15);\n",
              "      filter: drop-shadow(0px 1px 2px rgba(0, 0, 0, 0.3));\n",
              "      fill: #FFFFFF;\n",
              "    }\n",
              "  </style>\n",
              "\n",
              "      <script>\n",
              "        const buttonEl =\n",
              "          document.querySelector('#df-48bb7986-c024-493f-9480-f5d54b4df826 button.colab-df-convert');\n",
              "        buttonEl.style.display =\n",
              "          google.colab.kernel.accessAllowed ? 'block' : 'none';\n",
              "\n",
              "        async function convertToInteractive(key) {\n",
              "          const element = document.querySelector('#df-48bb7986-c024-493f-9480-f5d54b4df826');\n",
              "          const dataTable =\n",
              "            await google.colab.kernel.invokeFunction('convertToInteractive',\n",
              "                                                     [key], {});\n",
              "          if (!dataTable) return;\n",
              "\n",
              "          const docLinkHtml = 'Like what you see? Visit the ' +\n",
              "            '<a target=\"_blank\" href=https://colab.research.google.com/notebooks/data_table.ipynb>data table notebook</a>'\n",
              "            + ' to learn more about interactive tables.';\n",
              "          element.innerHTML = '';\n",
              "          dataTable['output_type'] = 'display_data';\n",
              "          await google.colab.output.renderOutput(dataTable, element);\n",
              "          const docLink = document.createElement('div');\n",
              "          docLink.innerHTML = docLinkHtml;\n",
              "          element.appendChild(docLink);\n",
              "        }\n",
              "      </script>\n",
              "    </div>\n",
              "  </div>\n",
              "  "
            ]
          },
          "metadata": {},
          "execution_count": 62
        }
      ]
    },
    {
      "cell_type": "markdown",
      "source": [
        "## Cosine Similarity"
      ],
      "metadata": {
        "id": "XZj47UEk3_n_"
      }
    },
    {
      "cell_type": "code",
      "source": [
        "from sklearn.metrics.pairwise import cosine_similarity\n",
        " \n",
        "# Menghitung cosine similarity pada matrix tf-idf\n",
        "cosine_sim = cosine_similarity(tfidf_matrix) \n",
        "cosine_sim"
      ],
      "metadata": {
        "colab": {
          "base_uri": "https://localhost:8080/"
        },
        "id": "g6Zvwiug4A74",
        "outputId": "dba5096b-848e-43a8-abb4-d532255df768"
      },
      "execution_count": null,
      "outputs": [
        {
          "output_type": "execute_result",
          "data": {
            "text/plain": [
              "array([[1., 0., 0., ..., 0., 0., 0.],\n",
              "       [0., 1., 0., ..., 0., 0., 0.],\n",
              "       [0., 0., 1., ..., 0., 0., 0.],\n",
              "       ...,\n",
              "       [0., 0., 0., ..., 1., 0., 1.],\n",
              "       [0., 0., 0., ..., 0., 1., 0.],\n",
              "       [0., 0., 0., ..., 1., 0., 1.]])"
            ]
          },
          "metadata": {},
          "execution_count": 63
        }
      ]
    },
    {
      "cell_type": "code",
      "source": [
        "# Membuat dataframe dari variabel cosine_sim dengan baris dan kolom berupa nama produk\n",
        "cosine_sim_df = pd.DataFrame(cosine_sim, index=data['product_id'], columns=data['product_id'])\n",
        "print('Shape:', cosine_sim_df.shape)\n",
        " \n",
        "# Melihat similarity matrix pada setiap produk\n",
        "cosine_sim_df.sample(10, axis=1).sample(10, axis=0)"
      ],
      "metadata": {
        "colab": {
          "base_uri": "https://localhost:8080/",
          "height": 476
        },
        "id": "iweAE9SG4Nch",
        "outputId": "fd45dffb-f389-4b76-bdec-2c8cef6d74f8"
      },
      "execution_count": null,
      "outputs": [
        {
          "output_type": "stream",
          "name": "stdout",
          "text": [
            "Shape: (32340, 32340)\n"
          ]
        },
        {
          "output_type": "execute_result",
          "data": {
            "text/plain": [
              "product_id     product_24216  product_15235  product_24463  product_18320  \\\n",
              "product_id                                                                  \n",
              "product_30957            0.0            0.0            0.0            0.0   \n",
              "product_7541             0.0            0.0            1.0            0.0   \n",
              "product_26216            0.0            0.0            0.0            0.0   \n",
              "product_8211             0.0            0.0            0.0            0.0   \n",
              "product_27033            0.0            0.0            0.0            0.0   \n",
              "product_23142            0.0            0.0            0.0            0.0   \n",
              "product_24259            0.0            0.0            0.0            0.0   \n",
              "product_26290            0.0            0.0            0.0            0.0   \n",
              "product_15902            0.0            0.0            0.0            0.0   \n",
              "product_3772             0.0            0.0            0.0            0.0   \n",
              "\n",
              "product_id     product_11943  product_18146  product_20579  product_6194  \\\n",
              "product_id                                                                 \n",
              "product_30957            0.0            0.0            0.0           0.0   \n",
              "product_7541             0.0            0.0            0.0           0.0   \n",
              "product_26216            0.0            0.0            0.0           0.0   \n",
              "product_8211             0.0            0.0            0.0           0.0   \n",
              "product_27033            0.0            0.0            0.0           0.0   \n",
              "product_23142            0.0            1.0            0.0           0.0   \n",
              "product_24259            1.0            0.0            0.0           0.0   \n",
              "product_26290            0.0            1.0            0.0           0.0   \n",
              "product_15902            0.0            0.0            0.0           0.0   \n",
              "product_3772             0.0            0.0            0.0           0.0   \n",
              "\n",
              "product_id     product_74  product_14267  \n",
              "product_id                                \n",
              "product_30957         0.0            0.0  \n",
              "product_7541          0.0            0.0  \n",
              "product_26216         0.0            0.0  \n",
              "product_8211          0.0            0.0  \n",
              "product_27033         0.0            1.0  \n",
              "product_23142         0.0            0.0  \n",
              "product_24259         0.0            0.0  \n",
              "product_26290         0.0            0.0  \n",
              "product_15902         0.0            0.0  \n",
              "product_3772          0.0            0.0  "
            ],
            "text/html": [
              "\n",
              "  <div id=\"df-529a8979-65e8-433a-8a53-2dff8b9a569a\">\n",
              "    <div class=\"colab-df-container\">\n",
              "      <div>\n",
              "<style scoped>\n",
              "    .dataframe tbody tr th:only-of-type {\n",
              "        vertical-align: middle;\n",
              "    }\n",
              "\n",
              "    .dataframe tbody tr th {\n",
              "        vertical-align: top;\n",
              "    }\n",
              "\n",
              "    .dataframe thead th {\n",
              "        text-align: right;\n",
              "    }\n",
              "</style>\n",
              "<table border=\"1\" class=\"dataframe\">\n",
              "  <thead>\n",
              "    <tr style=\"text-align: right;\">\n",
              "      <th>product_id</th>\n",
              "      <th>product_24216</th>\n",
              "      <th>product_15235</th>\n",
              "      <th>product_24463</th>\n",
              "      <th>product_18320</th>\n",
              "      <th>product_11943</th>\n",
              "      <th>product_18146</th>\n",
              "      <th>product_20579</th>\n",
              "      <th>product_6194</th>\n",
              "      <th>product_74</th>\n",
              "      <th>product_14267</th>\n",
              "    </tr>\n",
              "    <tr>\n",
              "      <th>product_id</th>\n",
              "      <th></th>\n",
              "      <th></th>\n",
              "      <th></th>\n",
              "      <th></th>\n",
              "      <th></th>\n",
              "      <th></th>\n",
              "      <th></th>\n",
              "      <th></th>\n",
              "      <th></th>\n",
              "      <th></th>\n",
              "    </tr>\n",
              "  </thead>\n",
              "  <tbody>\n",
              "    <tr>\n",
              "      <th>product_30957</th>\n",
              "      <td>0.0</td>\n",
              "      <td>0.0</td>\n",
              "      <td>0.0</td>\n",
              "      <td>0.0</td>\n",
              "      <td>0.0</td>\n",
              "      <td>0.0</td>\n",
              "      <td>0.0</td>\n",
              "      <td>0.0</td>\n",
              "      <td>0.0</td>\n",
              "      <td>0.0</td>\n",
              "    </tr>\n",
              "    <tr>\n",
              "      <th>product_7541</th>\n",
              "      <td>0.0</td>\n",
              "      <td>0.0</td>\n",
              "      <td>1.0</td>\n",
              "      <td>0.0</td>\n",
              "      <td>0.0</td>\n",
              "      <td>0.0</td>\n",
              "      <td>0.0</td>\n",
              "      <td>0.0</td>\n",
              "      <td>0.0</td>\n",
              "      <td>0.0</td>\n",
              "    </tr>\n",
              "    <tr>\n",
              "      <th>product_26216</th>\n",
              "      <td>0.0</td>\n",
              "      <td>0.0</td>\n",
              "      <td>0.0</td>\n",
              "      <td>0.0</td>\n",
              "      <td>0.0</td>\n",
              "      <td>0.0</td>\n",
              "      <td>0.0</td>\n",
              "      <td>0.0</td>\n",
              "      <td>0.0</td>\n",
              "      <td>0.0</td>\n",
              "    </tr>\n",
              "    <tr>\n",
              "      <th>product_8211</th>\n",
              "      <td>0.0</td>\n",
              "      <td>0.0</td>\n",
              "      <td>0.0</td>\n",
              "      <td>0.0</td>\n",
              "      <td>0.0</td>\n",
              "      <td>0.0</td>\n",
              "      <td>0.0</td>\n",
              "      <td>0.0</td>\n",
              "      <td>0.0</td>\n",
              "      <td>0.0</td>\n",
              "    </tr>\n",
              "    <tr>\n",
              "      <th>product_27033</th>\n",
              "      <td>0.0</td>\n",
              "      <td>0.0</td>\n",
              "      <td>0.0</td>\n",
              "      <td>0.0</td>\n",
              "      <td>0.0</td>\n",
              "      <td>0.0</td>\n",
              "      <td>0.0</td>\n",
              "      <td>0.0</td>\n",
              "      <td>0.0</td>\n",
              "      <td>1.0</td>\n",
              "    </tr>\n",
              "    <tr>\n",
              "      <th>product_23142</th>\n",
              "      <td>0.0</td>\n",
              "      <td>0.0</td>\n",
              "      <td>0.0</td>\n",
              "      <td>0.0</td>\n",
              "      <td>0.0</td>\n",
              "      <td>1.0</td>\n",
              "      <td>0.0</td>\n",
              "      <td>0.0</td>\n",
              "      <td>0.0</td>\n",
              "      <td>0.0</td>\n",
              "    </tr>\n",
              "    <tr>\n",
              "      <th>product_24259</th>\n",
              "      <td>0.0</td>\n",
              "      <td>0.0</td>\n",
              "      <td>0.0</td>\n",
              "      <td>0.0</td>\n",
              "      <td>1.0</td>\n",
              "      <td>0.0</td>\n",
              "      <td>0.0</td>\n",
              "      <td>0.0</td>\n",
              "      <td>0.0</td>\n",
              "      <td>0.0</td>\n",
              "    </tr>\n",
              "    <tr>\n",
              "      <th>product_26290</th>\n",
              "      <td>0.0</td>\n",
              "      <td>0.0</td>\n",
              "      <td>0.0</td>\n",
              "      <td>0.0</td>\n",
              "      <td>0.0</td>\n",
              "      <td>1.0</td>\n",
              "      <td>0.0</td>\n",
              "      <td>0.0</td>\n",
              "      <td>0.0</td>\n",
              "      <td>0.0</td>\n",
              "    </tr>\n",
              "    <tr>\n",
              "      <th>product_15902</th>\n",
              "      <td>0.0</td>\n",
              "      <td>0.0</td>\n",
              "      <td>0.0</td>\n",
              "      <td>0.0</td>\n",
              "      <td>0.0</td>\n",
              "      <td>0.0</td>\n",
              "      <td>0.0</td>\n",
              "      <td>0.0</td>\n",
              "      <td>0.0</td>\n",
              "      <td>0.0</td>\n",
              "    </tr>\n",
              "    <tr>\n",
              "      <th>product_3772</th>\n",
              "      <td>0.0</td>\n",
              "      <td>0.0</td>\n",
              "      <td>0.0</td>\n",
              "      <td>0.0</td>\n",
              "      <td>0.0</td>\n",
              "      <td>0.0</td>\n",
              "      <td>0.0</td>\n",
              "      <td>0.0</td>\n",
              "      <td>0.0</td>\n",
              "      <td>0.0</td>\n",
              "    </tr>\n",
              "  </tbody>\n",
              "</table>\n",
              "</div>\n",
              "      <button class=\"colab-df-convert\" onclick=\"convertToInteractive('df-529a8979-65e8-433a-8a53-2dff8b9a569a')\"\n",
              "              title=\"Convert this dataframe to an interactive table.\"\n",
              "              style=\"display:none;\">\n",
              "        \n",
              "  <svg xmlns=\"http://www.w3.org/2000/svg\" height=\"24px\"viewBox=\"0 0 24 24\"\n",
              "       width=\"24px\">\n",
              "    <path d=\"M0 0h24v24H0V0z\" fill=\"none\"/>\n",
              "    <path d=\"M18.56 5.44l.94 2.06.94-2.06 2.06-.94-2.06-.94-.94-2.06-.94 2.06-2.06.94zm-11 1L8.5 8.5l.94-2.06 2.06-.94-2.06-.94L8.5 2.5l-.94 2.06-2.06.94zm10 10l.94 2.06.94-2.06 2.06-.94-2.06-.94-.94-2.06-.94 2.06-2.06.94z\"/><path d=\"M17.41 7.96l-1.37-1.37c-.4-.4-.92-.59-1.43-.59-.52 0-1.04.2-1.43.59L10.3 9.45l-7.72 7.72c-.78.78-.78 2.05 0 2.83L4 21.41c.39.39.9.59 1.41.59.51 0 1.02-.2 1.41-.59l7.78-7.78 2.81-2.81c.8-.78.8-2.07 0-2.86zM5.41 20L4 18.59l7.72-7.72 1.47 1.35L5.41 20z\"/>\n",
              "  </svg>\n",
              "      </button>\n",
              "      \n",
              "  <style>\n",
              "    .colab-df-container {\n",
              "      display:flex;\n",
              "      flex-wrap:wrap;\n",
              "      gap: 12px;\n",
              "    }\n",
              "\n",
              "    .colab-df-convert {\n",
              "      background-color: #E8F0FE;\n",
              "      border: none;\n",
              "      border-radius: 50%;\n",
              "      cursor: pointer;\n",
              "      display: none;\n",
              "      fill: #1967D2;\n",
              "      height: 32px;\n",
              "      padding: 0 0 0 0;\n",
              "      width: 32px;\n",
              "    }\n",
              "\n",
              "    .colab-df-convert:hover {\n",
              "      background-color: #E2EBFA;\n",
              "      box-shadow: 0px 1px 2px rgba(60, 64, 67, 0.3), 0px 1px 3px 1px rgba(60, 64, 67, 0.15);\n",
              "      fill: #174EA6;\n",
              "    }\n",
              "\n",
              "    [theme=dark] .colab-df-convert {\n",
              "      background-color: #3B4455;\n",
              "      fill: #D2E3FC;\n",
              "    }\n",
              "\n",
              "    [theme=dark] .colab-df-convert:hover {\n",
              "      background-color: #434B5C;\n",
              "      box-shadow: 0px 1px 3px 1px rgba(0, 0, 0, 0.15);\n",
              "      filter: drop-shadow(0px 1px 2px rgba(0, 0, 0, 0.3));\n",
              "      fill: #FFFFFF;\n",
              "    }\n",
              "  </style>\n",
              "\n",
              "      <script>\n",
              "        const buttonEl =\n",
              "          document.querySelector('#df-529a8979-65e8-433a-8a53-2dff8b9a569a button.colab-df-convert');\n",
              "        buttonEl.style.display =\n",
              "          google.colab.kernel.accessAllowed ? 'block' : 'none';\n",
              "\n",
              "        async function convertToInteractive(key) {\n",
              "          const element = document.querySelector('#df-529a8979-65e8-433a-8a53-2dff8b9a569a');\n",
              "          const dataTable =\n",
              "            await google.colab.kernel.invokeFunction('convertToInteractive',\n",
              "                                                     [key], {});\n",
              "          if (!dataTable) return;\n",
              "\n",
              "          const docLinkHtml = 'Like what you see? Visit the ' +\n",
              "            '<a target=\"_blank\" href=https://colab.research.google.com/notebooks/data_table.ipynb>data table notebook</a>'\n",
              "            + ' to learn more about interactive tables.';\n",
              "          element.innerHTML = '';\n",
              "          dataTable['output_type'] = 'display_data';\n",
              "          await google.colab.output.renderOutput(dataTable, element);\n",
              "          const docLink = document.createElement('div');\n",
              "          docLink.innerHTML = docLinkHtml;\n",
              "          element.appendChild(docLink);\n",
              "        }\n",
              "      </script>\n",
              "    </div>\n",
              "  </div>\n",
              "  "
            ]
          },
          "metadata": {},
          "execution_count": 64
        }
      ]
    },
    {
      "cell_type": "markdown",
      "source": [
        "## Mendapatkan Rekomendasi"
      ],
      "metadata": {
        "id": "r1PKs2tK4e54"
      }
    },
    {
      "cell_type": "code",
      "source": [
        "def product_recommendations(product_id, similarity_data=cosine_sim_df,\n",
        "                            items=data,\n",
        "                            k=5):\n",
        "    # Mengambil data dengan menggunakan argpartition untuk melakukan partisi secara tidak langsung sepanjang sumbu yang diberikan    \n",
        "    # Dataframe diubah menjadi numpy\n",
        "    # Range(start, stop, step)\n",
        "    index = similarity_data.loc[:,product_id].to_numpy().argpartition(\n",
        "        range(-1, -k, -1))\n",
        "    \n",
        "    # Mengambil data dengan similarity terbesar dari index yang ada\n",
        "    closest = similarity_data.columns[index[-1:-(k+2):-1]]\n",
        "    \n",
        "    # Drop nama_resto agar nama resto yang dicari tidak muncul dalam daftar rekomendasi\n",
        "    closest = closest.drop(product_id, errors='ignore')\n",
        " \n",
        "    return pd.DataFrame(closest).merge(items).head(k)"
      ],
      "metadata": {
        "id": "IwXSGPys4gaj"
      },
      "execution_count": null,
      "outputs": []
    },
    {
      "cell_type": "code",
      "source": [
        "cust_id = 'product_31234'\n",
        "\n",
        "data[data.product_id.eq(cust_id)]"
      ],
      "metadata": {
        "colab": {
          "base_uri": "https://localhost:8080/",
          "height": 81
        },
        "id": "IuVQGB2t5E2x",
        "outputId": "1ef4ac36-a965-43d8-ac4f-f0ace4c23618"
      },
      "execution_count": null,
      "outputs": [
        {
          "output_type": "execute_result",
          "data": {
            "text/plain": [
              "          product_id product_category_name    seller_id  price  review_score  \\\n",
              "25669  product_31234                  baby  seller_2488  147.9           4.0   \n",
              "\n",
              "       sold  \n",
              "25669    10  "
            ],
            "text/html": [
              "\n",
              "  <div id=\"df-f21779eb-7c05-4a47-9ce5-7c972640f3dc\">\n",
              "    <div class=\"colab-df-container\">\n",
              "      <div>\n",
              "<style scoped>\n",
              "    .dataframe tbody tr th:only-of-type {\n",
              "        vertical-align: middle;\n",
              "    }\n",
              "\n",
              "    .dataframe tbody tr th {\n",
              "        vertical-align: top;\n",
              "    }\n",
              "\n",
              "    .dataframe thead th {\n",
              "        text-align: right;\n",
              "    }\n",
              "</style>\n",
              "<table border=\"1\" class=\"dataframe\">\n",
              "  <thead>\n",
              "    <tr style=\"text-align: right;\">\n",
              "      <th></th>\n",
              "      <th>product_id</th>\n",
              "      <th>product_category_name</th>\n",
              "      <th>seller_id</th>\n",
              "      <th>price</th>\n",
              "      <th>review_score</th>\n",
              "      <th>sold</th>\n",
              "    </tr>\n",
              "  </thead>\n",
              "  <tbody>\n",
              "    <tr>\n",
              "      <th>25669</th>\n",
              "      <td>product_31234</td>\n",
              "      <td>baby</td>\n",
              "      <td>seller_2488</td>\n",
              "      <td>147.9</td>\n",
              "      <td>4.0</td>\n",
              "      <td>10</td>\n",
              "    </tr>\n",
              "  </tbody>\n",
              "</table>\n",
              "</div>\n",
              "      <button class=\"colab-df-convert\" onclick=\"convertToInteractive('df-f21779eb-7c05-4a47-9ce5-7c972640f3dc')\"\n",
              "              title=\"Convert this dataframe to an interactive table.\"\n",
              "              style=\"display:none;\">\n",
              "        \n",
              "  <svg xmlns=\"http://www.w3.org/2000/svg\" height=\"24px\"viewBox=\"0 0 24 24\"\n",
              "       width=\"24px\">\n",
              "    <path d=\"M0 0h24v24H0V0z\" fill=\"none\"/>\n",
              "    <path d=\"M18.56 5.44l.94 2.06.94-2.06 2.06-.94-2.06-.94-.94-2.06-.94 2.06-2.06.94zm-11 1L8.5 8.5l.94-2.06 2.06-.94-2.06-.94L8.5 2.5l-.94 2.06-2.06.94zm10 10l.94 2.06.94-2.06 2.06-.94-2.06-.94-.94-2.06-.94 2.06-2.06.94z\"/><path d=\"M17.41 7.96l-1.37-1.37c-.4-.4-.92-.59-1.43-.59-.52 0-1.04.2-1.43.59L10.3 9.45l-7.72 7.72c-.78.78-.78 2.05 0 2.83L4 21.41c.39.39.9.59 1.41.59.51 0 1.02-.2 1.41-.59l7.78-7.78 2.81-2.81c.8-.78.8-2.07 0-2.86zM5.41 20L4 18.59l7.72-7.72 1.47 1.35L5.41 20z\"/>\n",
              "  </svg>\n",
              "      </button>\n",
              "      \n",
              "  <style>\n",
              "    .colab-df-container {\n",
              "      display:flex;\n",
              "      flex-wrap:wrap;\n",
              "      gap: 12px;\n",
              "    }\n",
              "\n",
              "    .colab-df-convert {\n",
              "      background-color: #E8F0FE;\n",
              "      border: none;\n",
              "      border-radius: 50%;\n",
              "      cursor: pointer;\n",
              "      display: none;\n",
              "      fill: #1967D2;\n",
              "      height: 32px;\n",
              "      padding: 0 0 0 0;\n",
              "      width: 32px;\n",
              "    }\n",
              "\n",
              "    .colab-df-convert:hover {\n",
              "      background-color: #E2EBFA;\n",
              "      box-shadow: 0px 1px 2px rgba(60, 64, 67, 0.3), 0px 1px 3px 1px rgba(60, 64, 67, 0.15);\n",
              "      fill: #174EA6;\n",
              "    }\n",
              "\n",
              "    [theme=dark] .colab-df-convert {\n",
              "      background-color: #3B4455;\n",
              "      fill: #D2E3FC;\n",
              "    }\n",
              "\n",
              "    [theme=dark] .colab-df-convert:hover {\n",
              "      background-color: #434B5C;\n",
              "      box-shadow: 0px 1px 3px 1px rgba(0, 0, 0, 0.15);\n",
              "      filter: drop-shadow(0px 1px 2px rgba(0, 0, 0, 0.3));\n",
              "      fill: #FFFFFF;\n",
              "    }\n",
              "  </style>\n",
              "\n",
              "      <script>\n",
              "        const buttonEl =\n",
              "          document.querySelector('#df-f21779eb-7c05-4a47-9ce5-7c972640f3dc button.colab-df-convert');\n",
              "        buttonEl.style.display =\n",
              "          google.colab.kernel.accessAllowed ? 'block' : 'none';\n",
              "\n",
              "        async function convertToInteractive(key) {\n",
              "          const element = document.querySelector('#df-f21779eb-7c05-4a47-9ce5-7c972640f3dc');\n",
              "          const dataTable =\n",
              "            await google.colab.kernel.invokeFunction('convertToInteractive',\n",
              "                                                     [key], {});\n",
              "          if (!dataTable) return;\n",
              "\n",
              "          const docLinkHtml = 'Like what you see? Visit the ' +\n",
              "            '<a target=\"_blank\" href=https://colab.research.google.com/notebooks/data_table.ipynb>data table notebook</a>'\n",
              "            + ' to learn more about interactive tables.';\n",
              "          element.innerHTML = '';\n",
              "          dataTable['output_type'] = 'display_data';\n",
              "          await google.colab.output.renderOutput(dataTable, element);\n",
              "          const docLink = document.createElement('div');\n",
              "          docLink.innerHTML = docLinkHtml;\n",
              "          element.appendChild(docLink);\n",
              "        }\n",
              "      </script>\n",
              "    </div>\n",
              "  </div>\n",
              "  "
            ]
          },
          "metadata": {},
          "execution_count": 77
        }
      ]
    },
    {
      "cell_type": "code",
      "source": [
        "# Mendapatkan rekomendasi restoran yang mirip dengan KFC\n",
        "product_recommendations(cust_id, k=20)"
      ],
      "metadata": {
        "colab": {
          "base_uri": "https://localhost:8080/",
          "height": 677
        },
        "id": "IcybJcfm5TPa",
        "outputId": "30b0df68-ef24-434b-f438-219377fac735"
      },
      "execution_count": null,
      "outputs": [
        {
          "output_type": "execute_result",
          "data": {
            "text/plain": [
              "       product_id product_category_name    seller_id       price  \\\n",
              "0   product_30439                  baby   seller_929  110.000000   \n",
              "1   product_23234                  baby  seller_2743  159.900000   \n",
              "2    product_7005                  baby   seller_747   93.333333   \n",
              "3    product_1562                  baby  seller_1192   48.900000   \n",
              "4   product_22053                  baby   seller_584   59.900000   \n",
              "5   product_10097                  baby  seller_2470   34.900000   \n",
              "6   product_11338                  baby  seller_2522   29.550000   \n",
              "7   product_17203                  baby  seller_2192   32.980000   \n",
              "8   product_25018                  baby  seller_1416  189.900000   \n",
              "9   product_14307                  baby   seller_138  109.455556   \n",
              "10  product_23694                  baby  seller_1761  144.615000   \n",
              "11  product_10680                  baby  seller_1125   70.000000   \n",
              "12   product_9399                  baby  seller_1192   94.950000   \n",
              "13   product_4305                  baby  seller_2130   27.495000   \n",
              "14  product_16071                  baby   seller_317  165.000000   \n",
              "15  product_31278                  baby  seller_2226   28.814375   \n",
              "16  product_31082                  baby   seller_317   15.000000   \n",
              "17  product_11427                  baby  seller_2488  185.490000   \n",
              "18  product_31058                  baby  seller_1210  219.000000   \n",
              "19  product_12806                  baby  seller_3072  393.530769   \n",
              "\n",
              "    review_score  sold  \n",
              "0            3.5     6  \n",
              "1            5.0     1  \n",
              "2            2.7     3  \n",
              "3            4.0     3  \n",
              "4            5.0     1  \n",
              "5            3.0     1  \n",
              "6            5.0     9  \n",
              "7            5.0     3  \n",
              "8            3.0     4  \n",
              "9            4.3    10  \n",
              "10           3.0     2  \n",
              "11           1.0     1  \n",
              "12           5.0     2  \n",
              "13           3.6    10  \n",
              "14           4.0     1  \n",
              "15           4.2    16  \n",
              "16           5.0     1  \n",
              "17           5.0     1  \n",
              "18           4.0     1  \n",
              "19           2.8    12  "
            ],
            "text/html": [
              "\n",
              "  <div id=\"df-c12f1abc-5b77-4414-a391-de3a5c25be6e\">\n",
              "    <div class=\"colab-df-container\">\n",
              "      <div>\n",
              "<style scoped>\n",
              "    .dataframe tbody tr th:only-of-type {\n",
              "        vertical-align: middle;\n",
              "    }\n",
              "\n",
              "    .dataframe tbody tr th {\n",
              "        vertical-align: top;\n",
              "    }\n",
              "\n",
              "    .dataframe thead th {\n",
              "        text-align: right;\n",
              "    }\n",
              "</style>\n",
              "<table border=\"1\" class=\"dataframe\">\n",
              "  <thead>\n",
              "    <tr style=\"text-align: right;\">\n",
              "      <th></th>\n",
              "      <th>product_id</th>\n",
              "      <th>product_category_name</th>\n",
              "      <th>seller_id</th>\n",
              "      <th>price</th>\n",
              "      <th>review_score</th>\n",
              "      <th>sold</th>\n",
              "    </tr>\n",
              "  </thead>\n",
              "  <tbody>\n",
              "    <tr>\n",
              "      <th>0</th>\n",
              "      <td>product_30439</td>\n",
              "      <td>baby</td>\n",
              "      <td>seller_929</td>\n",
              "      <td>110.000000</td>\n",
              "      <td>3.5</td>\n",
              "      <td>6</td>\n",
              "    </tr>\n",
              "    <tr>\n",
              "      <th>1</th>\n",
              "      <td>product_23234</td>\n",
              "      <td>baby</td>\n",
              "      <td>seller_2743</td>\n",
              "      <td>159.900000</td>\n",
              "      <td>5.0</td>\n",
              "      <td>1</td>\n",
              "    </tr>\n",
              "    <tr>\n",
              "      <th>2</th>\n",
              "      <td>product_7005</td>\n",
              "      <td>baby</td>\n",
              "      <td>seller_747</td>\n",
              "      <td>93.333333</td>\n",
              "      <td>2.7</td>\n",
              "      <td>3</td>\n",
              "    </tr>\n",
              "    <tr>\n",
              "      <th>3</th>\n",
              "      <td>product_1562</td>\n",
              "      <td>baby</td>\n",
              "      <td>seller_1192</td>\n",
              "      <td>48.900000</td>\n",
              "      <td>4.0</td>\n",
              "      <td>3</td>\n",
              "    </tr>\n",
              "    <tr>\n",
              "      <th>4</th>\n",
              "      <td>product_22053</td>\n",
              "      <td>baby</td>\n",
              "      <td>seller_584</td>\n",
              "      <td>59.900000</td>\n",
              "      <td>5.0</td>\n",
              "      <td>1</td>\n",
              "    </tr>\n",
              "    <tr>\n",
              "      <th>5</th>\n",
              "      <td>product_10097</td>\n",
              "      <td>baby</td>\n",
              "      <td>seller_2470</td>\n",
              "      <td>34.900000</td>\n",
              "      <td>3.0</td>\n",
              "      <td>1</td>\n",
              "    </tr>\n",
              "    <tr>\n",
              "      <th>6</th>\n",
              "      <td>product_11338</td>\n",
              "      <td>baby</td>\n",
              "      <td>seller_2522</td>\n",
              "      <td>29.550000</td>\n",
              "      <td>5.0</td>\n",
              "      <td>9</td>\n",
              "    </tr>\n",
              "    <tr>\n",
              "      <th>7</th>\n",
              "      <td>product_17203</td>\n",
              "      <td>baby</td>\n",
              "      <td>seller_2192</td>\n",
              "      <td>32.980000</td>\n",
              "      <td>5.0</td>\n",
              "      <td>3</td>\n",
              "    </tr>\n",
              "    <tr>\n",
              "      <th>8</th>\n",
              "      <td>product_25018</td>\n",
              "      <td>baby</td>\n",
              "      <td>seller_1416</td>\n",
              "      <td>189.900000</td>\n",
              "      <td>3.0</td>\n",
              "      <td>4</td>\n",
              "    </tr>\n",
              "    <tr>\n",
              "      <th>9</th>\n",
              "      <td>product_14307</td>\n",
              "      <td>baby</td>\n",
              "      <td>seller_138</td>\n",
              "      <td>109.455556</td>\n",
              "      <td>4.3</td>\n",
              "      <td>10</td>\n",
              "    </tr>\n",
              "    <tr>\n",
              "      <th>10</th>\n",
              "      <td>product_23694</td>\n",
              "      <td>baby</td>\n",
              "      <td>seller_1761</td>\n",
              "      <td>144.615000</td>\n",
              "      <td>3.0</td>\n",
              "      <td>2</td>\n",
              "    </tr>\n",
              "    <tr>\n",
              "      <th>11</th>\n",
              "      <td>product_10680</td>\n",
              "      <td>baby</td>\n",
              "      <td>seller_1125</td>\n",
              "      <td>70.000000</td>\n",
              "      <td>1.0</td>\n",
              "      <td>1</td>\n",
              "    </tr>\n",
              "    <tr>\n",
              "      <th>12</th>\n",
              "      <td>product_9399</td>\n",
              "      <td>baby</td>\n",
              "      <td>seller_1192</td>\n",
              "      <td>94.950000</td>\n",
              "      <td>5.0</td>\n",
              "      <td>2</td>\n",
              "    </tr>\n",
              "    <tr>\n",
              "      <th>13</th>\n",
              "      <td>product_4305</td>\n",
              "      <td>baby</td>\n",
              "      <td>seller_2130</td>\n",
              "      <td>27.495000</td>\n",
              "      <td>3.6</td>\n",
              "      <td>10</td>\n",
              "    </tr>\n",
              "    <tr>\n",
              "      <th>14</th>\n",
              "      <td>product_16071</td>\n",
              "      <td>baby</td>\n",
              "      <td>seller_317</td>\n",
              "      <td>165.000000</td>\n",
              "      <td>4.0</td>\n",
              "      <td>1</td>\n",
              "    </tr>\n",
              "    <tr>\n",
              "      <th>15</th>\n",
              "      <td>product_31278</td>\n",
              "      <td>baby</td>\n",
              "      <td>seller_2226</td>\n",
              "      <td>28.814375</td>\n",
              "      <td>4.2</td>\n",
              "      <td>16</td>\n",
              "    </tr>\n",
              "    <tr>\n",
              "      <th>16</th>\n",
              "      <td>product_31082</td>\n",
              "      <td>baby</td>\n",
              "      <td>seller_317</td>\n",
              "      <td>15.000000</td>\n",
              "      <td>5.0</td>\n",
              "      <td>1</td>\n",
              "    </tr>\n",
              "    <tr>\n",
              "      <th>17</th>\n",
              "      <td>product_11427</td>\n",
              "      <td>baby</td>\n",
              "      <td>seller_2488</td>\n",
              "      <td>185.490000</td>\n",
              "      <td>5.0</td>\n",
              "      <td>1</td>\n",
              "    </tr>\n",
              "    <tr>\n",
              "      <th>18</th>\n",
              "      <td>product_31058</td>\n",
              "      <td>baby</td>\n",
              "      <td>seller_1210</td>\n",
              "      <td>219.000000</td>\n",
              "      <td>4.0</td>\n",
              "      <td>1</td>\n",
              "    </tr>\n",
              "    <tr>\n",
              "      <th>19</th>\n",
              "      <td>product_12806</td>\n",
              "      <td>baby</td>\n",
              "      <td>seller_3072</td>\n",
              "      <td>393.530769</td>\n",
              "      <td>2.8</td>\n",
              "      <td>12</td>\n",
              "    </tr>\n",
              "  </tbody>\n",
              "</table>\n",
              "</div>\n",
              "      <button class=\"colab-df-convert\" onclick=\"convertToInteractive('df-c12f1abc-5b77-4414-a391-de3a5c25be6e')\"\n",
              "              title=\"Convert this dataframe to an interactive table.\"\n",
              "              style=\"display:none;\">\n",
              "        \n",
              "  <svg xmlns=\"http://www.w3.org/2000/svg\" height=\"24px\"viewBox=\"0 0 24 24\"\n",
              "       width=\"24px\">\n",
              "    <path d=\"M0 0h24v24H0V0z\" fill=\"none\"/>\n",
              "    <path d=\"M18.56 5.44l.94 2.06.94-2.06 2.06-.94-2.06-.94-.94-2.06-.94 2.06-2.06.94zm-11 1L8.5 8.5l.94-2.06 2.06-.94-2.06-.94L8.5 2.5l-.94 2.06-2.06.94zm10 10l.94 2.06.94-2.06 2.06-.94-2.06-.94-.94-2.06-.94 2.06-2.06.94z\"/><path d=\"M17.41 7.96l-1.37-1.37c-.4-.4-.92-.59-1.43-.59-.52 0-1.04.2-1.43.59L10.3 9.45l-7.72 7.72c-.78.78-.78 2.05 0 2.83L4 21.41c.39.39.9.59 1.41.59.51 0 1.02-.2 1.41-.59l7.78-7.78 2.81-2.81c.8-.78.8-2.07 0-2.86zM5.41 20L4 18.59l7.72-7.72 1.47 1.35L5.41 20z\"/>\n",
              "  </svg>\n",
              "      </button>\n",
              "      \n",
              "  <style>\n",
              "    .colab-df-container {\n",
              "      display:flex;\n",
              "      flex-wrap:wrap;\n",
              "      gap: 12px;\n",
              "    }\n",
              "\n",
              "    .colab-df-convert {\n",
              "      background-color: #E8F0FE;\n",
              "      border: none;\n",
              "      border-radius: 50%;\n",
              "      cursor: pointer;\n",
              "      display: none;\n",
              "      fill: #1967D2;\n",
              "      height: 32px;\n",
              "      padding: 0 0 0 0;\n",
              "      width: 32px;\n",
              "    }\n",
              "\n",
              "    .colab-df-convert:hover {\n",
              "      background-color: #E2EBFA;\n",
              "      box-shadow: 0px 1px 2px rgba(60, 64, 67, 0.3), 0px 1px 3px 1px rgba(60, 64, 67, 0.15);\n",
              "      fill: #174EA6;\n",
              "    }\n",
              "\n",
              "    [theme=dark] .colab-df-convert {\n",
              "      background-color: #3B4455;\n",
              "      fill: #D2E3FC;\n",
              "    }\n",
              "\n",
              "    [theme=dark] .colab-df-convert:hover {\n",
              "      background-color: #434B5C;\n",
              "      box-shadow: 0px 1px 3px 1px rgba(0, 0, 0, 0.15);\n",
              "      filter: drop-shadow(0px 1px 2px rgba(0, 0, 0, 0.3));\n",
              "      fill: #FFFFFF;\n",
              "    }\n",
              "  </style>\n",
              "\n",
              "      <script>\n",
              "        const buttonEl =\n",
              "          document.querySelector('#df-c12f1abc-5b77-4414-a391-de3a5c25be6e button.colab-df-convert');\n",
              "        buttonEl.style.display =\n",
              "          google.colab.kernel.accessAllowed ? 'block' : 'none';\n",
              "\n",
              "        async function convertToInteractive(key) {\n",
              "          const element = document.querySelector('#df-c12f1abc-5b77-4414-a391-de3a5c25be6e');\n",
              "          const dataTable =\n",
              "            await google.colab.kernel.invokeFunction('convertToInteractive',\n",
              "                                                     [key], {});\n",
              "          if (!dataTable) return;\n",
              "\n",
              "          const docLinkHtml = 'Like what you see? Visit the ' +\n",
              "            '<a target=\"_blank\" href=https://colab.research.google.com/notebooks/data_table.ipynb>data table notebook</a>'\n",
              "            + ' to learn more about interactive tables.';\n",
              "          element.innerHTML = '';\n",
              "          dataTable['output_type'] = 'display_data';\n",
              "          await google.colab.output.renderOutput(dataTable, element);\n",
              "          const docLink = document.createElement('div');\n",
              "          docLink.innerHTML = docLinkHtml;\n",
              "          element.appendChild(docLink);\n",
              "        }\n",
              "      </script>\n",
              "    </div>\n",
              "  </div>\n",
              "  "
            ]
          },
          "metadata": {},
          "execution_count": 78
        }
      ]
    },
    {
      "cell_type": "markdown",
      "source": [
        "# Model Development dengan Collaborative Filtering"
      ],
      "metadata": {
        "id": "8r0wHXfE5zTb"
      }
    },
    {
      "cell_type": "markdown",
      "source": [
        "## Data Understanding"
      ],
      "metadata": {
        "id": "e2dPEBHThxye"
      }
    },
    {
      "cell_type": "code",
      "source": [
        "# Gabungkan dataset order items, order reviews, customers, dan product\n",
        "df = pd.merge(raw_order_items, raw_order_reviews, on='order_id')\n",
        "df = pd.merge(df, raw_orders, on='order_id')\n",
        "df = pd.merge(df, raw_cust, on='customer_id')\n",
        "df = pd.merge(df, raw_products[['product_id', 'product_category_name']],\n",
        "              on='product_id')\n",
        "df = pd.merge(df, raw_sellers, on='seller_id')\n",
        "df = pd.merge(df, rating_sold[['product_id', 'sold']], on='product_id')\n",
        "\n",
        "df.info()"
      ],
      "metadata": {
        "colab": {
          "base_uri": "https://localhost:8080/"
        },
        "id": "yn-huJELVI3k",
        "outputId": "5c2c625c-8730-4e57-a60d-26346b3f79a4"
      },
      "execution_count": null,
      "outputs": [
        {
          "output_type": "stream",
          "name": "stdout",
          "text": [
            "<class 'pandas.core.frame.DataFrame'>\n",
            "Int64Index: 108456 entries, 0 to 108455\n",
            "Data columns (total 14 columns):\n",
            " #   Column                 Non-Null Count   Dtype          \n",
            "---  ------                 --------------   -----          \n",
            " 0   order_id               108456 non-null  object         \n",
            " 1   product_id             108456 non-null  object         \n",
            " 2   seller_id              108456 non-null  object         \n",
            " 3   price                  108456 non-null  float64        \n",
            " 4   freight_value          108456 non-null  float64        \n",
            " 5   review_id              108456 non-null  object         \n",
            " 6   review_score           108456 non-null  int64          \n",
            " 7   customer_id            108456 non-null  object         \n",
            " 8   respons_time_order     108456 non-null  timedelta64[ns]\n",
            " 9   customer_unique_id     108456 non-null  object         \n",
            " 10  customer_city          108456 non-null  object         \n",
            " 11  product_category_name  108456 non-null  object         \n",
            " 12  seller_city            108456 non-null  object         \n",
            " 13  sold                   108456 non-null  int64          \n",
            "dtypes: float64(2), int64(2), object(9), timedelta64[ns](1)\n",
            "memory usage: 12.4+ MB\n"
          ]
        }
      ]
    },
    {
      "cell_type": "markdown",
      "source": [
        "Menghapus beberapa kolom yang tidak berguna"
      ],
      "metadata": {
        "id": "USN_723nbUeU"
      }
    },
    {
      "cell_type": "code",
      "source": [
        "df.drop(['order_id', 'freight_value', 'review_id','customer_id'], \n",
        "        axis=1, inplace=True)\n",
        "\n",
        "df.info()"
      ],
      "metadata": {
        "colab": {
          "base_uri": "https://localhost:8080/"
        },
        "id": "qWNIK0T4bRxA",
        "outputId": "12d18146-5e95-4293-de10-b17d2db300f0"
      },
      "execution_count": null,
      "outputs": [
        {
          "output_type": "stream",
          "name": "stdout",
          "text": [
            "<class 'pandas.core.frame.DataFrame'>\n",
            "Int64Index: 108456 entries, 0 to 108455\n",
            "Data columns (total 10 columns):\n",
            " #   Column                 Non-Null Count   Dtype          \n",
            "---  ------                 --------------   -----          \n",
            " 0   product_id             108456 non-null  object         \n",
            " 1   seller_id              108456 non-null  object         \n",
            " 2   price                  108456 non-null  float64        \n",
            " 3   review_score           108456 non-null  int64          \n",
            " 4   respons_time_order     108456 non-null  timedelta64[ns]\n",
            " 5   customer_unique_id     108456 non-null  object         \n",
            " 6   customer_city          108456 non-null  object         \n",
            " 7   product_category_name  108456 non-null  object         \n",
            " 8   seller_city            108456 non-null  object         \n",
            " 9   sold                   108456 non-null  int64          \n",
            "dtypes: float64(1), int64(2), object(6), timedelta64[ns](1)\n",
            "memory usage: 9.1+ MB\n"
          ]
        }
      ]
    },
    {
      "cell_type": "markdown",
      "source": [
        "## Data Preparation"
      ],
      "metadata": {
        "id": "d8jeZAfsh2Vf"
      }
    },
    {
      "cell_type": "code",
      "source": [
        "cust_ids = df['customer_unique_id'].unique().tolist()\n",
        "print('jumlah customer unik:', len(cust_ids))\n",
        "\n",
        "# Melakukan encoding custID\n",
        "user_to_user_encoded = {x: i for i, x in enumerate(cust_ids)}\n",
        "\n",
        "# Melakukan proses encoding angka ke ke custID\n",
        "user_encoded_to_user = {i: x for i, x in enumerate(cust_ids)}"
      ],
      "metadata": {
        "colab": {
          "base_uri": "https://localhost:8080/"
        },
        "id": "JjR_JD5EckJW",
        "outputId": "1d3765af-b84a-4e1b-a807-0dbdd6bec434"
      },
      "execution_count": null,
      "outputs": [
        {
          "output_type": "stream",
          "name": "stdout",
          "text": [
            "jumlah customer unik: 91479\n"
          ]
        }
      ]
    },
    {
      "cell_type": "code",
      "source": [
        "product_ids = df['product_id'].unique().tolist()\n",
        "print('jumlah product unik:', len(product_ids))\n",
        "\n",
        "# Melakukan encoding productID\n",
        "product_to_product_encoded = {x: i for i, x in enumerate(product_ids)}\n",
        "\n",
        "# Melakukan proses encoding angka ke ke productID\n",
        "product_encoded_to_product = {i: x for i, x in enumerate(product_ids)}"
      ],
      "metadata": {
        "colab": {
          "base_uri": "https://localhost:8080/"
        },
        "id": "0k2moVfnim4F",
        "outputId": "9e9dfa64-b684-4e9b-cf51-ed33c8c0180d"
      },
      "execution_count": null,
      "outputs": [
        {
          "output_type": "stream",
          "name": "stdout",
          "text": [
            "jumlah product unik: 31485\n"
          ]
        }
      ]
    },
    {
      "cell_type": "code",
      "source": [
        "# Mapping customer unique id ke dataframe customer\n",
        "df['customer'] = df['customer_unique_id'].map(user_to_user_encoded)\n",
        " \n",
        "# Mapping product id ke dataframe product\n",
        "df['product'] = df['product_id'].map(product_to_product_encoded)"
      ],
      "metadata": {
        "id": "DNXieCHyj_M6"
      },
      "execution_count": null,
      "outputs": []
    },
    {
      "cell_type": "code",
      "source": [
        "# Mendapatkan jumlah user\n",
        "num_customers = len(user_to_user_encoded)\n",
        "print(num_customers)\n",
        " \n",
        "# Mendapatkan jumlah produk\n",
        "num_products = len(product_encoded_to_product)\n",
        "print(num_products)\n",
        " \n",
        "# Nilai minimum rating\n",
        "min_rating = min(df['review_score'])\n",
        " \n",
        "# Nilai maksimal rating\n",
        "max_rating = max(df['review_score'])\n",
        " \n",
        "print('Number of User: {}, Number of Product: {}, Min Rating: {}, Max Rating: {}'.format(\n",
        "    num_customers, num_products, min_rating, max_rating\n",
        "))"
      ],
      "metadata": {
        "id": "b4uchwVikaLG"
      },
      "execution_count": null,
      "outputs": []
    },
    {
      "cell_type": "markdown",
      "source": [
        "## Split Data Train dan Data Test"
      ],
      "metadata": {
        "id": "A08q1O6ikw8r"
      }
    },
    {
      "cell_type": "code",
      "source": [
        "# Membuat variabel y untuk membuat rating dari hasil \n",
        "y = df['review_score'].apply(lambda x: (x - min_rating) / (max_rating - min_rating)).values\n",
        "\n",
        "x_train, x_val, y_train, y_val = train_test_split(df[['customer', 'product']].to_numpy(),\n",
        "                                                  y,\n",
        "                                                  test_size=0.2,\n",
        "                                                  random_state=453)\n",
        "\n",
        "print(x_train[:5])\n",
        "print(y_train[:5])"
      ],
      "metadata": {
        "colab": {
          "base_uri": "https://localhost:8080/"
        },
        "id": "U9RgfaHhkzLz",
        "outputId": "00715d99-5e84-4f00-8325-8b349f273c0b"
      },
      "execution_count": null,
      "outputs": [
        {
          "output_type": "stream",
          "name": "stdout",
          "text": [
            "[[31720  6136]\n",
            " [20025  3650]\n",
            " [ 8547  1329]\n",
            " [49016 11511]\n",
            " [11831  1992]]\n",
            "[0.25 1.   0.75 1.   1.  ]\n"
          ]
        }
      ]
    },
    {
      "cell_type": "markdown",
      "source": [
        "## Training"
      ],
      "metadata": {
        "id": "6Duxjeglly7s"
      }
    },
    {
      "cell_type": "code",
      "source": [
        "class RecommenderNet(tf.keras.Model):\n",
        " \n",
        "  # Insialisasi fungsi\n",
        "  def __init__(self, num_custs, num_products, embedding_size, **kwargs):\n",
        "    super(RecommenderNet, self).__init__(**kwargs)\n",
        "    self.num_custs = num_custs\n",
        "    self.num_products = num_products\n",
        "    self.embedding_size = embedding_size\n",
        "    self.user_embedding = layers.Embedding( # layer embedding user\n",
        "        num_custs,\n",
        "        embedding_size,\n",
        "        embeddings_initializer = 'he_normal',\n",
        "        embeddings_regularizer = keras.regularizers.l2(1e-6)\n",
        "    )\n",
        "    self.user_bias = layers.Embedding(num_custs, 1) # layer embedding user bias\n",
        "    self.product_embedding = layers.Embedding( # layer embeddings product\n",
        "        num_products,\n",
        "        embedding_size,\n",
        "        embeddings_initializer = 'he_normal',\n",
        "        embeddings_regularizer = keras.regularizers.l2(1e-6)\n",
        "    )\n",
        "    self.product_bias = layers.Embedding(num_products, 1) # layer embedding product bias\n",
        " \n",
        "  def call(self, inputs):\n",
        "    cust_vector = self.user_embedding(inputs[:,0]) # memanggil layer embedding 1\n",
        "    cust_bias = self.user_bias(inputs[:, 0]) # memanggil layer embedding 2\n",
        "    product_vector = self.product_embedding(inputs[:, 1]) # memanggil layer embedding 3\n",
        "    product_bias = self.product_bias(inputs[:, 1]) # memanggil layer embedding 4\n",
        " \n",
        "    dot_user_product = tf.tensordot(cust_vector, product_vector, 2) \n",
        " \n",
        "    x = dot_user_product + cust_bias + product_bias\n",
        "    \n",
        "    return tf.nn.sigmoid(x) # activation sigmoid"
      ],
      "metadata": {
        "id": "46WRw8zKlwnZ"
      },
      "execution_count": null,
      "outputs": []
    },
    {
      "cell_type": "code",
      "source": [
        "model = RecommenderNet(num_customers, num_products, 50) # inisialisasi model\n",
        " \n",
        "# model compile\n",
        "model.compile(\n",
        "    loss = tf.keras.losses.BinaryCrossentropy(),\n",
        "    optimizer = keras.optimizers.Adam(learning_rate=0.001),\n",
        "    metrics=[tf.keras.metrics.RootMeanSquaredError()]\n",
        ")\n",
        "\n",
        "hist = model.fit(\n",
        "    x = x_train,\n",
        "    y = y_train,\n",
        "    batch_size = 32,\n",
        "    epochs = 100,\n",
        "    validation_data = (x_val, y_val)\n",
        ")"
      ],
      "metadata": {
        "colab": {
          "base_uri": "https://localhost:8080/"
        },
        "id": "nPggwMd_mCQj",
        "outputId": "adbbb5d9-d73a-4aec-be93-3e587201b82c"
      },
      "execution_count": null,
      "outputs": [
        {
          "output_type": "stream",
          "name": "stdout",
          "text": [
            "Epoch 1/100\n",
            "2712/2712 [==============================] - 21s 7ms/step - loss: 0.6495 - root_mean_squared_error: 0.4059 - val_loss: 0.6005 - val_root_mean_squared_error: 0.3739\n",
            "Epoch 2/100\n",
            "2712/2712 [==============================] - 16s 6ms/step - loss: 0.5423 - root_mean_squared_error: 0.3365 - val_loss: 0.6146 - val_root_mean_squared_error: 0.3822\n",
            "Epoch 3/100\n",
            "2712/2712 [==============================] - 17s 6ms/step - loss: 0.5258 - root_mean_squared_error: 0.3270 - val_loss: 0.6118 - val_root_mean_squared_error: 0.3799\n",
            "Epoch 4/100\n",
            "2712/2712 [==============================] - 18s 7ms/step - loss: 0.5155 - root_mean_squared_error: 0.3205 - val_loss: 0.6126 - val_root_mean_squared_error: 0.3801\n",
            "Epoch 5/100\n",
            "2712/2712 [==============================] - 19s 7ms/step - loss: 0.5045 - root_mean_squared_error: 0.3136 - val_loss: 0.6057 - val_root_mean_squared_error: 0.3756\n",
            "Epoch 6/100\n",
            "2712/2712 [==============================] - 17s 6ms/step - loss: 0.4935 - root_mean_squared_error: 0.3062 - val_loss: 0.6030 - val_root_mean_squared_error: 0.3738\n",
            "Epoch 7/100\n",
            "2712/2712 [==============================] - 17s 6ms/step - loss: 0.4828 - root_mean_squared_error: 0.2997 - val_loss: 0.5979 - val_root_mean_squared_error: 0.3707\n",
            "Epoch 8/100\n",
            "2712/2712 [==============================] - 17s 6ms/step - loss: 0.4705 - root_mean_squared_error: 0.2919 - val_loss: 0.5959 - val_root_mean_squared_error: 0.3695\n",
            "Epoch 9/100\n",
            "2712/2712 [==============================] - 17s 6ms/step - loss: 0.4593 - root_mean_squared_error: 0.2842 - val_loss: 0.5928 - val_root_mean_squared_error: 0.3678\n",
            "Epoch 10/100\n",
            "2712/2712 [==============================] - 16s 6ms/step - loss: 0.4485 - root_mean_squared_error: 0.2772 - val_loss: 0.5884 - val_root_mean_squared_error: 0.3652\n",
            "Epoch 11/100\n",
            "2712/2712 [==============================] - 16s 6ms/step - loss: 0.4385 - root_mean_squared_error: 0.2703 - val_loss: 0.5869 - val_root_mean_squared_error: 0.3645\n",
            "Epoch 12/100\n",
            "2712/2712 [==============================] - 16s 6ms/step - loss: 0.4286 - root_mean_squared_error: 0.2633 - val_loss: 0.5823 - val_root_mean_squared_error: 0.3619\n",
            "Epoch 13/100\n",
            "2712/2712 [==============================] - 17s 6ms/step - loss: 0.4191 - root_mean_squared_error: 0.2562 - val_loss: 0.5791 - val_root_mean_squared_error: 0.3601\n",
            "Epoch 14/100\n",
            "2712/2712 [==============================] - 17s 6ms/step - loss: 0.4102 - root_mean_squared_error: 0.2500 - val_loss: 0.5777 - val_root_mean_squared_error: 0.3595\n",
            "Epoch 15/100\n",
            "2712/2712 [==============================] - 17s 6ms/step - loss: 0.4038 - root_mean_squared_error: 0.2452 - val_loss: 0.5745 - val_root_mean_squared_error: 0.3577\n",
            "Epoch 16/100\n",
            "2712/2712 [==============================] - 18s 7ms/step - loss: 0.3935 - root_mean_squared_error: 0.2379 - val_loss: 0.5744 - val_root_mean_squared_error: 0.3580\n",
            "Epoch 17/100\n",
            "2712/2712 [==============================] - 20s 7ms/step - loss: 0.3880 - root_mean_squared_error: 0.2335 - val_loss: 0.5716 - val_root_mean_squared_error: 0.3564\n",
            "Epoch 18/100\n",
            "2712/2712 [==============================] - 26s 10ms/step - loss: 0.3789 - root_mean_squared_error: 0.2267 - val_loss: 0.5689 - val_root_mean_squared_error: 0.3549\n",
            "Epoch 19/100\n",
            "2712/2712 [==============================] - 20s 7ms/step - loss: 0.3727 - root_mean_squared_error: 0.2216 - val_loss: 0.5654 - val_root_mean_squared_error: 0.3529\n",
            "Epoch 20/100\n",
            "2712/2712 [==============================] - 17s 6ms/step - loss: 0.3665 - root_mean_squared_error: 0.2170 - val_loss: 0.5650 - val_root_mean_squared_error: 0.3529\n",
            "Epoch 21/100\n",
            "2712/2712 [==============================] - 17s 6ms/step - loss: 0.3601 - root_mean_squared_error: 0.2120 - val_loss: 0.5631 - val_root_mean_squared_error: 0.3520\n",
            "Epoch 22/100\n",
            "2712/2712 [==============================] - 17s 6ms/step - loss: 0.3536 - root_mean_squared_error: 0.2065 - val_loss: 0.5588 - val_root_mean_squared_error: 0.3495\n",
            "Epoch 23/100\n",
            "2712/2712 [==============================] - 22s 8ms/step - loss: 0.3474 - root_mean_squared_error: 0.2014 - val_loss: 0.5573 - val_root_mean_squared_error: 0.3488\n",
            "Epoch 24/100\n",
            "2712/2712 [==============================] - 22s 8ms/step - loss: 0.3412 - root_mean_squared_error: 0.1965 - val_loss: 0.5574 - val_root_mean_squared_error: 0.3490\n",
            "Epoch 25/100\n",
            "2712/2712 [==============================] - 17s 6ms/step - loss: 0.3354 - root_mean_squared_error: 0.1913 - val_loss: 0.5532 - val_root_mean_squared_error: 0.3465\n",
            "Epoch 26/100\n",
            "2712/2712 [==============================] - 20s 7ms/step - loss: 0.3311 - root_mean_squared_error: 0.1880 - val_loss: 0.5513 - val_root_mean_squared_error: 0.3454\n",
            "Epoch 27/100\n",
            "2712/2712 [==============================] - 17s 6ms/step - loss: 0.3257 - root_mean_squared_error: 0.1830 - val_loss: 0.5485 - val_root_mean_squared_error: 0.3437\n",
            "Epoch 28/100\n",
            "2712/2712 [==============================] - 17s 6ms/step - loss: 0.3206 - root_mean_squared_error: 0.1787 - val_loss: 0.5481 - val_root_mean_squared_error: 0.3437\n",
            "Epoch 29/100\n",
            "2712/2712 [==============================] - 18s 7ms/step - loss: 0.3169 - root_mean_squared_error: 0.1752 - val_loss: 0.5467 - val_root_mean_squared_error: 0.3430\n",
            "Epoch 30/100\n",
            "2712/2712 [==============================] - 18s 7ms/step - loss: 0.3115 - root_mean_squared_error: 0.1706 - val_loss: 0.5469 - val_root_mean_squared_error: 0.3433\n",
            "Epoch 31/100\n",
            "2712/2712 [==============================] - 17s 6ms/step - loss: 0.3075 - root_mean_squared_error: 0.1665 - val_loss: 0.5444 - val_root_mean_squared_error: 0.3418\n",
            "Epoch 32/100\n",
            "2712/2712 [==============================] - 21s 8ms/step - loss: 0.3029 - root_mean_squared_error: 0.1630 - val_loss: 0.5451 - val_root_mean_squared_error: 0.3424\n",
            "Epoch 33/100\n",
            "2712/2712 [==============================] - 17s 6ms/step - loss: 0.2992 - root_mean_squared_error: 0.1589 - val_loss: 0.5429 - val_root_mean_squared_error: 0.3410\n",
            "Epoch 34/100\n",
            "2712/2712 [==============================] - 17s 6ms/step - loss: 0.2950 - root_mean_squared_error: 0.1552 - val_loss: 0.5413 - val_root_mean_squared_error: 0.3402\n",
            "Epoch 35/100\n",
            "2712/2712 [==============================] - 16s 6ms/step - loss: 0.2915 - root_mean_squared_error: 0.1517 - val_loss: 0.5403 - val_root_mean_squared_error: 0.3396\n",
            "Epoch 36/100\n",
            "2712/2712 [==============================] - 17s 6ms/step - loss: 0.2875 - root_mean_squared_error: 0.1480 - val_loss: 0.5407 - val_root_mean_squared_error: 0.3400\n",
            "Epoch 37/100\n",
            "2712/2712 [==============================] - 17s 6ms/step - loss: 0.2846 - root_mean_squared_error: 0.1450 - val_loss: 0.5390 - val_root_mean_squared_error: 0.3389\n",
            "Epoch 38/100\n",
            "2712/2712 [==============================] - 17s 6ms/step - loss: 0.2812 - root_mean_squared_error: 0.1418 - val_loss: 0.5393 - val_root_mean_squared_error: 0.3392\n",
            "Epoch 39/100\n",
            "2712/2712 [==============================] - 17s 6ms/step - loss: 0.2779 - root_mean_squared_error: 0.1381 - val_loss: 0.5385 - val_root_mean_squared_error: 0.3387\n",
            "Epoch 40/100\n",
            "2712/2712 [==============================] - 17s 6ms/step - loss: 0.2749 - root_mean_squared_error: 0.1352 - val_loss: 0.5374 - val_root_mean_squared_error: 0.3380\n",
            "Epoch 41/100\n",
            "2712/2712 [==============================] - 18s 6ms/step - loss: 0.2717 - root_mean_squared_error: 0.1319 - val_loss: 0.5370 - val_root_mean_squared_error: 0.3377\n",
            "Epoch 42/100\n",
            "2712/2712 [==============================] - 17s 6ms/step - loss: 0.2691 - root_mean_squared_error: 0.1291 - val_loss: 0.5367 - val_root_mean_squared_error: 0.3375\n",
            "Epoch 43/100\n",
            "2712/2712 [==============================] - 17s 6ms/step - loss: 0.2668 - root_mean_squared_error: 0.1269 - val_loss: 0.5368 - val_root_mean_squared_error: 0.3376\n",
            "Epoch 44/100\n",
            "2712/2712 [==============================] - 16s 6ms/step - loss: 0.2637 - root_mean_squared_error: 0.1237 - val_loss: 0.5369 - val_root_mean_squared_error: 0.3375\n",
            "Epoch 45/100\n",
            "2712/2712 [==============================] - 17s 6ms/step - loss: 0.2613 - root_mean_squared_error: 0.1204 - val_loss: 0.5359 - val_root_mean_squared_error: 0.3369\n",
            "Epoch 46/100\n",
            "2712/2712 [==============================] - 17s 6ms/step - loss: 0.2589 - root_mean_squared_error: 0.1184 - val_loss: 0.5352 - val_root_mean_squared_error: 0.3364\n",
            "Epoch 47/100\n",
            "2712/2712 [==============================] - 17s 6ms/step - loss: 0.2561 - root_mean_squared_error: 0.1152 - val_loss: 0.5348 - val_root_mean_squared_error: 0.3360\n",
            "Epoch 48/100\n",
            "2712/2712 [==============================] - 17s 6ms/step - loss: 0.2539 - root_mean_squared_error: 0.1126 - val_loss: 0.5343 - val_root_mean_squared_error: 0.3356\n",
            "Epoch 49/100\n",
            "2712/2712 [==============================] - 17s 6ms/step - loss: 0.2515 - root_mean_squared_error: 0.1099 - val_loss: 0.5340 - val_root_mean_squared_error: 0.3353\n",
            "Epoch 50/100\n",
            "2712/2712 [==============================] - 17s 6ms/step - loss: 0.2498 - root_mean_squared_error: 0.1084 - val_loss: 0.5346 - val_root_mean_squared_error: 0.3356\n",
            "Epoch 51/100\n",
            "2712/2712 [==============================] - 17s 6ms/step - loss: 0.2477 - root_mean_squared_error: 0.1056 - val_loss: 0.5331 - val_root_mean_squared_error: 0.3344\n",
            "Epoch 52/100\n",
            "2712/2712 [==============================] - 24s 9ms/step - loss: 0.2454 - root_mean_squared_error: 0.1029 - val_loss: 0.5339 - val_root_mean_squared_error: 0.3349\n",
            "Epoch 53/100\n",
            "2712/2712 [==============================] - 21s 8ms/step - loss: 0.2437 - root_mean_squared_error: 0.1007 - val_loss: 0.5334 - val_root_mean_squared_error: 0.3344\n",
            "Epoch 54/100\n",
            "2712/2712 [==============================] - 17s 6ms/step - loss: 0.2418 - root_mean_squared_error: 0.0987 - val_loss: 0.5337 - val_root_mean_squared_error: 0.3344\n",
            "Epoch 55/100\n",
            "2712/2712 [==============================] - 17s 6ms/step - loss: 0.2401 - root_mean_squared_error: 0.0965 - val_loss: 0.5334 - val_root_mean_squared_error: 0.3340\n",
            "Epoch 56/100\n",
            "2712/2712 [==============================] - 17s 6ms/step - loss: 0.2383 - root_mean_squared_error: 0.0942 - val_loss: 0.5337 - val_root_mean_squared_error: 0.3339\n",
            "Epoch 57/100\n",
            "2712/2712 [==============================] - 18s 6ms/step - loss: 0.2367 - root_mean_squared_error: 0.0924 - val_loss: 0.5340 - val_root_mean_squared_error: 0.3340\n",
            "Epoch 58/100\n",
            "2712/2712 [==============================] - 17s 6ms/step - loss: 0.2349 - root_mean_squared_error: 0.0901 - val_loss: 0.5342 - val_root_mean_squared_error: 0.3340\n",
            "Epoch 59/100\n",
            "2712/2712 [==============================] - 18s 7ms/step - loss: 0.2334 - root_mean_squared_error: 0.0881 - val_loss: 0.5339 - val_root_mean_squared_error: 0.3334\n",
            "Epoch 60/100\n",
            "2712/2712 [==============================] - 18s 6ms/step - loss: 0.2319 - root_mean_squared_error: 0.0862 - val_loss: 0.5340 - val_root_mean_squared_error: 0.3335\n",
            "Epoch 61/100\n",
            "2712/2712 [==============================] - 18s 6ms/step - loss: 0.2306 - root_mean_squared_error: 0.0846 - val_loss: 0.5339 - val_root_mean_squared_error: 0.3330\n",
            "Epoch 62/100\n",
            "2712/2712 [==============================] - 17s 6ms/step - loss: 0.2291 - root_mean_squared_error: 0.0828 - val_loss: 0.5345 - val_root_mean_squared_error: 0.3331\n",
            "Epoch 63/100\n",
            "2712/2712 [==============================] - 17s 6ms/step - loss: 0.2277 - root_mean_squared_error: 0.0809 - val_loss: 0.5351 - val_root_mean_squared_error: 0.3334\n",
            "Epoch 64/100\n",
            "2712/2712 [==============================] - 18s 6ms/step - loss: 0.2264 - root_mean_squared_error: 0.0789 - val_loss: 0.5350 - val_root_mean_squared_error: 0.3329\n",
            "Epoch 65/100\n",
            "2712/2712 [==============================] - 17s 6ms/step - loss: 0.2251 - root_mean_squared_error: 0.0775 - val_loss: 0.5359 - val_root_mean_squared_error: 0.3333\n",
            "Epoch 66/100\n",
            "2712/2712 [==============================] - 17s 6ms/step - loss: 0.2239 - root_mean_squared_error: 0.0757 - val_loss: 0.5360 - val_root_mean_squared_error: 0.3330\n",
            "Epoch 67/100\n",
            "2712/2712 [==============================] - 17s 6ms/step - loss: 0.2228 - root_mean_squared_error: 0.0743 - val_loss: 0.5366 - val_root_mean_squared_error: 0.3331\n",
            "Epoch 68/100\n",
            "2712/2712 [==============================] - 16s 6ms/step - loss: 0.2215 - root_mean_squared_error: 0.0725 - val_loss: 0.5368 - val_root_mean_squared_error: 0.3329\n",
            "Epoch 69/100\n",
            "2712/2712 [==============================] - 17s 6ms/step - loss: 0.2205 - root_mean_squared_error: 0.0712 - val_loss: 0.5372 - val_root_mean_squared_error: 0.3329\n",
            "Epoch 70/100\n",
            "2712/2712 [==============================] - 17s 6ms/step - loss: 0.2195 - root_mean_squared_error: 0.0698 - val_loss: 0.5383 - val_root_mean_squared_error: 0.3333\n",
            "Epoch 71/100\n",
            "2712/2712 [==============================] - 17s 6ms/step - loss: 0.2184 - root_mean_squared_error: 0.0684 - val_loss: 0.5385 - val_root_mean_squared_error: 0.3331\n",
            "Epoch 72/100\n",
            "2712/2712 [==============================] - 17s 6ms/step - loss: 0.2175 - root_mean_squared_error: 0.0671 - val_loss: 0.5388 - val_root_mean_squared_error: 0.3329\n",
            "Epoch 73/100\n",
            "2712/2712 [==============================] - 17s 6ms/step - loss: 0.2165 - root_mean_squared_error: 0.0657 - val_loss: 0.5392 - val_root_mean_squared_error: 0.3327\n",
            "Epoch 74/100\n",
            "2712/2712 [==============================] - 18s 7ms/step - loss: 0.2155 - root_mean_squared_error: 0.0643 - val_loss: 0.5398 - val_root_mean_squared_error: 0.3328\n",
            "Epoch 75/100\n",
            "2712/2712 [==============================] - 18s 7ms/step - loss: 0.2147 - root_mean_squared_error: 0.0632 - val_loss: 0.5408 - val_root_mean_squared_error: 0.3331\n",
            "Epoch 76/100\n",
            "2712/2712 [==============================] - 17s 6ms/step - loss: 0.2138 - root_mean_squared_error: 0.0618 - val_loss: 0.5410 - val_root_mean_squared_error: 0.3328\n",
            "Epoch 77/100\n",
            "2712/2712 [==============================] - 18s 6ms/step - loss: 0.2129 - root_mean_squared_error: 0.0606 - val_loss: 0.5422 - val_root_mean_squared_error: 0.3332\n",
            "Epoch 78/100\n",
            "2712/2712 [==============================] - 17s 6ms/step - loss: 0.2122 - root_mean_squared_error: 0.0596 - val_loss: 0.5423 - val_root_mean_squared_error: 0.3328\n",
            "Epoch 79/100\n",
            "2712/2712 [==============================] - 18s 6ms/step - loss: 0.2114 - root_mean_squared_error: 0.0585 - val_loss: 0.5432 - val_root_mean_squared_error: 0.3330\n",
            "Epoch 80/100\n",
            "2712/2712 [==============================] - 18s 7ms/step - loss: 0.2106 - root_mean_squared_error: 0.0573 - val_loss: 0.5439 - val_root_mean_squared_error: 0.3330\n",
            "Epoch 81/100\n",
            "2712/2712 [==============================] - 17s 6ms/step - loss: 0.2099 - root_mean_squared_error: 0.0564 - val_loss: 0.5449 - val_root_mean_squared_error: 0.3333\n",
            "Epoch 82/100\n",
            "2712/2712 [==============================] - 18s 6ms/step - loss: 0.2092 - root_mean_squared_error: 0.0554 - val_loss: 0.5459 - val_root_mean_squared_error: 0.3336\n",
            "Epoch 83/100\n",
            "2712/2712 [==============================] - 18s 7ms/step - loss: 0.2085 - root_mean_squared_error: 0.0544 - val_loss: 0.5469 - val_root_mean_squared_error: 0.3338\n",
            "Epoch 84/100\n",
            "2712/2712 [==============================] - 17s 6ms/step - loss: 0.2079 - root_mean_squared_error: 0.0535 - val_loss: 0.5474 - val_root_mean_squared_error: 0.3337\n",
            "Epoch 85/100\n",
            "2712/2712 [==============================] - 16s 6ms/step - loss: 0.2072 - root_mean_squared_error: 0.0525 - val_loss: 0.5485 - val_root_mean_squared_error: 0.3340\n",
            "Epoch 86/100\n",
            "2712/2712 [==============================] - 18s 6ms/step - loss: 0.2066 - root_mean_squared_error: 0.0517 - val_loss: 0.5492 - val_root_mean_squared_error: 0.3340\n",
            "Epoch 87/100\n",
            "2712/2712 [==============================] - 17s 6ms/step - loss: 0.2061 - root_mean_squared_error: 0.0510 - val_loss: 0.5497 - val_root_mean_squared_error: 0.3338\n",
            "Epoch 88/100\n",
            "2712/2712 [==============================] - 17s 6ms/step - loss: 0.2055 - root_mean_squared_error: 0.0501 - val_loss: 0.5509 - val_root_mean_squared_error: 0.3342\n",
            "Epoch 89/100\n",
            "2712/2712 [==============================] - 18s 7ms/step - loss: 0.2049 - root_mean_squared_error: 0.0494 - val_loss: 0.5517 - val_root_mean_squared_error: 0.3342\n",
            "Epoch 90/100\n",
            "2712/2712 [==============================] - 18s 6ms/step - loss: 0.2044 - root_mean_squared_error: 0.0486 - val_loss: 0.5530 - val_root_mean_squared_error: 0.3346\n",
            "Epoch 91/100\n",
            "2712/2712 [==============================] - 18s 6ms/step - loss: 0.2039 - root_mean_squared_error: 0.0479 - val_loss: 0.5538 - val_root_mean_squared_error: 0.3346\n",
            "Epoch 92/100\n",
            "2712/2712 [==============================] - 17s 6ms/step - loss: 0.2034 - root_mean_squared_error: 0.0473 - val_loss: 0.5544 - val_root_mean_squared_error: 0.3346\n",
            "Epoch 93/100\n",
            "2712/2712 [==============================] - 17s 6ms/step - loss: 0.2029 - root_mean_squared_error: 0.0466 - val_loss: 0.5554 - val_root_mean_squared_error: 0.3347\n",
            "Epoch 94/100\n",
            "2712/2712 [==============================] - 18s 7ms/step - loss: 0.2025 - root_mean_squared_error: 0.0460 - val_loss: 0.5562 - val_root_mean_squared_error: 0.3348\n",
            "Epoch 95/100\n",
            "2712/2712 [==============================] - 18s 6ms/step - loss: 0.2020 - root_mean_squared_error: 0.0454 - val_loss: 0.5571 - val_root_mean_squared_error: 0.3348\n",
            "Epoch 96/100\n",
            "2712/2712 [==============================] - 17s 6ms/step - loss: 0.2016 - root_mean_squared_error: 0.0448 - val_loss: 0.5581 - val_root_mean_squared_error: 0.3350\n",
            "Epoch 97/100\n",
            "2712/2712 [==============================] - 17s 6ms/step - loss: 0.2012 - root_mean_squared_error: 0.0442 - val_loss: 0.5590 - val_root_mean_squared_error: 0.3351\n",
            "Epoch 98/100\n",
            "2712/2712 [==============================] - 17s 6ms/step - loss: 0.2008 - root_mean_squared_error: 0.0438 - val_loss: 0.5598 - val_root_mean_squared_error: 0.3351\n",
            "Epoch 99/100\n",
            "2712/2712 [==============================] - 16s 6ms/step - loss: 0.2004 - root_mean_squared_error: 0.0431 - val_loss: 0.5607 - val_root_mean_squared_error: 0.3352\n",
            "Epoch 100/100\n",
            "2712/2712 [==============================] - 18s 7ms/step - loss: 0.2000 - root_mean_squared_error: 0.0427 - val_loss: 0.5617 - val_root_mean_squared_error: 0.3353\n"
          ]
        }
      ]
    },
    {
      "cell_type": "code",
      "source": [
        "plt.plot(hist.history['root_mean_squared_error'])\n",
        "plt.plot(hist.history['val_root_mean_squared_error'])\n",
        "plt.title('model_metrics')\n",
        "plt.ylabel('root_mean_squared_error')\n",
        "plt.xlabel('epoch')\n",
        "plt.legend(['train', 'test'], loc='upper left')\n",
        "plt.show()"
      ],
      "metadata": {
        "colab": {
          "base_uri": "https://localhost:8080/",
          "height": 472
        },
        "id": "nortwTSMvwlP",
        "outputId": "1ba517c2-0990-40d7-bbb0-3240291590ac"
      },
      "execution_count": null,
      "outputs": [
        {
          "output_type": "display_data",
          "data": {
            "text/plain": [
              "<Figure size 640x480 with 1 Axes>"
            ],
            "image/png": "[encoded data removed]"
          },
          "metadata": {}
        }
      ]
    },
    {
      "cell_type": "markdown",
      "source": [
        "## Mendapatkan Rekomendasi"
      ],
      "metadata": {
        "id": "X0rcqHIqxDhH"
      }
    },
    {
      "cell_type": "code",
      "source": [
        "product_df = pd.merge(raw_products,\n",
        "                      raw_order_items[['product_id',\n",
        "                                       'seller_id']].drop_duplicates('product_id'),\n",
        "                      on='product_id', how='left')\n",
        "df2 = df\n",
        "\n",
        "# Mengambil sample user\n",
        "user_id = df2.groupby('customer_unique_id').count()\n",
        "user_id = user_id[user_id['product_id'] > 5].sample(1).index[0]\n",
        "\n",
        "# user_id = df2.customer_unique_id.sample(1).iloc[0]\n",
        "product_bought_by_user = df2[df2.customer_unique_id == user_id]\n",
        "\n",
        "product_not_bought = product_df[~product_df['product_id'].isin(product_bought_by_user.product_id.values)]['product_id'] \n",
        "product_not_bought = list(\n",
        "    set(product_not_bought)\n",
        "    .intersection(set(product_to_product_encoded.keys()))\n",
        ")\n",
        "\n",
        "product_not_bought = [[product_to_product_encoded.get(x)] for x in product_not_bought]\n",
        "user_encoder = user_to_user_encoded.get(user_id)\n",
        "user_product_array = np.hstack(\n",
        "    ([[user_encoder]] * len(product_not_bought), product_not_bought)\n",
        ")\n",
        "\n",
        "# predict rekomendasi\n",
        "ratings = model.predict(user_product_array).flatten()\n",
        "\n",
        "top_ratings_indices = ratings.argsort()[-10:][::-1]\n",
        "top_ratings_indices\n",
        "\n",
        "recommended_product_ids = [\n",
        "    product_encoded_to_product.get(product_not_bought[x][0]) for x in top_ratings_indices\n",
        "]\n",
        "\n",
        "print('\\nShowing recommendations for users:\\n{}'.format(user_id))\n",
        "print('===' * 9)\n",
        " \n",
        "top_product_user = (\n",
        "    product_bought_by_user.drop_duplicates('product_id')\n",
        "    .sort_values(\n",
        "        by = 'review_score',\n",
        "        ascending=False\n",
        "    )\n",
        "    .head(5)\n",
        "    .product_id.values\n",
        ")\n",
        "\n",
        "print('\\n\\nProduct with high reviews from user')\n",
        "product_df_rows = product_df[product_df['product_id'].isin(top_product_user)]\n",
        "for row in product_df_rows.itertuples():\n",
        "    print(row.product_id, ':', row.product_category_name)\n",
        "\n",
        "print('\\n\\nTop 10 product recommendation')\n",
        "\n",
        "recommended_product = product_df[product_df['product_id'].isin(recommended_product_ids)]\n",
        "for i, row in enumerate(recommended_product.itertuples()):\n",
        "    print(i+1, '.', row.product_id, '\\t:', row.product_category_name,\n",
        "          '\\n   ', row.seller_id)"
      ],
      "metadata": {
        "colab": {
          "base_uri": "https://localhost:8080/"
        },
        "id": "MqLkdYkwH8Mo",
        "outputId": "39affbb5-5af2-4245-be92-4688a94e2ffd"
      },
      "execution_count": null,
      "outputs": [
        {
          "output_type": "stream",
          "name": "stdout",
          "text": [
            "984/984 [==============================] - 2s 2ms/step\n",
            "\n",
            "Showing recommendations for users:\n",
            "bf429f20c75a39eab83442cda8e59832\n",
            "===========================\n",
            "\n",
            "\n",
            "Product with high reviews from user\n",
            "product_10362 : sports_leisure\n",
            "\n",
            "\n",
            "Top 10 product recommendation\n",
            "1 . product_9949 \t: furniture_decor \n",
            "    seller_443\n",
            "2 . product_5630 \t: fixed_telephony \n",
            "    seller_1043\n",
            "3 . product_31762 \t: small_appliances \n",
            "    seller_2915\n",
            "4 . product_29040 \t: stationery \n",
            "    seller_1787\n",
            "5 . product_11817 \t: health_beauty \n",
            "    seller_1210\n",
            "6 . product_16087 \t: stationery \n",
            "    seller_668\n",
            "7 . product_21496 \t: fashion_bags_accessories \n",
            "    seller_1277\n",
            "8 . product_7408 \t: housewares \n",
            "    seller_1815\n",
            "9 . product_8130 \t: baby \n",
            "    seller_434\n",
            "10 . product_9125 \t: stationery \n",
            "    seller_157\n"
          ]
        }
      ]
    },
    {
      "cell_type": "code",
      "source": [
        "df2[df2['customer_unique_id'] == user_id]"
      ],
      "metadata": {
        "colab": {
          "base_uri": "https://localhost:8080/",
          "height": 354
        },
        "id": "UgsTTD6xHlub",
        "outputId": "7c8946bf-7413-43ee-fce5-b0946dce0cf8"
      },
      "execution_count": null,
      "outputs": [
        {
          "output_type": "execute_result",
          "data": {
            "text/plain": [
              "          product_id   seller_id  price  review_score respons_time_order  \\\n",
              "21505  product_10362  seller_785  105.0             5    0 days 02:04:03   \n",
              "21506  product_10362  seller_785  105.0             5    0 days 02:04:03   \n",
              "21507  product_10362  seller_785  105.0             5    0 days 02:04:03   \n",
              "21515  product_10362  seller_438  104.9             5    0 days 00:39:50   \n",
              "21516  product_10362  seller_438  104.9             5    0 days 00:39:50   \n",
              "21517  product_10362  seller_438  104.9             5    0 days 00:39:50   \n",
              "\n",
              "                     customer_unique_id customer_city product_category_name  \\\n",
              "21505  bf429f20c75a39eab83442cda8e59832  santo angelo        sports_leisure   \n",
              "21506  bf429f20c75a39eab83442cda8e59832  santo angelo        sports_leisure   \n",
              "21507  bf429f20c75a39eab83442cda8e59832  santo angelo        sports_leisure   \n",
              "21515  bf429f20c75a39eab83442cda8e59832  santo angelo        sports_leisure   \n",
              "21516  bf429f20c75a39eab83442cda8e59832  santo angelo        sports_leisure   \n",
              "21517  bf429f20c75a39eab83442cda8e59832  santo angelo        sports_leisure   \n",
              "\n",
              "              seller_city  sold  customer  product  \n",
              "21505            curitiba    13     18440     3408  \n",
              "21506            curitiba    13     18440     3408  \n",
              "21507            curitiba    13     18440     3408  \n",
              "21515  sao joao de meriti    13     18440     3408  \n",
              "21516  sao joao de meriti    13     18440     3408  \n",
              "21517  sao joao de meriti    13     18440     3408  "
            ],
            "text/html": [
              "\n",
              "  <div id=\"df-cf2a6b00-bed2-428c-8c97-f8c15f199fb9\">\n",
              "    <div class=\"colab-df-container\">\n",
              "      <div>\n",
              "<style scoped>\n",
              "    .dataframe tbody tr th:only-of-type {\n",
              "        vertical-align: middle;\n",
              "    }\n",
              "\n",
              "    .dataframe tbody tr th {\n",
              "        vertical-align: top;\n",
              "    }\n",
              "\n",
              "    .dataframe thead th {\n",
              "        text-align: right;\n",
              "    }\n",
              "</style>\n",
              "<table border=\"1\" class=\"dataframe\">\n",
              "  <thead>\n",
              "    <tr style=\"text-align: right;\">\n",
              "      <th></th>\n",
              "      <th>product_id</th>\n",
              "      <th>seller_id</th>\n",
              "      <th>price</th>\n",
              "      <th>review_score</th>\n",
              "      <th>respons_time_order</th>\n",
              "      <th>customer_unique_id</th>\n",
              "      <th>customer_city</th>\n",
              "      <th>product_category_name</th>\n",
              "      <th>seller_city</th>\n",
              "      <th>sold</th>\n",
              "      <th>customer</th>\n",
              "      <th>product</th>\n",
              "    </tr>\n",
              "  </thead>\n",
              "  <tbody>\n",
              "    <tr>\n",
              "      <th>21505</th>\n",
              "      <td>product_10362</td>\n",
              "      <td>seller_785</td>\n",
              "      <td>105.0</td>\n",
              "      <td>5</td>\n",
              "      <td>0 days 02:04:03</td>\n",
              "      <td>bf429f20c75a39eab83442cda8e59832</td>\n",
              "      <td>santo angelo</td>\n",
              "      <td>sports_leisure</td>\n",
              "      <td>curitiba</td>\n",
              "      <td>13</td>\n",
              "      <td>18440</td>\n",
              "      <td>3408</td>\n",
              "    </tr>\n",
              "    <tr>\n",
              "      <th>21506</th>\n",
              "      <td>product_10362</td>\n",
              "      <td>seller_785</td>\n",
              "      <td>105.0</td>\n",
              "      <td>5</td>\n",
              "      <td>0 days 02:04:03</td>\n",
              "      <td>bf429f20c75a39eab83442cda8e59832</td>\n",
              "      <td>santo angelo</td>\n",
              "      <td>sports_leisure</td>\n",
              "      <td>curitiba</td>\n",
              "      <td>13</td>\n",
              "      <td>18440</td>\n",
              "      <td>3408</td>\n",
              "    </tr>\n",
              "    <tr>\n",
              "      <th>21507</th>\n",
              "      <td>product_10362</td>\n",
              "      <td>seller_785</td>\n",
              "      <td>105.0</td>\n",
              "      <td>5</td>\n",
              "      <td>0 days 02:04:03</td>\n",
              "      <td>bf429f20c75a39eab83442cda8e59832</td>\n",
              "      <td>santo angelo</td>\n",
              "      <td>sports_leisure</td>\n",
              "      <td>curitiba</td>\n",
              "      <td>13</td>\n",
              "      <td>18440</td>\n",
              "      <td>3408</td>\n",
              "    </tr>\n",
              "    <tr>\n",
              "      <th>21515</th>\n",
              "      <td>product_10362</td>\n",
              "      <td>seller_438</td>\n",
              "      <td>104.9</td>\n",
              "      <td>5</td>\n",
              "      <td>0 days 00:39:50</td>\n",
              "      <td>bf429f20c75a39eab83442cda8e59832</td>\n",
              "      <td>santo angelo</td>\n",
              "      <td>sports_leisure</td>\n",
              "      <td>sao joao de meriti</td>\n",
              "      <td>13</td>\n",
              "      <td>18440</td>\n",
              "      <td>3408</td>\n",
              "    </tr>\n",
              "    <tr>\n",
              "      <th>21516</th>\n",
              "      <td>product_10362</td>\n",
              "      <td>seller_438</td>\n",
              "      <td>104.9</td>\n",
              "      <td>5</td>\n",
              "      <td>0 days 00:39:50</td>\n",
              "      <td>bf429f20c75a39eab83442cda8e59832</td>\n",
              "      <td>santo angelo</td>\n",
              "      <td>sports_leisure</td>\n",
              "      <td>sao joao de meriti</td>\n",
              "      <td>13</td>\n",
              "      <td>18440</td>\n",
              "      <td>3408</td>\n",
              "    </tr>\n",
              "    <tr>\n",
              "      <th>21517</th>\n",
              "      <td>product_10362</td>\n",
              "      <td>seller_438</td>\n",
              "      <td>104.9</td>\n",
              "      <td>5</td>\n",
              "      <td>0 days 00:39:50</td>\n",
              "      <td>bf429f20c75a39eab83442cda8e59832</td>\n",
              "      <td>santo angelo</td>\n",
              "      <td>sports_leisure</td>\n",
              "      <td>sao joao de meriti</td>\n",
              "      <td>13</td>\n",
              "      <td>18440</td>\n",
              "      <td>3408</td>\n",
              "    </tr>\n",
              "  </tbody>\n",
              "</table>\n",
              "</div>\n",
              "      <button class=\"colab-df-convert\" onclick=\"convertToInteractive('df-cf2a6b00-bed2-428c-8c97-f8c15f199fb9')\"\n",
              "              title=\"Convert this dataframe to an interactive table.\"\n",
              "              style=\"display:none;\">\n",
              "        \n",
              "  <svg xmlns=\"http://www.w3.org/2000/svg\" height=\"24px\"viewBox=\"0 0 24 24\"\n",
              "       width=\"24px\">\n",
              "    <path d=\"M0 0h24v24H0V0z\" fill=\"none\"/>\n",
              "    <path d=\"M18.56 5.44l.94 2.06.94-2.06 2.06-.94-2.06-.94-.94-2.06-.94 2.06-2.06.94zm-11 1L8.5 8.5l.94-2.06 2.06-.94-2.06-.94L8.5 2.5l-.94 2.06-2.06.94zm10 10l.94 2.06.94-2.06 2.06-.94-2.06-.94-.94-2.06-.94 2.06-2.06.94z\"/><path d=\"M17.41 7.96l-1.37-1.37c-.4-.4-.92-.59-1.43-.59-.52 0-1.04.2-1.43.59L10.3 9.45l-7.72 7.72c-.78.78-.78 2.05 0 2.83L4 21.41c.39.39.9.59 1.41.59.51 0 1.02-.2 1.41-.59l7.78-7.78 2.81-2.81c.8-.78.8-2.07 0-2.86zM5.41 20L4 18.59l7.72-7.72 1.47 1.35L5.41 20z\"/>\n",
              "  </svg>\n",
              "      </button>\n",
              "      \n",
              "  <style>\n",
              "    .colab-df-container {\n",
              "      display:flex;\n",
              "      flex-wrap:wrap;\n",
              "      gap: 12px;\n",
              "    }\n",
              "\n",
              "    .colab-df-convert {\n",
              "      background-color: #E8F0FE;\n",
              "      border: none;\n",
              "      border-radius: 50%;\n",
              "      cursor: pointer;\n",
              "      display: none;\n",
              "      fill: #1967D2;\n",
              "      height: 32px;\n",
              "      padding: 0 0 0 0;\n",
              "      width: 32px;\n",
              "    }\n",
              "\n",
              "    .colab-df-convert:hover {\n",
              "      background-color: #E2EBFA;\n",
              "      box-shadow: 0px 1px 2px rgba(60, 64, 67, 0.3), 0px 1px 3px 1px rgba(60, 64, 67, 0.15);\n",
              "      fill: #174EA6;\n",
              "    }\n",
              "\n",
              "    [theme=dark] .colab-df-convert {\n",
              "      background-color: #3B4455;\n",
              "      fill: #D2E3FC;\n",
              "    }\n",
              "\n",
              "    [theme=dark] .colab-df-convert:hover {\n",
              "      background-color: #434B5C;\n",
              "      box-shadow: 0px 1px 3px 1px rgba(0, 0, 0, 0.15);\n",
              "      filter: drop-shadow(0px 1px 2px rgba(0, 0, 0, 0.3));\n",
              "      fill: #FFFFFF;\n",
              "    }\n",
              "  </style>\n",
              "\n",
              "      <script>\n",
              "        const buttonEl =\n",
              "          document.querySelector('#df-cf2a6b00-bed2-428c-8c97-f8c15f199fb9 button.colab-df-convert');\n",
              "        buttonEl.style.display =\n",
              "          google.colab.kernel.accessAllowed ? 'block' : 'none';\n",
              "\n",
              "        async function convertToInteractive(key) {\n",
              "          const element = document.querySelector('#df-cf2a6b00-bed2-428c-8c97-f8c15f199fb9');\n",
              "          const dataTable =\n",
              "            await google.colab.kernel.invokeFunction('convertToInteractive',\n",
              "                                                     [key], {});\n",
              "          if (!dataTable) return;\n",
              "\n",
              "          const docLinkHtml = 'Like what you see? Visit the ' +\n",
              "            '<a target=\"_blank\" href=https://colab.research.google.com/notebooks/data_table.ipynb>data table notebook</a>'\n",
              "            + ' to learn more about interactive tables.';\n",
              "          element.innerHTML = '';\n",
              "          dataTable['output_type'] = 'display_data';\n",
              "          await google.colab.output.renderOutput(dataTable, element);\n",
              "          const docLink = document.createElement('div');\n",
              "          docLink.innerHTML = docLinkHtml;\n",
              "          element.appendChild(docLink);\n",
              "        }\n",
              "      </script>\n",
              "    </div>\n",
              "  </div>\n",
              "  "
            ]
          },
          "metadata": {},
          "execution_count": 189
        }
      ]
    }
  ]
}